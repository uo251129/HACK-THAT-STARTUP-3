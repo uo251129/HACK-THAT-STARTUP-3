{
  "nbformat": 4,
  "nbformat_minor": 0,
  "metadata": {
    "colab": {
      "name": "Grupo3.ipynb",
      "provenance": [],
      "collapsed_sections": [],
      "toc_visible": true
    },
    "kernelspec": {
      "name": "python3",
      "display_name": "Python 3"
    },
    "language_info": {
      "name": "python"
    },
    "accelerator": "GPU"
  },
  "cells": [
    {
      "cell_type": "markdown",
      "metadata": {
        "id": "ElspAwqGOmMg"
      },
      "source": [
        "<h1><center>🚀HACK THAT STARTUP VOL.3🚀</center></h1>\n",
        "<h1><center>Data Science</center></h1>\n",
        "<h1><center>Reto Grupal</center></h1>"
      ]
    },
    {
      "cell_type": "markdown",
      "metadata": {
        "id": "u80hCuUYQOJp"
      },
      "source": [
        "![Picture](https://drive.google.com/uc?export=view&id=1k0vRq3SloreAf9_blkzRRYIHAUU15bhs)"
      ]
    },
    {
      "cell_type": "markdown",
      "metadata": {
        "id": "R1LWyp-TOx10"
      },
      "source": [
        "# Team information"
      ]
    },
    {
      "cell_type": "markdown",
      "metadata": {
        "id": "j3qwMcNhW18h"
      },
      "source": [
        "Team: **Grupo 3**\n",
        "\n",
        "* Francisco Manuel Mendoza Soto\n",
        "* César Álvarez Rubio\n",
        "* Walquer Xavier Valles Ruiz\n"
      ]
    },
    {
      "cell_type": "markdown",
      "metadata": {
        "id": "YdC6-DIiTRsU"
      },
      "source": [
        "# Problem information"
      ]
    },
    {
      "cell_type": "markdown",
      "metadata": {
        "id": "SyKak7vhTYTj"
      },
      "source": [
        "We are facing a new space race for **asteroid mining**. There are legal limitations so that these can be exploited, but **the acceptance of missions over those that are potentially dangerous** to our planet is favored.\n",
        "\n",
        "Mining companies focus on identifying potentially dangerous asteroids. Currently computationally expensive calculations are used to classify these celestial bodies.\n",
        "\n",
        "For this reason, an algorithm that takes physical and orbital characteristics to **classify asteroids in dangerous or not is needed**."
      ]
    },
    {
      "cell_type": "markdown",
      "metadata": {
        "id": "i0RQK5CTTd6Q"
      },
      "source": [
        "# Tasks"
      ]
    },
    {
      "cell_type": "markdown",
      "metadata": {
        "id": "6lofYVJaThNA"
      },
      "source": [
        "1. Treat the data so that it can be easily analyzed.\n",
        "\n",
        "2. Create the best ML or DL algorithm to classify asteroids as dangerous or not.\n",
        "\n",
        "3. Evaluate the accuracy of your algorithm by calculating the 'f score (macro)'."
      ]
    },
    {
      "cell_type": "markdown",
      "metadata": {
        "id": "tRM94ZFiTnOI"
      },
      "source": [
        "# Dataset"
      ]
    },
    {
      "cell_type": "markdown",
      "metadata": {
        "id": "EeGP1DvcTr_K"
      },
      "source": [
        "Link: [Git Hub de Nuwe.io](https://github.com/nuwe-io/HTS3-DataScience-Team)<br>\n",
        "Number of files: 1<br>\n",
        "Name of dataset file: pha_asteroids.csv<br>\n",
        "Date of report: 30/05/2021<br>\n",
        "Number of observations: 25,894<br>\n",
        "Number of features: 25<br>\n",
        "Base format: .csv"
      ]
    },
    {
      "cell_type": "markdown",
      "metadata": {
        "id": "C8qIwQVQNzl_"
      },
      "source": [
        "# Import packages"
      ]
    },
    {
      "cell_type": "code",
      "metadata": {
        "id": "MLfSWLglWxf5"
      },
      "source": [
        "# Imports\n",
        "import pandas as pd\n",
        "pd.options.mode.chained_assignment = None\n",
        "import numpy as np\n",
        "from sklearn.utils import shuffle\n",
        "from sklearn.preprocessing import MaxAbsScaler\n",
        "from sklearn.svm import SVC\n",
        "from google.colab import files\n",
        "from sklearn.metrics import f1_score, accuracy_score\n",
        "from numpy.random import seed\n",
        "\n",
        "\n",
        "# Deep learning\n",
        "import tensorflow\n",
        "from keras.models import Sequential\n",
        "from keras.layers import Dense, Dropout\n",
        "from keras.optimizers import Adam\n",
        "\n",
        "# xgBoost\n",
        "import xgboost as xgb"
      ],
      "execution_count": null,
      "outputs": []
    },
    {
      "cell_type": "markdown",
      "metadata": {
        "id": "pj9hdrrMYlmQ"
      },
      "source": [
        "# Data Exploration"
      ]
    },
    {
      "cell_type": "markdown",
      "metadata": {
        "id": "tc3f1hjXPwTi"
      },
      "source": [
        "We start loading the data directly from github, and having a look at it."
      ]
    },
    {
      "cell_type": "code",
      "metadata": {
        "colab": {
          "base_uri": "https://localhost:8080/"
        },
        "id": "85UX1lPWZGDw",
        "outputId": "dd1eebc2-d4ef-443f-90a0-f255fc1a2e0f"
      },
      "source": [
        "url = \"https://raw.githubusercontent.com/nuwe-io/HTS3-DataScience-Team/main/pha_asteroids.csv\"\n",
        "df = pd.read_csv(url)\n",
        "\n",
        "df.info()"
      ],
      "execution_count": null,
      "outputs": [
        {
          "output_type": "stream",
          "text": [
            "<class 'pandas.core.frame.DataFrame'>\n",
            "RangeIndex: 25894 entries, 0 to 25893\n",
            "Data columns (total 25 columns):\n",
            " #   Column          Non-Null Count  Dtype  \n",
            "---  ------          --------------  -----  \n",
            " 0   spkid           25894 non-null  int64  \n",
            " 1   full_name       25894 non-null  object \n",
            " 2   a               25894 non-null  float64\n",
            " 3   e               25894 non-null  float64\n",
            " 4   i               25894 non-null  float64\n",
            " 5   om              25894 non-null  float64\n",
            " 6   w               25894 non-null  float64\n",
            " 7   q               25894 non-null  float64\n",
            " 8   ad              25894 non-null  float64\n",
            " 9   per_y           25894 non-null  float64\n",
            " 10  data_arc        25667 non-null  float64\n",
            " 11  condition_code  25893 non-null  float64\n",
            " 12  n_obs_used      25894 non-null  int64  \n",
            " 13  n_del_obs_used  925 non-null    float64\n",
            " 14  n_dop_obs_used  925 non-null    float64\n",
            " 15  H               25887 non-null  float64\n",
            " 16  diameter        1251 non-null   float64\n",
            " 17  extent          9 non-null      object \n",
            " 18  albedo          1206 non-null   float64\n",
            " 19  rot_per         1818 non-null   float64\n",
            " 20  GM              4 non-null      float64\n",
            " 21  BV              38 non-null     float64\n",
            " 22  UB              38 non-null     float64\n",
            " 23  IR              1 non-null      float64\n",
            " 24  pha             25892 non-null  object \n",
            "dtypes: float64(20), int64(2), object(3)\n",
            "memory usage: 4.9+ MB\n"
          ],
          "name": "stdout"
        }
      ]
    },
    {
      "cell_type": "code",
      "metadata": {
        "colab": {
          "base_uri": "https://localhost:8080/",
          "height": 343
        },
        "id": "awZB_8FgbMV7",
        "outputId": "8d95194c-2a00-4c2f-c9f6-aa836a7104fe"
      },
      "source": [
        "df.head()"
      ],
      "execution_count": null,
      "outputs": [
        {
          "output_type": "execute_result",
          "data": {
            "text/html": [
              "<div>\n",
              "<style scoped>\n",
              "    .dataframe tbody tr th:only-of-type {\n",
              "        vertical-align: middle;\n",
              "    }\n",
              "\n",
              "    .dataframe tbody tr th {\n",
              "        vertical-align: top;\n",
              "    }\n",
              "\n",
              "    .dataframe thead th {\n",
              "        text-align: right;\n",
              "    }\n",
              "</style>\n",
              "<table border=\"1\" class=\"dataframe\">\n",
              "  <thead>\n",
              "    <tr style=\"text-align: right;\">\n",
              "      <th></th>\n",
              "      <th>spkid</th>\n",
              "      <th>full_name</th>\n",
              "      <th>a</th>\n",
              "      <th>e</th>\n",
              "      <th>i</th>\n",
              "      <th>om</th>\n",
              "      <th>w</th>\n",
              "      <th>q</th>\n",
              "      <th>ad</th>\n",
              "      <th>per_y</th>\n",
              "      <th>data_arc</th>\n",
              "      <th>condition_code</th>\n",
              "      <th>n_obs_used</th>\n",
              "      <th>n_del_obs_used</th>\n",
              "      <th>n_dop_obs_used</th>\n",
              "      <th>H</th>\n",
              "      <th>diameter</th>\n",
              "      <th>extent</th>\n",
              "      <th>albedo</th>\n",
              "      <th>rot_per</th>\n",
              "      <th>GM</th>\n",
              "      <th>BV</th>\n",
              "      <th>UB</th>\n",
              "      <th>IR</th>\n",
              "      <th>pha</th>\n",
              "    </tr>\n",
              "  </thead>\n",
              "  <tbody>\n",
              "    <tr>\n",
              "      <th>0</th>\n",
              "      <td>2000433</td>\n",
              "      <td>433 Eros (A898 PA)</td>\n",
              "      <td>1.458167</td>\n",
              "      <td>0.222994</td>\n",
              "      <td>10.830513</td>\n",
              "      <td>304.299134</td>\n",
              "      <td>178.868934</td>\n",
              "      <td>1.133005</td>\n",
              "      <td>1.783330</td>\n",
              "      <td>1.760837</td>\n",
              "      <td>46330.0</td>\n",
              "      <td>0.0</td>\n",
              "      <td>8767</td>\n",
              "      <td>4.0</td>\n",
              "      <td>2.0</td>\n",
              "      <td>10.42</td>\n",
              "      <td>16.840</td>\n",
              "      <td>34.4x11.2x11.2</td>\n",
              "      <td>0.250</td>\n",
              "      <td>5.270</td>\n",
              "      <td>0.000446</td>\n",
              "      <td>0.921</td>\n",
              "      <td>0.531</td>\n",
              "      <td>NaN</td>\n",
              "      <td>N</td>\n",
              "    </tr>\n",
              "    <tr>\n",
              "      <th>1</th>\n",
              "      <td>2000719</td>\n",
              "      <td>719 Albert (A911 TB)</td>\n",
              "      <td>2.638378</td>\n",
              "      <td>0.546721</td>\n",
              "      <td>11.570400</td>\n",
              "      <td>183.858330</td>\n",
              "      <td>156.191216</td>\n",
              "      <td>1.195922</td>\n",
              "      <td>4.080833</td>\n",
              "      <td>4.285620</td>\n",
              "      <td>40008.0</td>\n",
              "      <td>0.0</td>\n",
              "      <td>1890</td>\n",
              "      <td>NaN</td>\n",
              "      <td>NaN</td>\n",
              "      <td>15.51</td>\n",
              "      <td>NaN</td>\n",
              "      <td>NaN</td>\n",
              "      <td>NaN</td>\n",
              "      <td>5.801</td>\n",
              "      <td>NaN</td>\n",
              "      <td>NaN</td>\n",
              "      <td>NaN</td>\n",
              "      <td>NaN</td>\n",
              "      <td>N</td>\n",
              "    </tr>\n",
              "    <tr>\n",
              "      <th>2</th>\n",
              "      <td>2000887</td>\n",
              "      <td>887 Alinda (A918 AA)</td>\n",
              "      <td>2.473534</td>\n",
              "      <td>0.570422</td>\n",
              "      <td>9.393849</td>\n",
              "      <td>110.433729</td>\n",
              "      <td>350.512509</td>\n",
              "      <td>1.062575</td>\n",
              "      <td>3.884493</td>\n",
              "      <td>3.890317</td>\n",
              "      <td>37722.0</td>\n",
              "      <td>0.0</td>\n",
              "      <td>2510</td>\n",
              "      <td>NaN</td>\n",
              "      <td>NaN</td>\n",
              "      <td>13.84</td>\n",
              "      <td>4.200</td>\n",
              "      <td>NaN</td>\n",
              "      <td>0.310</td>\n",
              "      <td>28.410</td>\n",
              "      <td>NaN</td>\n",
              "      <td>0.832</td>\n",
              "      <td>0.436</td>\n",
              "      <td>NaN</td>\n",
              "      <td>N</td>\n",
              "    </tr>\n",
              "    <tr>\n",
              "      <th>3</th>\n",
              "      <td>2001036</td>\n",
              "      <td>1036 Ganymed (A924 UB)</td>\n",
              "      <td>2.665194</td>\n",
              "      <td>0.533095</td>\n",
              "      <td>26.676143</td>\n",
              "      <td>215.544210</td>\n",
              "      <td>132.378538</td>\n",
              "      <td>1.244392</td>\n",
              "      <td>4.085995</td>\n",
              "      <td>4.351123</td>\n",
              "      <td>35257.0</td>\n",
              "      <td>0.0</td>\n",
              "      <td>7044</td>\n",
              "      <td>0.0</td>\n",
              "      <td>1.0</td>\n",
              "      <td>9.25</td>\n",
              "      <td>37.675</td>\n",
              "      <td>NaN</td>\n",
              "      <td>0.238</td>\n",
              "      <td>10.297</td>\n",
              "      <td>NaN</td>\n",
              "      <td>0.842</td>\n",
              "      <td>0.417</td>\n",
              "      <td>NaN</td>\n",
              "      <td>N</td>\n",
              "    </tr>\n",
              "    <tr>\n",
              "      <th>4</th>\n",
              "      <td>2001221</td>\n",
              "      <td>1221 Amor (1932 EA1)</td>\n",
              "      <td>1.919166</td>\n",
              "      <td>0.435488</td>\n",
              "      <td>11.880444</td>\n",
              "      <td>171.316487</td>\n",
              "      <td>26.677583</td>\n",
              "      <td>1.083392</td>\n",
              "      <td>2.754939</td>\n",
              "      <td>2.658746</td>\n",
              "      <td>32328.0</td>\n",
              "      <td>0.0</td>\n",
              "      <td>552</td>\n",
              "      <td>NaN</td>\n",
              "      <td>NaN</td>\n",
              "      <td>17.39</td>\n",
              "      <td>1.000</td>\n",
              "      <td>NaN</td>\n",
              "      <td>NaN</td>\n",
              "      <td>NaN</td>\n",
              "      <td>NaN</td>\n",
              "      <td>NaN</td>\n",
              "      <td>NaN</td>\n",
              "      <td>NaN</td>\n",
              "      <td>N</td>\n",
              "    </tr>\n",
              "  </tbody>\n",
              "</table>\n",
              "</div>"
            ],
            "text/plain": [
              "     spkid                 full_name         a         e  ...     BV     UB  IR  pha\n",
              "0  2000433        433 Eros (A898 PA)  1.458167  0.222994  ...  0.921  0.531 NaN    N\n",
              "1  2000719      719 Albert (A911 TB)  2.638378  0.546721  ...    NaN    NaN NaN    N\n",
              "2  2000887      887 Alinda (A918 AA)  2.473534  0.570422  ...  0.832  0.436 NaN    N\n",
              "3  2001036    1036 Ganymed (A924 UB)  2.665194  0.533095  ...  0.842  0.417 NaN    N\n",
              "4  2001221      1221 Amor (1932 EA1)  1.919166  0.435488  ...    NaN    NaN NaN    N\n",
              "\n",
              "[5 rows x 25 columns]"
            ]
          },
          "metadata": {
            "tags": []
          },
          "execution_count": 3
        }
      ]
    },
    {
      "cell_type": "code",
      "metadata": {
        "colab": {
          "base_uri": "https://localhost:8080/"
        },
        "id": "4kNPStNx47TC",
        "outputId": "48e60bf2-06a7-4aff-ac3e-4c6ddd9738dd"
      },
      "source": [
        "df.loc[:,'pha'].value_counts()"
      ],
      "execution_count": null,
      "outputs": [
        {
          "output_type": "execute_result",
          "data": {
            "text/plain": [
              "N    23727\n",
              "Y     2165\n",
              "Name: pha, dtype: int64"
            ]
          },
          "metadata": {
            "tags": []
          },
          "execution_count": 5
        }
      ]
    },
    {
      "cell_type": "markdown",
      "metadata": {
        "id": "riN61a1FQD-F"
      },
      "source": [
        "We can see that the dataset has a total of 25 variables: 24 features and the target variable. Many of this features have a lot of missing value that we shall imputate during the pre-processing step.\n",
        "\n",
        "Also, some of the dataset seems to be numerical while others are continuous. Some encoding might be due during the pre-processing step.\n",
        "\n",
        "Another obvious problem is that the dataset is clearly unbalanced, having a lot more rows being classified as not hazardous than otherwise. This problem shall be considered.\n",
        "\n",
        "\n",
        "\n"
      ]
    },
    {
      "cell_type": "markdown",
      "metadata": {
        "id": "UPP-vvpPYn8v"
      },
      "source": [
        "# Data pre-processing"
      ]
    },
    {
      "cell_type": "markdown",
      "metadata": {
        "id": "siPxAhRJx8ck"
      },
      "source": [
        "## Row and feature filtering"
      ]
    },
    {
      "cell_type": "markdown",
      "metadata": {
        "id": "idVB2sdSRVGd"
      },
      "source": [
        "We have to take a decision about which features to keep and which to drop.\n",
        "\n",
        "First off, we decided that the features **spkid and full_name would be dropped**, since neither of them add any important information about the asteroids, therefore they would be not be useful in the task of classifying them.\n",
        "\n",
        "Then, we decided to also **dropout the features: Extent, GM, BV, UB and IR**, since only a very few of rows have non-null values for those features (all less than 50). Therefore, they are not very usefull."
      ]
    },
    {
      "cell_type": "code",
      "metadata": {
        "id": "9epTGUTne_rH"
      },
      "source": [
        "features_to_remove = [0, 1, 17, 20, 21, 22, 23]\n",
        "features_to_keep = list(range(25))\n",
        "for feature_to_remove in features_to_remove:\n",
        "  features_to_keep.remove(feature_to_remove)\n",
        "\n",
        "\n",
        "filtered_df = df.iloc[:,features_to_keep]"
      ],
      "execution_count": null,
      "outputs": []
    },
    {
      "cell_type": "code",
      "metadata": {
        "colab": {
          "base_uri": "https://localhost:8080/"
        },
        "id": "aVkA5VHtgLFJ",
        "outputId": "d779c452-359c-43c1-8d7d-ad39a3818165"
      },
      "source": [
        "print(features_to_keep)\n",
        "filtered_df.info()"
      ],
      "execution_count": null,
      "outputs": [
        {
          "output_type": "stream",
          "text": [
            "[2, 3, 4, 5, 6, 7, 8, 9, 10, 11, 12, 13, 14, 15, 16, 18, 19, 24]\n",
            "<class 'pandas.core.frame.DataFrame'>\n",
            "RangeIndex: 25894 entries, 0 to 25893\n",
            "Data columns (total 18 columns):\n",
            " #   Column          Non-Null Count  Dtype  \n",
            "---  ------          --------------  -----  \n",
            " 0   a               25894 non-null  float64\n",
            " 1   e               25894 non-null  float64\n",
            " 2   i               25894 non-null  float64\n",
            " 3   om              25894 non-null  float64\n",
            " 4   w               25894 non-null  float64\n",
            " 5   q               25894 non-null  float64\n",
            " 6   ad              25894 non-null  float64\n",
            " 7   per_y           25894 non-null  float64\n",
            " 8   data_arc        25667 non-null  float64\n",
            " 9   condition_code  25893 non-null  float64\n",
            " 10  n_obs_used      25894 non-null  int64  \n",
            " 11  n_del_obs_used  925 non-null    float64\n",
            " 12  n_dop_obs_used  925 non-null    float64\n",
            " 13  H               25887 non-null  float64\n",
            " 14  diameter        1251 non-null   float64\n",
            " 15  albedo          1206 non-null   float64\n",
            " 16  rot_per         1818 non-null   float64\n",
            " 17  pha             25892 non-null  object \n",
            "dtypes: float64(16), int64(1), object(1)\n",
            "memory usage: 3.6+ MB\n"
          ],
          "name": "stdout"
        }
      ]
    },
    {
      "cell_type": "markdown",
      "metadata": {
        "id": "J6wwm3iAhFh1"
      },
      "source": [
        "It is necessary to **filter out the rows that do not have a non-null pha feature**, because to do supervised learning each data elements needs to be previously classified."
      ]
    },
    {
      "cell_type": "code",
      "metadata": {
        "id": "iWm1hJ3hhCZX"
      },
      "source": [
        "filtered_df = filtered_df[[not element for element in list(df.loc[:,'pha'].isnull())]]"
      ],
      "execution_count": null,
      "outputs": []
    },
    {
      "cell_type": "code",
      "metadata": {
        "colab": {
          "base_uri": "https://localhost:8080/"
        },
        "id": "WC007KUtjZ9_",
        "outputId": "7abbfeac-ec37-4861-a776-779441dddb97"
      },
      "source": [
        "filtered_df.info()"
      ],
      "execution_count": null,
      "outputs": [
        {
          "output_type": "stream",
          "text": [
            "<class 'pandas.core.frame.DataFrame'>\n",
            "Int64Index: 25892 entries, 0 to 25893\n",
            "Data columns (total 18 columns):\n",
            " #   Column          Non-Null Count  Dtype  \n",
            "---  ------          --------------  -----  \n",
            " 0   a               25892 non-null  float64\n",
            " 1   e               25892 non-null  float64\n",
            " 2   i               25892 non-null  float64\n",
            " 3   om              25892 non-null  float64\n",
            " 4   w               25892 non-null  float64\n",
            " 5   q               25892 non-null  float64\n",
            " 6   ad              25892 non-null  float64\n",
            " 7   per_y           25892 non-null  float64\n",
            " 8   data_arc        25666 non-null  float64\n",
            " 9   condition_code  25891 non-null  float64\n",
            " 10  n_obs_used      25892 non-null  int64  \n",
            " 11  n_del_obs_used  925 non-null    float64\n",
            " 12  n_dop_obs_used  925 non-null    float64\n",
            " 13  H               25885 non-null  float64\n",
            " 14  diameter        1251 non-null   float64\n",
            " 15  albedo          1206 non-null   float64\n",
            " 16  rot_per         1818 non-null   float64\n",
            " 17  pha             25892 non-null  object \n",
            "dtypes: float64(16), int64(1), object(1)\n",
            "memory usage: 3.8+ MB\n"
          ],
          "name": "stdout"
        }
      ]
    },
    {
      "cell_type": "markdown",
      "metadata": {
        "id": "3jRF7xE1m3lN"
      },
      "source": [
        "Also, we are going to **filter out the only row that has a missing value** for the condition_code feature."
      ]
    },
    {
      "cell_type": "code",
      "metadata": {
        "colab": {
          "base_uri": "https://localhost:8080/"
        },
        "id": "vtbw9T6rmmno",
        "outputId": "afced61e-343a-4c0f-f062-0fdb72d644c0"
      },
      "source": [
        "filtered_df = filtered_df[[not element for element in list(filtered_df.loc[:,'condition_code'].isnull())]]\n",
        "filtered_df.info()"
      ],
      "execution_count": null,
      "outputs": [
        {
          "output_type": "stream",
          "text": [
            "<class 'pandas.core.frame.DataFrame'>\n",
            "Int64Index: 25891 entries, 0 to 25893\n",
            "Data columns (total 18 columns):\n",
            " #   Column          Non-Null Count  Dtype  \n",
            "---  ------          --------------  -----  \n",
            " 0   a               25891 non-null  float64\n",
            " 1   e               25891 non-null  float64\n",
            " 2   i               25891 non-null  float64\n",
            " 3   om              25891 non-null  float64\n",
            " 4   w               25891 non-null  float64\n",
            " 5   q               25891 non-null  float64\n",
            " 6   ad              25891 non-null  float64\n",
            " 7   per_y           25891 non-null  float64\n",
            " 8   data_arc        25665 non-null  float64\n",
            " 9   condition_code  25891 non-null  float64\n",
            " 10  n_obs_used      25891 non-null  int64  \n",
            " 11  n_del_obs_used  925 non-null    float64\n",
            " 12  n_dop_obs_used  925 non-null    float64\n",
            " 13  H               25884 non-null  float64\n",
            " 14  diameter        1251 non-null   float64\n",
            " 15  albedo          1206 non-null   float64\n",
            " 16  rot_per         1818 non-null   float64\n",
            " 17  pha             25891 non-null  object \n",
            "dtypes: float64(16), int64(1), object(1)\n",
            "memory usage: 3.8+ MB\n"
          ],
          "name": "stdout"
        }
      ]
    },
    {
      "cell_type": "markdown",
      "metadata": {
        "id": "tJwTcO6jyBJh"
      },
      "source": [
        "## Data set splitting"
      ]
    },
    {
      "cell_type": "markdown",
      "metadata": {
        "id": "te4QXQeIVrJm"
      },
      "source": [
        "We are splitting the dataset in train, validation, and test sets."
      ]
    },
    {
      "cell_type": "code",
      "metadata": {
        "id": "k-_qiZQgrn6y"
      },
      "source": [
        "shuffled_df = shuffle(filtered_df, random_state = 0)\n",
        "\n",
        "val_split = int(0.8 * len(shuffled_df.index))\n",
        "test_split = int(0.9 * len(shuffled_df.index))\n",
        "\n",
        "train_df = shuffled_df.iloc[:val_split,:]\n",
        "val_df = shuffled_df.iloc[val_split:test_split,:]\n",
        "test_df = shuffled_df.iloc[test_split:,:]"
      ],
      "execution_count": null,
      "outputs": []
    },
    {
      "cell_type": "code",
      "metadata": {
        "colab": {
          "base_uri": "https://localhost:8080/"
        },
        "id": "T2FMVey2tC1c",
        "outputId": "8bf7f4ac-c556-4f35-a3eb-781d1c9653a6"
      },
      "source": [
        "train_df.loc[:,\"pha\"].value_counts(normalize = True)"
      ],
      "execution_count": null,
      "outputs": [
        {
          "output_type": "execute_result",
          "data": {
            "text/plain": [
              "N    0.917729\n",
              "Y    0.082271\n",
              "Name: pha, dtype: float64"
            ]
          },
          "metadata": {
            "tags": []
          },
          "execution_count": 10
        }
      ]
    },
    {
      "cell_type": "code",
      "metadata": {
        "colab": {
          "base_uri": "https://localhost:8080/"
        },
        "id": "eAkeElCRtDOu",
        "outputId": "c8f01fad-b0a5-439b-acf0-1d5ef0ca12be"
      },
      "source": [
        "val_df.loc[:,\"pha\"].value_counts(normalize = True)"
      ],
      "execution_count": null,
      "outputs": [
        {
          "output_type": "execute_result",
          "data": {
            "text/plain": [
              "N    0.908459\n",
              "Y    0.091541\n",
              "Name: pha, dtype: float64"
            ]
          },
          "metadata": {
            "tags": []
          },
          "execution_count": 11
        }
      ]
    },
    {
      "cell_type": "code",
      "metadata": {
        "colab": {
          "base_uri": "https://localhost:8080/"
        },
        "id": "YVph1ZFhtDBt",
        "outputId": "5f432395-b9c4-42c1-86b8-18ce9b944cb4"
      },
      "source": [
        "test_df.loc[:,\"pha\"].value_counts(normalize = True)"
      ],
      "execution_count": null,
      "outputs": [
        {
          "output_type": "execute_result",
          "data": {
            "text/plain": [
              "N    0.913514\n",
              "Y    0.086486\n",
              "Name: pha, dtype: float64"
            ]
          },
          "metadata": {
            "tags": []
          },
          "execution_count": 12
        }
      ]
    },
    {
      "cell_type": "markdown",
      "metadata": {
        "id": "j1iMoP--yHJb"
      },
      "source": [
        "## Missing data imputation"
      ]
    },
    {
      "cell_type": "markdown",
      "metadata": {
        "id": "AGG69OVanaUN"
      },
      "source": [
        "For the **features 11 and 12**, that represent the number of observation that have been obtained from two different types of radars, we have decided to **impute the missing values with minus one**, with it meaning that no observation have been obtained from neither radar."
      ]
    },
    {
      "cell_type": "code",
      "metadata": {
        "id": "RfPdkRRNnthO"
      },
      "source": [
        "def impute_missing_assigning_minus_one(data, feature_index):\n",
        "  indixes_missing = np.where(data.iloc[:,feature_index].isnull())[0]\n",
        "  data.iloc[indixes_missing, feature_index] = -1\n",
        "\n",
        "impute_missing_assigning_minus_one(train_df, 11)\n",
        "impute_missing_assigning_minus_one(train_df, 12)\n",
        "\n",
        "impute_missing_assigning_minus_one(val_df, 11)\n",
        "impute_missing_assigning_minus_one(val_df, 12)\n",
        "\n",
        "impute_missing_assigning_minus_one(test_df, 11)\n",
        "impute_missing_assigning_minus_one(test_df, 12)"
      ],
      "execution_count": null,
      "outputs": []
    },
    {
      "cell_type": "code",
      "metadata": {
        "colab": {
          "base_uri": "https://localhost:8080/"
        },
        "id": "2kIY8J_9yOCG",
        "outputId": "669fc520-e3b1-4890-f0b4-9689463863ae"
      },
      "source": [
        "train_df.info()"
      ],
      "execution_count": null,
      "outputs": [
        {
          "output_type": "stream",
          "text": [
            "<class 'pandas.core.frame.DataFrame'>\n",
            "Int64Index: 20712 entries, 21232 to 20522\n",
            "Data columns (total 18 columns):\n",
            " #   Column          Non-Null Count  Dtype  \n",
            "---  ------          --------------  -----  \n",
            " 0   a               20712 non-null  float64\n",
            " 1   e               20712 non-null  float64\n",
            " 2   i               20712 non-null  float64\n",
            " 3   om              20712 non-null  float64\n",
            " 4   w               20712 non-null  float64\n",
            " 5   q               20712 non-null  float64\n",
            " 6   ad              20712 non-null  float64\n",
            " 7   per_y           20712 non-null  float64\n",
            " 8   data_arc        20522 non-null  float64\n",
            " 9   condition_code  20712 non-null  float64\n",
            " 10  n_obs_used      20712 non-null  int64  \n",
            " 11  n_del_obs_used  20712 non-null  float64\n",
            " 12  n_dop_obs_used  20712 non-null  float64\n",
            " 13  H               20708 non-null  float64\n",
            " 14  diameter        1007 non-null   float64\n",
            " 15  albedo          970 non-null    float64\n",
            " 16  rot_per         1447 non-null   float64\n",
            " 17  pha             20712 non-null  object \n",
            "dtypes: float64(16), int64(1), object(1)\n",
            "memory usage: 3.0+ MB\n"
          ],
          "name": "stdout"
        }
      ]
    },
    {
      "cell_type": "markdown",
      "metadata": {
        "id": "g6K0ZJ8okS-o"
      },
      "source": [
        "We can observe that there is a **still significant amount of missing data** in some of the features of the dataset. Therefore it is necessary to do some more data imputation.\n",
        "\n",
        "There are many different strategies that can be followed. A common strategy is to either remove the rows or features that present any missing data, but this strategy can not be executed with this dataset given that too many rows or features would be removed. \n",
        "\n",
        "For this reason, we have decided to utilize the **mean substitution strategy**, which consists on assigning each of the missing values the mean value for that feature out of all other rows. \n",
        "\n",
        "First, let's calculate the mean value for each of the feature that has any missing values."
      ]
    },
    {
      "cell_type": "code",
      "metadata": {
        "colab": {
          "base_uri": "https://localhost:8080/",
          "height": 204
        },
        "id": "nEZSpMfpmd9h",
        "outputId": "a0030e74-1579-41a5-a4da-199de442f558"
      },
      "source": [
        "features_that_require_imputation = [8, 13, 14, 15, 16]\n",
        "\n",
        "mean_values = []\n",
        "for feature in features_that_require_imputation:\n",
        "  mean = train_df.iloc[:,feature].mean()\n",
        "  mean_values.append({'feature':feature, 'feature_name':train_df.columns[feature], 'mean':mean})\n",
        "\n",
        "pd.DataFrame(mean_values)\n"
      ],
      "execution_count": null,
      "outputs": [
        {
          "output_type": "execute_result",
          "data": {
            "text/html": [
              "<div>\n",
              "<style scoped>\n",
              "    .dataframe tbody tr th:only-of-type {\n",
              "        vertical-align: middle;\n",
              "    }\n",
              "\n",
              "    .dataframe tbody tr th {\n",
              "        vertical-align: top;\n",
              "    }\n",
              "\n",
              "    .dataframe thead th {\n",
              "        text-align: right;\n",
              "    }\n",
              "</style>\n",
              "<table border=\"1\" class=\"dataframe\">\n",
              "  <thead>\n",
              "    <tr style=\"text-align: right;\">\n",
              "      <th></th>\n",
              "      <th>feature</th>\n",
              "      <th>feature_name</th>\n",
              "      <th>mean</th>\n",
              "    </tr>\n",
              "  </thead>\n",
              "  <tbody>\n",
              "    <tr>\n",
              "      <th>0</th>\n",
              "      <td>8</td>\n",
              "      <td>data_arc</td>\n",
              "      <td>1380.003265</td>\n",
              "    </tr>\n",
              "    <tr>\n",
              "      <th>1</th>\n",
              "      <td>13</td>\n",
              "      <td>H</td>\n",
              "      <td>23.069642</td>\n",
              "    </tr>\n",
              "    <tr>\n",
              "      <th>2</th>\n",
              "      <td>14</td>\n",
              "      <td>diameter</td>\n",
              "      <td>1.026942</td>\n",
              "    </tr>\n",
              "    <tr>\n",
              "      <th>3</th>\n",
              "      <td>15</td>\n",
              "      <td>albedo</td>\n",
              "      <td>0.169976</td>\n",
              "    </tr>\n",
              "    <tr>\n",
              "      <th>4</th>\n",
              "      <td>16</td>\n",
              "      <td>rot_per</td>\n",
              "      <td>13.743614</td>\n",
              "    </tr>\n",
              "  </tbody>\n",
              "</table>\n",
              "</div>"
            ],
            "text/plain": [
              "   feature feature_name         mean\n",
              "0        8     data_arc  1380.003265\n",
              "1       13            H    23.069642\n",
              "2       14     diameter     1.026942\n",
              "3       15       albedo     0.169976\n",
              "4       16      rot_per    13.743614"
            ]
          },
          "metadata": {
            "tags": []
          },
          "execution_count": 15
        }
      ]
    },
    {
      "cell_type": "markdown",
      "metadata": {
        "id": "G_M-e7v5z0wN"
      },
      "source": [
        "Now that we have the mean value for each of these features, let's assign this value to the missing values."
      ]
    },
    {
      "cell_type": "code",
      "metadata": {
        "id": "wpOQ_i6lzU0O"
      },
      "source": [
        "def mean_substitution_imputation(data, feature_index, mean_value):\n",
        "  indixes_missing = np.where(data.iloc[:,feature_index].isnull())[0]\n",
        "  data.iloc[indixes_missing, feature_index] = mean_value\n",
        "\n",
        "for mean_value in mean_values:\n",
        "  mean_substitution_imputation(train_df, mean_value['feature'], mean_value['mean'])\n",
        "  mean_substitution_imputation(val_df, mean_value['feature'], mean_value['mean'])\n",
        "  mean_substitution_imputation(test_df, mean_value['feature'], mean_value['mean'])"
      ],
      "execution_count": null,
      "outputs": []
    },
    {
      "cell_type": "code",
      "metadata": {
        "colab": {
          "base_uri": "https://localhost:8080/"
        },
        "id": "DYcQkahP0ghO",
        "outputId": "2d9aa609-ae3f-4ff0-96e5-26fc49d8a95a"
      },
      "source": [
        "train_df.info()"
      ],
      "execution_count": null,
      "outputs": [
        {
          "output_type": "stream",
          "text": [
            "<class 'pandas.core.frame.DataFrame'>\n",
            "Int64Index: 20712 entries, 21232 to 20522\n",
            "Data columns (total 18 columns):\n",
            " #   Column          Non-Null Count  Dtype  \n",
            "---  ------          --------------  -----  \n",
            " 0   a               20712 non-null  float64\n",
            " 1   e               20712 non-null  float64\n",
            " 2   i               20712 non-null  float64\n",
            " 3   om              20712 non-null  float64\n",
            " 4   w               20712 non-null  float64\n",
            " 5   q               20712 non-null  float64\n",
            " 6   ad              20712 non-null  float64\n",
            " 7   per_y           20712 non-null  float64\n",
            " 8   data_arc        20712 non-null  float64\n",
            " 9   condition_code  20712 non-null  float64\n",
            " 10  n_obs_used      20712 non-null  int64  \n",
            " 11  n_del_obs_used  20712 non-null  float64\n",
            " 12  n_dop_obs_used  20712 non-null  float64\n",
            " 13  H               20712 non-null  float64\n",
            " 14  diameter        20712 non-null  float64\n",
            " 15  albedo          20712 non-null  float64\n",
            " 16  rot_per         20712 non-null  float64\n",
            " 17  pha             20712 non-null  object \n",
            "dtypes: float64(16), int64(1), object(1)\n",
            "memory usage: 3.0+ MB\n"
          ],
          "name": "stdout"
        }
      ]
    },
    {
      "cell_type": "markdown",
      "metadata": {
        "id": "cm0JkIgk1ky7"
      },
      "source": [
        "## Encoding discrete features"
      ]
    },
    {
      "cell_type": "markdown",
      "metadata": {
        "id": "LKlhIOFE1pjE"
      },
      "source": [
        "Out of the 17 features that are left (not counting the target feature), 16 feature are continuous and **one feature is discrete: condition_code**. If we want to use condition_code, we are required to encode it into a continuous feature since not all of the machine learning models that are going to be trained are able to process discrete variables.\n",
        "\n",
        "There are many different strategies that can be used in order to encode this feature, but we have decided to use **one hot encoding** since its an strategy that does not lost any information and will not increase the dataset dimensionality too much given that condition_code only has 10 possible values."
      ]
    },
    {
      "cell_type": "code",
      "metadata": {
        "colab": {
          "base_uri": "https://localhost:8080/"
        },
        "id": "BwLyiHC41OWV",
        "outputId": "a209b7ce-5b59-424c-b070-c7754ba2ce7b"
      },
      "source": [
        "train_df.loc[:,'condition_code'].value_counts()"
      ],
      "execution_count": null,
      "outputs": [
        {
          "output_type": "execute_result",
          "data": {
            "text/plain": [
              "0.0    4207\n",
              "7.0    4111\n",
              "8.0    4052\n",
              "6.0    2378\n",
              "9.0    1868\n",
              "5.0    1290\n",
              "1.0    1234\n",
              "4.0     702\n",
              "2.0     550\n",
              "3.0     320\n",
              "Name: condition_code, dtype: int64"
            ]
          },
          "metadata": {
            "tags": []
          },
          "execution_count": 18
        }
      ]
    },
    {
      "cell_type": "markdown",
      "metadata": {
        "id": "TcgycaDi3drX"
      },
      "source": [
        "We then calculate all the ten features that are generated after applying one hot encoding to the condition_code feature, and add it to the three datasets. Then, we remove from them the discrete feature.\n"
      ]
    },
    {
      "cell_type": "code",
      "metadata": {
        "id": "mNYoKvBQ2yKo"
      },
      "source": [
        "def one_hot_encoding(data, feature_name):\n",
        "  ohe_features = pd.get_dummies(data.loc[:,feature_name], prefix=feature_name)\n",
        "  \n",
        "  data[ohe_features.columns] = ohe_features\n",
        "\n",
        "  return data.drop(columns=[feature_name])\n",
        "\n",
        "train_df = one_hot_encoding(train_df, 'condition_code')\n",
        "\n",
        "test_df = one_hot_encoding(test_df, 'condition_code')\n",
        "\n",
        "val_df = one_hot_encoding(val_df, 'condition_code')\n"
      ],
      "execution_count": null,
      "outputs": []
    },
    {
      "cell_type": "code",
      "metadata": {
        "colab": {
          "base_uri": "https://localhost:8080/"
        },
        "id": "T8zwHwco43E2",
        "outputId": "c4c27f8b-99b8-4101-b734-241c531cb3e9"
      },
      "source": [
        "test_df.info()"
      ],
      "execution_count": null,
      "outputs": [
        {
          "output_type": "stream",
          "text": [
            "<class 'pandas.core.frame.DataFrame'>\n",
            "Int64Index: 2590 entries, 11593 to 2732\n",
            "Data columns (total 27 columns):\n",
            " #   Column              Non-Null Count  Dtype  \n",
            "---  ------              --------------  -----  \n",
            " 0   a                   2590 non-null   float64\n",
            " 1   e                   2590 non-null   float64\n",
            " 2   i                   2590 non-null   float64\n",
            " 3   om                  2590 non-null   float64\n",
            " 4   w                   2590 non-null   float64\n",
            " 5   q                   2590 non-null   float64\n",
            " 6   ad                  2590 non-null   float64\n",
            " 7   per_y               2590 non-null   float64\n",
            " 8   data_arc            2590 non-null   float64\n",
            " 9   n_obs_used          2590 non-null   int64  \n",
            " 10  n_del_obs_used      2590 non-null   float64\n",
            " 11  n_dop_obs_used      2590 non-null   float64\n",
            " 12  H                   2590 non-null   float64\n",
            " 13  diameter            2590 non-null   float64\n",
            " 14  albedo              2590 non-null   float64\n",
            " 15  rot_per             2590 non-null   float64\n",
            " 16  pha                 2590 non-null   object \n",
            " 17  condition_code_0.0  2590 non-null   uint8  \n",
            " 18  condition_code_1.0  2590 non-null   uint8  \n",
            " 19  condition_code_2.0  2590 non-null   uint8  \n",
            " 20  condition_code_3.0  2590 non-null   uint8  \n",
            " 21  condition_code_4.0  2590 non-null   uint8  \n",
            " 22  condition_code_5.0  2590 non-null   uint8  \n",
            " 23  condition_code_6.0  2590 non-null   uint8  \n",
            " 24  condition_code_7.0  2590 non-null   uint8  \n",
            " 25  condition_code_8.0  2590 non-null   uint8  \n",
            " 26  condition_code_9.0  2590 non-null   uint8  \n",
            "dtypes: float64(15), int64(1), object(1), uint8(10)\n",
            "memory usage: 389.5+ KB\n"
          ],
          "name": "stdout"
        }
      ]
    },
    {
      "cell_type": "markdown",
      "metadata": {
        "id": "jxzcfoNg6c5J"
      },
      "source": [
        "And with that, we now have encoded the discrete condition code into ten different boolean features.\n",
        "\n",
        "Now let's do a quick **transformation to the target feature** (pha) so it has a value of **1** (if it is potentially a hazard) or **0** (if it is not), instead of the current 'Y' or 'N' values."
      ]
    },
    {
      "cell_type": "code",
      "metadata": {
        "id": "vF-j0CGx6VNl"
      },
      "source": [
        "train_df.loc[:,'pha'] = [int(value == 'Y') for value in train_df.loc[:,'pha']]\n",
        "val_df.loc[:,'pha'] = [int(value == 'Y') for value in val_df.loc[:,'pha']]\n",
        "test_df.loc[:,'pha'] = [int(value == 'Y') for value in test_df.loc[:,'pha']]"
      ],
      "execution_count": null,
      "outputs": []
    },
    {
      "cell_type": "markdown",
      "metadata": {
        "id": "73rJoA1N7mp2"
      },
      "source": [
        "## Feature scaling"
      ]
    },
    {
      "cell_type": "markdown",
      "metadata": {
        "id": "7JhFAJjT7oyZ"
      },
      "source": [
        "Finally, let's scale all the features so they fit into a range of **[-1, 1]**. This will be done applying a maximum absolute scaling. This step is important because scaling the features might improve the performance of the machine learning models that are going to be trained in the following step. Artificial neural network, for example, require to have scaled inputs in order to achieve a better performance."
      ]
    },
    {
      "cell_type": "code",
      "metadata": {
        "id": "MGa9ew6v8Czp"
      },
      "source": [
        "train_x = train_df.drop(columns=['pha'])\n",
        "train_y = train_df.loc[:, 'pha']\n",
        "\n",
        "val_x = val_df.drop(columns=['pha'])\n",
        "val_y = val_df.loc[:, 'pha']\n",
        "\n",
        "test_x = test_df.drop(columns=['pha'])\n",
        "test_y = test_df.loc[:, 'pha']"
      ],
      "execution_count": null,
      "outputs": []
    },
    {
      "cell_type": "code",
      "metadata": {
        "id": "MdEhGmX-8zba"
      },
      "source": [
        "def apply_maximum_abs_scaling(data):\n",
        "  abs_scaler = MaxAbsScaler()\n",
        "  abs_scaler.fit(data)\n",
        "  return pd.DataFrame(abs_scaler.transform(data))\n",
        "\n",
        "colnames = train_df.columns[train_df.columns != 'pha']\n",
        "\n",
        "train_x = apply_maximum_abs_scaling(train_x)\n",
        "train_x.columns = colnames\n",
        "val_x = apply_maximum_abs_scaling(val_x)\n",
        "val_x.columns = colnames\n",
        "test_x = apply_maximum_abs_scaling(test_x)\n",
        "test_x.columns = colnames"
      ],
      "execution_count": null,
      "outputs": []
    },
    {
      "cell_type": "code",
      "metadata": {
        "colab": {
          "base_uri": "https://localhost:8080/",
          "height": 317
        },
        "id": "IetK6SgW8nGB",
        "outputId": "ba3ec711-6fee-48ae-cf4b-e279f5345833"
      },
      "source": [
        "train_x.describe()"
      ],
      "execution_count": null,
      "outputs": [
        {
          "output_type": "execute_result",
          "data": {
            "text/html": [
              "<div>\n",
              "<style scoped>\n",
              "    .dataframe tbody tr th:only-of-type {\n",
              "        vertical-align: middle;\n",
              "    }\n",
              "\n",
              "    .dataframe tbody tr th {\n",
              "        vertical-align: top;\n",
              "    }\n",
              "\n",
              "    .dataframe thead th {\n",
              "        text-align: right;\n",
              "    }\n",
              "</style>\n",
              "<table border=\"1\" class=\"dataframe\">\n",
              "  <thead>\n",
              "    <tr style=\"text-align: right;\">\n",
              "      <th></th>\n",
              "      <th>a</th>\n",
              "      <th>e</th>\n",
              "      <th>i</th>\n",
              "      <th>om</th>\n",
              "      <th>w</th>\n",
              "      <th>q</th>\n",
              "      <th>ad</th>\n",
              "      <th>per_y</th>\n",
              "      <th>data_arc</th>\n",
              "      <th>n_obs_used</th>\n",
              "      <th>n_del_obs_used</th>\n",
              "      <th>n_dop_obs_used</th>\n",
              "      <th>H</th>\n",
              "      <th>diameter</th>\n",
              "      <th>albedo</th>\n",
              "      <th>rot_per</th>\n",
              "      <th>condition_code_0.0</th>\n",
              "      <th>condition_code_1.0</th>\n",
              "      <th>condition_code_2.0</th>\n",
              "      <th>condition_code_3.0</th>\n",
              "      <th>condition_code_4.0</th>\n",
              "      <th>condition_code_5.0</th>\n",
              "      <th>condition_code_6.0</th>\n",
              "      <th>condition_code_7.0</th>\n",
              "      <th>condition_code_8.0</th>\n",
              "      <th>condition_code_9.0</th>\n",
              "    </tr>\n",
              "  </thead>\n",
              "  <tbody>\n",
              "    <tr>\n",
              "      <th>count</th>\n",
              "      <td>20712.000000</td>\n",
              "      <td>20712.000000</td>\n",
              "      <td>20712.000000</td>\n",
              "      <td>20712.000000</td>\n",
              "      <td>20712.000000</td>\n",
              "      <td>20712.000000</td>\n",
              "      <td>20712.000000</td>\n",
              "      <td>20712.000000</td>\n",
              "      <td>20712.000000</td>\n",
              "      <td>20712.000000</td>\n",
              "      <td>20712.000000</td>\n",
              "      <td>20712.000000</td>\n",
              "      <td>20712.000000</td>\n",
              "      <td>20712.000000</td>\n",
              "      <td>20712.000000</td>\n",
              "      <td>20712.000000</td>\n",
              "      <td>20712.000000</td>\n",
              "      <td>20712.000000</td>\n",
              "      <td>20712.000000</td>\n",
              "      <td>20712.000000</td>\n",
              "      <td>20712.000000</td>\n",
              "      <td>20712.000000</td>\n",
              "      <td>20712.000000</td>\n",
              "      <td>20712.000000</td>\n",
              "      <td>20712.000000</td>\n",
              "      <td>20712.000000</td>\n",
              "    </tr>\n",
              "    <tr>\n",
              "      <th>mean</th>\n",
              "      <td>0.005491</td>\n",
              "      <td>0.441890</td>\n",
              "      <td>0.079923</td>\n",
              "      <td>0.479781</td>\n",
              "      <td>0.505555</td>\n",
              "      <td>0.703788</td>\n",
              "      <td>0.004080</td>\n",
              "      <td>0.000466</td>\n",
              "      <td>0.029786</td>\n",
              "      <td>0.012195</td>\n",
              "      <td>-0.023904</td>\n",
              "      <td>-0.030226</td>\n",
              "      <td>0.694869</td>\n",
              "      <td>0.027258</td>\n",
              "      <td>0.198570</td>\n",
              "      <td>0.018572</td>\n",
              "      <td>0.203119</td>\n",
              "      <td>0.059579</td>\n",
              "      <td>0.026555</td>\n",
              "      <td>0.015450</td>\n",
              "      <td>0.033893</td>\n",
              "      <td>0.062283</td>\n",
              "      <td>0.114813</td>\n",
              "      <td>0.198484</td>\n",
              "      <td>0.195635</td>\n",
              "      <td>0.090189</td>\n",
              "    </tr>\n",
              "    <tr>\n",
              "      <th>std</th>\n",
              "      <td>0.007150</td>\n",
              "      <td>0.177844</td>\n",
              "      <td>0.070932</td>\n",
              "      <td>0.287799</td>\n",
              "      <td>0.290128</td>\n",
              "      <td>0.177285</td>\n",
              "      <td>0.007137</td>\n",
              "      <td>0.006950</td>\n",
              "      <td>0.064601</td>\n",
              "      <td>0.028387</td>\n",
              "      <td>0.023102</td>\n",
              "      <td>0.021598</td>\n",
              "      <td>0.089203</td>\n",
              "      <td>0.010102</td>\n",
              "      <td>0.035910</td>\n",
              "      <td>0.014038</td>\n",
              "      <td>0.402330</td>\n",
              "      <td>0.236711</td>\n",
              "      <td>0.160782</td>\n",
              "      <td>0.123337</td>\n",
              "      <td>0.180959</td>\n",
              "      <td>0.241674</td>\n",
              "      <td>0.318803</td>\n",
              "      <td>0.398868</td>\n",
              "      <td>0.396699</td>\n",
              "      <td>0.286460</td>\n",
              "    </tr>\n",
              "    <tr>\n",
              "      <th>min</th>\n",
              "      <td>0.001723</td>\n",
              "      <td>0.002857</td>\n",
              "      <td>0.000086</td>\n",
              "      <td>0.000006</td>\n",
              "      <td>0.000022</td>\n",
              "      <td>0.054180</td>\n",
              "      <td>0.001202</td>\n",
              "      <td>0.000072</td>\n",
              "      <td>0.000022</td>\n",
              "      <td>0.000342</td>\n",
              "      <td>-0.027027</td>\n",
              "      <td>-0.033333</td>\n",
              "      <td>0.278614</td>\n",
              "      <td>0.000212</td>\n",
              "      <td>0.011682</td>\n",
              "      <td>0.000004</td>\n",
              "      <td>0.000000</td>\n",
              "      <td>0.000000</td>\n",
              "      <td>0.000000</td>\n",
              "      <td>0.000000</td>\n",
              "      <td>0.000000</td>\n",
              "      <td>0.000000</td>\n",
              "      <td>0.000000</td>\n",
              "      <td>0.000000</td>\n",
              "      <td>0.000000</td>\n",
              "      <td>0.000000</td>\n",
              "    </tr>\n",
              "    <tr>\n",
              "      <th>25%</th>\n",
              "      <td>0.004039</td>\n",
              "      <td>0.310169</td>\n",
              "      <td>0.029108</td>\n",
              "      <td>0.229099</td>\n",
              "      <td>0.255747</td>\n",
              "      <td>0.604030</td>\n",
              "      <td>0.002626</td>\n",
              "      <td>0.000257</td>\n",
              "      <td>0.000151</td>\n",
              "      <td>0.003080</td>\n",
              "      <td>-0.027027</td>\n",
              "      <td>-0.033333</td>\n",
              "      <td>0.626506</td>\n",
              "      <td>0.027258</td>\n",
              "      <td>0.198570</td>\n",
              "      <td>0.018572</td>\n",
              "      <td>0.000000</td>\n",
              "      <td>0.000000</td>\n",
              "      <td>0.000000</td>\n",
              "      <td>0.000000</td>\n",
              "      <td>0.000000</td>\n",
              "      <td>0.000000</td>\n",
              "      <td>0.000000</td>\n",
              "      <td>0.000000</td>\n",
              "      <td>0.000000</td>\n",
              "      <td>0.000000</td>\n",
              "    </tr>\n",
              "    <tr>\n",
              "      <th>50%</th>\n",
              "      <td>0.005280</td>\n",
              "      <td>0.455461</td>\n",
              "      <td>0.055955</td>\n",
              "      <td>0.479158</td>\n",
              "      <td>0.510945</td>\n",
              "      <td>0.741784</td>\n",
              "      <td>0.003818</td>\n",
              "      <td>0.000384</td>\n",
              "      <td>0.000626</td>\n",
              "      <td>0.005361</td>\n",
              "      <td>-0.027027</td>\n",
              "      <td>-0.033333</td>\n",
              "      <td>0.701807</td>\n",
              "      <td>0.027258</td>\n",
              "      <td>0.198570</td>\n",
              "      <td>0.018572</td>\n",
              "      <td>0.000000</td>\n",
              "      <td>0.000000</td>\n",
              "      <td>0.000000</td>\n",
              "      <td>0.000000</td>\n",
              "      <td>0.000000</td>\n",
              "      <td>0.000000</td>\n",
              "      <td>0.000000</td>\n",
              "      <td>0.000000</td>\n",
              "      <td>0.000000</td>\n",
              "      <td>0.000000</td>\n",
              "    </tr>\n",
              "    <tr>\n",
              "      <th>75%</th>\n",
              "      <td>0.006769</td>\n",
              "      <td>0.569173</td>\n",
              "      <td>0.113170</td>\n",
              "      <td>0.705643</td>\n",
              "      <td>0.755132</td>\n",
              "      <td>0.820555</td>\n",
              "      <td>0.005242</td>\n",
              "      <td>0.000557</td>\n",
              "      <td>0.029786</td>\n",
              "      <td>0.010722</td>\n",
              "      <td>-0.027027</td>\n",
              "      <td>-0.033333</td>\n",
              "      <td>0.762048</td>\n",
              "      <td>0.027258</td>\n",
              "      <td>0.198570</td>\n",
              "      <td>0.018572</td>\n",
              "      <td>0.000000</td>\n",
              "      <td>0.000000</td>\n",
              "      <td>0.000000</td>\n",
              "      <td>0.000000</td>\n",
              "      <td>0.000000</td>\n",
              "      <td>0.000000</td>\n",
              "      <td>0.000000</td>\n",
              "      <td>0.000000</td>\n",
              "      <td>0.000000</td>\n",
              "      <td>0.000000</td>\n",
              "    </tr>\n",
              "    <tr>\n",
              "      <th>max</th>\n",
              "      <td>1.000000</td>\n",
              "      <td>1.000000</td>\n",
              "      <td>1.000000</td>\n",
              "      <td>1.000000</td>\n",
              "      <td>1.000000</td>\n",
              "      <td>1.000000</td>\n",
              "      <td>1.000000</td>\n",
              "      <td>1.000000</td>\n",
              "      <td>1.000000</td>\n",
              "      <td>1.000000</td>\n",
              "      <td>1.000000</td>\n",
              "      <td>1.000000</td>\n",
              "      <td>1.000000</td>\n",
              "      <td>1.000000</td>\n",
              "      <td>1.000000</td>\n",
              "      <td>1.000000</td>\n",
              "      <td>1.000000</td>\n",
              "      <td>1.000000</td>\n",
              "      <td>1.000000</td>\n",
              "      <td>1.000000</td>\n",
              "      <td>1.000000</td>\n",
              "      <td>1.000000</td>\n",
              "      <td>1.000000</td>\n",
              "      <td>1.000000</td>\n",
              "      <td>1.000000</td>\n",
              "      <td>1.000000</td>\n",
              "    </tr>\n",
              "  </tbody>\n",
              "</table>\n",
              "</div>"
            ],
            "text/plain": [
              "                  a             e  ...  condition_code_8.0  condition_code_9.0\n",
              "count  20712.000000  20712.000000  ...        20712.000000        20712.000000\n",
              "mean       0.005491      0.441890  ...            0.195635            0.090189\n",
              "std        0.007150      0.177844  ...            0.396699            0.286460\n",
              "min        0.001723      0.002857  ...            0.000000            0.000000\n",
              "25%        0.004039      0.310169  ...            0.000000            0.000000\n",
              "50%        0.005280      0.455461  ...            0.000000            0.000000\n",
              "75%        0.006769      0.569173  ...            0.000000            0.000000\n",
              "max        1.000000      1.000000  ...            1.000000            1.000000\n",
              "\n",
              "[8 rows x 26 columns]"
            ]
          },
          "metadata": {
            "tags": []
          },
          "execution_count": 24
        }
      ]
    },
    {
      "cell_type": "markdown",
      "metadata": {
        "id": "hz0yfCqokN3q"
      },
      "source": [
        "# Model training and parameter tuning"
      ]
    },
    {
      "cell_type": "markdown",
      "metadata": {
        "id": "32iEcfCG9n0t"
      },
      "source": [
        "For this step, we have trained and optimized three differenta algorithms: **SVM, Deep Learning, and xgBoost**."
      ]
    },
    {
      "cell_type": "markdown",
      "metadata": {
        "id": "Qsm1IsRPoO2w"
      },
      "source": [
        "## SVM"
      ]
    },
    {
      "cell_type": "markdown",
      "metadata": {
        "id": "PULuT8rjqE37"
      },
      "source": [
        "Load train features and target."
      ]
    },
    {
      "cell_type": "code",
      "metadata": {
        "id": "1Yqn7XaCqE37"
      },
      "source": [
        "X = pd.read_csv(\"data/training_features.csv\")\n",
        "y = pd.read_csv(\"data/training_target.csv\")"
      ],
      "execution_count": null,
      "outputs": []
    },
    {
      "cell_type": "markdown",
      "metadata": {
        "id": "IKgNB4g4rvNj"
      },
      "source": [
        "Let´s check it."
      ]
    },
    {
      "cell_type": "code",
      "metadata": {
        "colab": {
          "base_uri": "https://localhost:8080/",
          "height": 241
        },
        "id": "82hxc5CtqE38",
        "outputId": "81a81e60-2ad5-4b2e-9b41-945c12fb86b3"
      },
      "source": [
        "X.head()"
      ],
      "execution_count": null,
      "outputs": [
        {
          "output_type": "execute_result",
          "data": {
            "text/html": [
              "<div>\n",
              "<style scoped>\n",
              "    .dataframe tbody tr th:only-of-type {\n",
              "        vertical-align: middle;\n",
              "    }\n",
              "\n",
              "    .dataframe tbody tr th {\n",
              "        vertical-align: top;\n",
              "    }\n",
              "\n",
              "    .dataframe thead th {\n",
              "        text-align: right;\n",
              "    }\n",
              "</style>\n",
              "<table border=\"1\" class=\"dataframe\">\n",
              "  <thead>\n",
              "    <tr style=\"text-align: right;\">\n",
              "      <th></th>\n",
              "      <th>Unnamed: 0</th>\n",
              "      <th>a</th>\n",
              "      <th>e</th>\n",
              "      <th>i</th>\n",
              "      <th>om</th>\n",
              "      <th>w</th>\n",
              "      <th>q</th>\n",
              "      <th>ad</th>\n",
              "      <th>per_y</th>\n",
              "      <th>data_arc</th>\n",
              "      <th>n_obs_used</th>\n",
              "      <th>n_del_obs_used</th>\n",
              "      <th>n_dop_obs_used</th>\n",
              "      <th>H</th>\n",
              "      <th>diameter</th>\n",
              "      <th>albedo</th>\n",
              "      <th>rot_per</th>\n",
              "      <th>condition_code_0.0</th>\n",
              "      <th>condition_code_1.0</th>\n",
              "      <th>condition_code_2.0</th>\n",
              "      <th>condition_code_3.0</th>\n",
              "      <th>condition_code_4.0</th>\n",
              "      <th>condition_code_5.0</th>\n",
              "      <th>condition_code_6.0</th>\n",
              "      <th>condition_code_7.0</th>\n",
              "      <th>condition_code_8.0</th>\n",
              "      <th>condition_code_9.0</th>\n",
              "    </tr>\n",
              "  </thead>\n",
              "  <tbody>\n",
              "    <tr>\n",
              "      <th>0</th>\n",
              "      <td>0</td>\n",
              "      <td>0.007519</td>\n",
              "      <td>0.600709</td>\n",
              "      <td>0.038246</td>\n",
              "      <td>0.094075</td>\n",
              "      <td>0.932383</td>\n",
              "      <td>0.748771</td>\n",
              "      <td>0.006021</td>\n",
              "      <td>0.000652</td>\n",
              "      <td>0.000194</td>\n",
              "      <td>0.009353</td>\n",
              "      <td>0.000000</td>\n",
              "      <td>0.033333</td>\n",
              "      <td>0.807229</td>\n",
              "      <td>0.027258</td>\n",
              "      <td>0.19857</td>\n",
              "      <td>0.018572</td>\n",
              "      <td>0.0</td>\n",
              "      <td>0.0</td>\n",
              "      <td>0.0</td>\n",
              "      <td>0.0</td>\n",
              "      <td>0.0</td>\n",
              "      <td>1.0</td>\n",
              "      <td>0.0</td>\n",
              "      <td>0.0</td>\n",
              "      <td>0.0</td>\n",
              "      <td>0.0</td>\n",
              "    </tr>\n",
              "    <tr>\n",
              "      <th>1</th>\n",
              "      <td>1</td>\n",
              "      <td>0.003303</td>\n",
              "      <td>0.726362</td>\n",
              "      <td>0.139340</td>\n",
              "      <td>0.440992</td>\n",
              "      <td>0.637511</td>\n",
              "      <td>0.226412</td>\n",
              "      <td>0.002852</td>\n",
              "      <td>0.000190</td>\n",
              "      <td>0.096158</td>\n",
              "      <td>0.027033</td>\n",
              "      <td>-0.027027</td>\n",
              "      <td>-0.033333</td>\n",
              "      <td>0.589458</td>\n",
              "      <td>0.027258</td>\n",
              "      <td>0.19857</td>\n",
              "      <td>0.018572</td>\n",
              "      <td>1.0</td>\n",
              "      <td>0.0</td>\n",
              "      <td>0.0</td>\n",
              "      <td>0.0</td>\n",
              "      <td>0.0</td>\n",
              "      <td>0.0</td>\n",
              "      <td>0.0</td>\n",
              "      <td>0.0</td>\n",
              "      <td>0.0</td>\n",
              "      <td>0.0</td>\n",
              "    </tr>\n",
              "    <tr>\n",
              "      <th>2</th>\n",
              "      <td>2</td>\n",
              "      <td>0.006725</td>\n",
              "      <td>0.456667</td>\n",
              "      <td>0.056864</td>\n",
              "      <td>0.961152</td>\n",
              "      <td>0.952114</td>\n",
              "      <td>0.908972</td>\n",
              "      <td>0.004902</td>\n",
              "      <td>0.000552</td>\n",
              "      <td>0.127326</td>\n",
              "      <td>0.011749</td>\n",
              "      <td>-0.027027</td>\n",
              "      <td>-0.033333</td>\n",
              "      <td>0.635542</td>\n",
              "      <td>0.027258</td>\n",
              "      <td>0.19857</td>\n",
              "      <td>0.018572</td>\n",
              "      <td>1.0</td>\n",
              "      <td>0.0</td>\n",
              "      <td>0.0</td>\n",
              "      <td>0.0</td>\n",
              "      <td>0.0</td>\n",
              "      <td>0.0</td>\n",
              "      <td>0.0</td>\n",
              "      <td>0.0</td>\n",
              "      <td>0.0</td>\n",
              "      <td>0.0</td>\n",
              "    </tr>\n",
              "    <tr>\n",
              "      <th>3</th>\n",
              "      <td>3</td>\n",
              "      <td>0.002293</td>\n",
              "      <td>0.404946</td>\n",
              "      <td>0.062912</td>\n",
              "      <td>0.028929</td>\n",
              "      <td>0.040169</td>\n",
              "      <td>0.339154</td>\n",
              "      <td>0.001612</td>\n",
              "      <td>0.000110</td>\n",
              "      <td>0.055536</td>\n",
              "      <td>0.009695</td>\n",
              "      <td>0.027027</td>\n",
              "      <td>0.033333</td>\n",
              "      <td>0.793373</td>\n",
              "      <td>0.027258</td>\n",
              "      <td>0.19857</td>\n",
              "      <td>0.018572</td>\n",
              "      <td>1.0</td>\n",
              "      <td>0.0</td>\n",
              "      <td>0.0</td>\n",
              "      <td>0.0</td>\n",
              "      <td>0.0</td>\n",
              "      <td>0.0</td>\n",
              "      <td>0.0</td>\n",
              "      <td>0.0</td>\n",
              "      <td>0.0</td>\n",
              "      <td>0.0</td>\n",
              "    </tr>\n",
              "    <tr>\n",
              "      <th>4</th>\n",
              "      <td>4</td>\n",
              "      <td>0.007366</td>\n",
              "      <td>0.549997</td>\n",
              "      <td>0.064876</td>\n",
              "      <td>0.068808</td>\n",
              "      <td>0.092393</td>\n",
              "      <td>0.825782</td>\n",
              "      <td>0.005712</td>\n",
              "      <td>0.000632</td>\n",
              "      <td>0.000086</td>\n",
              "      <td>0.002053</td>\n",
              "      <td>-0.027027</td>\n",
              "      <td>-0.033333</td>\n",
              "      <td>0.750000</td>\n",
              "      <td>0.027258</td>\n",
              "      <td>0.19857</td>\n",
              "      <td>0.018572</td>\n",
              "      <td>0.0</td>\n",
              "      <td>0.0</td>\n",
              "      <td>0.0</td>\n",
              "      <td>0.0</td>\n",
              "      <td>0.0</td>\n",
              "      <td>0.0</td>\n",
              "      <td>0.0</td>\n",
              "      <td>0.0</td>\n",
              "      <td>0.0</td>\n",
              "      <td>1.0</td>\n",
              "    </tr>\n",
              "  </tbody>\n",
              "</table>\n",
              "</div>"
            ],
            "text/plain": [
              "   Unnamed: 0         a  ...  condition_code_8.0  condition_code_9.0\n",
              "0           0  0.007519  ...                 0.0                 0.0\n",
              "1           1  0.003303  ...                 0.0                 0.0\n",
              "2           2  0.006725  ...                 0.0                 0.0\n",
              "3           3  0.002293  ...                 0.0                 0.0\n",
              "4           4  0.007366  ...                 0.0                 1.0\n",
              "\n",
              "[5 rows x 27 columns]"
            ]
          },
          "metadata": {
            "tags": []
          },
          "execution_count": 3
        }
      ]
    },
    {
      "cell_type": "code",
      "metadata": {
        "colab": {
          "base_uri": "https://localhost:8080/",
          "height": 204
        },
        "id": "3L9Z3aYQqE39",
        "outputId": "302860cf-1b0f-4d4c-8747-bf1679fb4332"
      },
      "source": [
        "y.head()"
      ],
      "execution_count": null,
      "outputs": [
        {
          "output_type": "execute_result",
          "data": {
            "text/html": [
              "<div>\n",
              "<style scoped>\n",
              "    .dataframe tbody tr th:only-of-type {\n",
              "        vertical-align: middle;\n",
              "    }\n",
              "\n",
              "    .dataframe tbody tr th {\n",
              "        vertical-align: top;\n",
              "    }\n",
              "\n",
              "    .dataframe thead th {\n",
              "        text-align: right;\n",
              "    }\n",
              "</style>\n",
              "<table border=\"1\" class=\"dataframe\">\n",
              "  <thead>\n",
              "    <tr style=\"text-align: right;\">\n",
              "      <th></th>\n",
              "      <th>Unnamed: 0</th>\n",
              "      <th>pha</th>\n",
              "    </tr>\n",
              "  </thead>\n",
              "  <tbody>\n",
              "    <tr>\n",
              "      <th>0</th>\n",
              "      <td>21232</td>\n",
              "      <td>0</td>\n",
              "    </tr>\n",
              "    <tr>\n",
              "      <th>1</th>\n",
              "      <td>2134</td>\n",
              "      <td>1</td>\n",
              "    </tr>\n",
              "    <tr>\n",
              "      <th>2</th>\n",
              "      <td>3137</td>\n",
              "      <td>0</td>\n",
              "    </tr>\n",
              "    <tr>\n",
              "      <th>3</th>\n",
              "      <td>10843</td>\n",
              "      <td>0</td>\n",
              "    </tr>\n",
              "    <tr>\n",
              "      <th>4</th>\n",
              "      <td>21209</td>\n",
              "      <td>0</td>\n",
              "    </tr>\n",
              "  </tbody>\n",
              "</table>\n",
              "</div>"
            ],
            "text/plain": [
              "   Unnamed: 0  pha\n",
              "0       21232    0\n",
              "1        2134    1\n",
              "2        3137    0\n",
              "3       10843    0\n",
              "4       21209    0"
            ]
          },
          "metadata": {
            "tags": []
          },
          "execution_count": 4
        }
      ]
    },
    {
      "cell_type": "markdown",
      "metadata": {
        "id": "_VpKS2BZucT4"
      },
      "source": [
        "### Filtering characteristics"
      ]
    },
    {
      "cell_type": "markdown",
      "metadata": {
        "id": "c_ittvQbr9QM"
      },
      "source": [
        "Next we check the **correlation matrix** of the features."
      ]
    },
    {
      "cell_type": "code",
      "metadata": {
        "colab": {
          "base_uri": "https://localhost:8080/",
          "height": 923
        },
        "id": "6fnDwealqE3-",
        "outputId": "b124f667-1b67-4d86-ded0-98159ec87718"
      },
      "source": [
        "X.corr()"
      ],
      "execution_count": null,
      "outputs": [
        {
          "output_type": "execute_result",
          "data": {
            "text/html": [
              "<div>\n",
              "<style scoped>\n",
              "    .dataframe tbody tr th:only-of-type {\n",
              "        vertical-align: middle;\n",
              "    }\n",
              "\n",
              "    .dataframe tbody tr th {\n",
              "        vertical-align: top;\n",
              "    }\n",
              "\n",
              "    .dataframe thead th {\n",
              "        text-align: right;\n",
              "    }\n",
              "</style>\n",
              "<table border=\"1\" class=\"dataframe\">\n",
              "  <thead>\n",
              "    <tr style=\"text-align: right;\">\n",
              "      <th></th>\n",
              "      <th>Unnamed: 0</th>\n",
              "      <th>a</th>\n",
              "      <th>e</th>\n",
              "      <th>i</th>\n",
              "      <th>om</th>\n",
              "      <th>w</th>\n",
              "      <th>q</th>\n",
              "      <th>ad</th>\n",
              "      <th>per_y</th>\n",
              "      <th>data_arc</th>\n",
              "      <th>n_obs_used</th>\n",
              "      <th>n_del_obs_used</th>\n",
              "      <th>n_dop_obs_used</th>\n",
              "      <th>H</th>\n",
              "      <th>diameter</th>\n",
              "      <th>albedo</th>\n",
              "      <th>rot_per</th>\n",
              "      <th>condition_code_0.0</th>\n",
              "      <th>condition_code_1.0</th>\n",
              "      <th>condition_code_2.0</th>\n",
              "      <th>condition_code_3.0</th>\n",
              "      <th>condition_code_4.0</th>\n",
              "      <th>condition_code_5.0</th>\n",
              "      <th>condition_code_6.0</th>\n",
              "      <th>condition_code_7.0</th>\n",
              "      <th>condition_code_8.0</th>\n",
              "      <th>condition_code_9.0</th>\n",
              "    </tr>\n",
              "  </thead>\n",
              "  <tbody>\n",
              "    <tr>\n",
              "      <th>Unnamed: 0</th>\n",
              "      <td>1.000000</td>\n",
              "      <td>0.010531</td>\n",
              "      <td>0.000063</td>\n",
              "      <td>0.005108</td>\n",
              "      <td>-0.002183</td>\n",
              "      <td>0.016035</td>\n",
              "      <td>0.000263</td>\n",
              "      <td>0.010558</td>\n",
              "      <td>0.010147</td>\n",
              "      <td>-0.003663</td>\n",
              "      <td>-0.003762</td>\n",
              "      <td>0.002644</td>\n",
              "      <td>0.003101</td>\n",
              "      <td>-0.002868</td>\n",
              "      <td>0.002510</td>\n",
              "      <td>-0.017923</td>\n",
              "      <td>-0.007660</td>\n",
              "      <td>-0.005095</td>\n",
              "      <td>0.002138</td>\n",
              "      <td>0.004311</td>\n",
              "      <td>-0.000655</td>\n",
              "      <td>0.014383</td>\n",
              "      <td>0.001084</td>\n",
              "      <td>0.001270</td>\n",
              "      <td>-0.001504</td>\n",
              "      <td>-0.009884</td>\n",
              "      <td>0.007621</td>\n",
              "    </tr>\n",
              "    <tr>\n",
              "      <th>a</th>\n",
              "      <td>0.010531</td>\n",
              "      <td>1.000000</td>\n",
              "      <td>0.185947</td>\n",
              "      <td>0.051288</td>\n",
              "      <td>0.001277</td>\n",
              "      <td>-0.008350</td>\n",
              "      <td>0.099566</td>\n",
              "      <td>0.998752</td>\n",
              "      <td>0.974657</td>\n",
              "      <td>0.005755</td>\n",
              "      <td>0.008311</td>\n",
              "      <td>-0.012489</td>\n",
              "      <td>-0.010260</td>\n",
              "      <td>-0.075261</td>\n",
              "      <td>0.012479</td>\n",
              "      <td>-0.013973</td>\n",
              "      <td>0.002284</td>\n",
              "      <td>0.012137</td>\n",
              "      <td>-0.009027</td>\n",
              "      <td>-0.019149</td>\n",
              "      <td>-0.012239</td>\n",
              "      <td>0.014125</td>\n",
              "      <td>0.012662</td>\n",
              "      <td>0.007396</td>\n",
              "      <td>-0.021454</td>\n",
              "      <td>-0.001564</td>\n",
              "      <td>0.010634</td>\n",
              "    </tr>\n",
              "    <tr>\n",
              "      <th>e</th>\n",
              "      <td>0.000063</td>\n",
              "      <td>0.185947</td>\n",
              "      <td>1.000000</td>\n",
              "      <td>-0.030651</td>\n",
              "      <td>-0.017285</td>\n",
              "      <td>-0.008296</td>\n",
              "      <td>-0.384475</td>\n",
              "      <td>0.205940</td>\n",
              "      <td>0.041240</td>\n",
              "      <td>0.065117</td>\n",
              "      <td>0.044730</td>\n",
              "      <td>0.011872</td>\n",
              "      <td>0.010198</td>\n",
              "      <td>-0.275254</td>\n",
              "      <td>0.021625</td>\n",
              "      <td>-0.031420</td>\n",
              "      <td>0.002194</td>\n",
              "      <td>0.081967</td>\n",
              "      <td>0.014603</td>\n",
              "      <td>-0.047070</td>\n",
              "      <td>-0.047763</td>\n",
              "      <td>0.004579</td>\n",
              "      <td>-0.038216</td>\n",
              "      <td>-0.110613</td>\n",
              "      <td>-0.069191</td>\n",
              "      <td>0.057690</td>\n",
              "      <td>0.088697</td>\n",
              "    </tr>\n",
              "    <tr>\n",
              "      <th>i</th>\n",
              "      <td>0.005108</td>\n",
              "      <td>0.051288</td>\n",
              "      <td>-0.030651</td>\n",
              "      <td>1.000000</td>\n",
              "      <td>-0.004848</td>\n",
              "      <td>0.003775</td>\n",
              "      <td>-0.028832</td>\n",
              "      <td>0.052927</td>\n",
              "      <td>0.061151</td>\n",
              "      <td>0.182339</td>\n",
              "      <td>0.105981</td>\n",
              "      <td>0.005445</td>\n",
              "      <td>-0.010606</td>\n",
              "      <td>-0.460472</td>\n",
              "      <td>0.041879</td>\n",
              "      <td>-0.011005</td>\n",
              "      <td>0.008524</td>\n",
              "      <td>0.177074</td>\n",
              "      <td>0.120024</td>\n",
              "      <td>0.064655</td>\n",
              "      <td>0.002254</td>\n",
              "      <td>-0.023496</td>\n",
              "      <td>-0.068551</td>\n",
              "      <td>-0.081423</td>\n",
              "      <td>-0.114823</td>\n",
              "      <td>-0.065355</td>\n",
              "      <td>0.028541</td>\n",
              "    </tr>\n",
              "    <tr>\n",
              "      <th>om</th>\n",
              "      <td>-0.002183</td>\n",
              "      <td>0.001277</td>\n",
              "      <td>-0.017285</td>\n",
              "      <td>-0.004848</td>\n",
              "      <td>1.000000</td>\n",
              "      <td>-0.030255</td>\n",
              "      <td>0.010885</td>\n",
              "      <td>0.000735</td>\n",
              "      <td>0.003062</td>\n",
              "      <td>0.014526</td>\n",
              "      <td>0.021658</td>\n",
              "      <td>0.002220</td>\n",
              "      <td>-0.011237</td>\n",
              "      <td>-0.015105</td>\n",
              "      <td>0.016527</td>\n",
              "      <td>-0.014170</td>\n",
              "      <td>0.002348</td>\n",
              "      <td>0.012290</td>\n",
              "      <td>0.002563</td>\n",
              "      <td>0.012980</td>\n",
              "      <td>0.008330</td>\n",
              "      <td>0.007464</td>\n",
              "      <td>0.006418</td>\n",
              "      <td>0.015322</td>\n",
              "      <td>-0.009654</td>\n",
              "      <td>-0.016017</td>\n",
              "      <td>-0.021810</td>\n",
              "    </tr>\n",
              "    <tr>\n",
              "      <th>w</th>\n",
              "      <td>0.016035</td>\n",
              "      <td>-0.008350</td>\n",
              "      <td>-0.008296</td>\n",
              "      <td>0.003775</td>\n",
              "      <td>-0.030255</td>\n",
              "      <td>1.000000</td>\n",
              "      <td>-0.022755</td>\n",
              "      <td>-0.007239</td>\n",
              "      <td>-0.002703</td>\n",
              "      <td>-0.008001</td>\n",
              "      <td>-0.021423</td>\n",
              "      <td>-0.012658</td>\n",
              "      <td>-0.013869</td>\n",
              "      <td>0.026357</td>\n",
              "      <td>0.001568</td>\n",
              "      <td>-0.005685</td>\n",
              "      <td>0.006160</td>\n",
              "      <td>-0.009223</td>\n",
              "      <td>-0.005890</td>\n",
              "      <td>-0.004965</td>\n",
              "      <td>-0.009026</td>\n",
              "      <td>-0.010463</td>\n",
              "      <td>-0.016134</td>\n",
              "      <td>-0.000242</td>\n",
              "      <td>0.012853</td>\n",
              "      <td>0.014120</td>\n",
              "      <td>0.007534</td>\n",
              "    </tr>\n",
              "    <tr>\n",
              "      <th>q</th>\n",
              "      <td>0.000263</td>\n",
              "      <td>0.099566</td>\n",
              "      <td>-0.384475</td>\n",
              "      <td>-0.028832</td>\n",
              "      <td>0.010885</td>\n",
              "      <td>-0.022755</td>\n",
              "      <td>1.000000</td>\n",
              "      <td>0.049753</td>\n",
              "      <td>0.019830</td>\n",
              "      <td>-0.007883</td>\n",
              "      <td>0.004609</td>\n",
              "      <td>-0.079310</td>\n",
              "      <td>-0.071390</td>\n",
              "      <td>-0.044610</td>\n",
              "      <td>0.032981</td>\n",
              "      <td>-0.013928</td>\n",
              "      <td>0.012500</td>\n",
              "      <td>-0.002512</td>\n",
              "      <td>-0.038431</td>\n",
              "      <td>-0.034292</td>\n",
              "      <td>-0.021641</td>\n",
              "      <td>0.048664</td>\n",
              "      <td>0.103151</td>\n",
              "      <td>0.056629</td>\n",
              "      <td>-0.007738</td>\n",
              "      <td>-0.044259</td>\n",
              "      <td>-0.044874</td>\n",
              "    </tr>\n",
              "    <tr>\n",
              "      <th>ad</th>\n",
              "      <td>0.010558</td>\n",
              "      <td>0.998752</td>\n",
              "      <td>0.205940</td>\n",
              "      <td>0.052927</td>\n",
              "      <td>0.000735</td>\n",
              "      <td>-0.007239</td>\n",
              "      <td>0.049753</td>\n",
              "      <td>1.000000</td>\n",
              "      <td>0.977316</td>\n",
              "      <td>0.006172</td>\n",
              "      <td>0.008111</td>\n",
              "      <td>-0.008555</td>\n",
              "      <td>-0.006716</td>\n",
              "      <td>-0.073305</td>\n",
              "      <td>0.010870</td>\n",
              "      <td>-0.013327</td>\n",
              "      <td>0.001666</td>\n",
              "      <td>0.012308</td>\n",
              "      <td>-0.007133</td>\n",
              "      <td>-0.017500</td>\n",
              "      <td>-0.011199</td>\n",
              "      <td>0.011736</td>\n",
              "      <td>0.007532</td>\n",
              "      <td>0.004582</td>\n",
              "      <td>-0.021147</td>\n",
              "      <td>0.000651</td>\n",
              "      <td>0.012926</td>\n",
              "    </tr>\n",
              "    <tr>\n",
              "      <th>per_y</th>\n",
              "      <td>0.010147</td>\n",
              "      <td>0.974657</td>\n",
              "      <td>0.041240</td>\n",
              "      <td>0.061151</td>\n",
              "      <td>0.003062</td>\n",
              "      <td>-0.002703</td>\n",
              "      <td>0.019830</td>\n",
              "      <td>0.977316</td>\n",
              "      <td>1.000000</td>\n",
              "      <td>-0.002139</td>\n",
              "      <td>-0.000074</td>\n",
              "      <td>-0.002185</td>\n",
              "      <td>-0.001996</td>\n",
              "      <td>-0.012832</td>\n",
              "      <td>0.001534</td>\n",
              "      <td>-0.001710</td>\n",
              "      <td>0.000250</td>\n",
              "      <td>-0.001767</td>\n",
              "      <td>-0.002551</td>\n",
              "      <td>-0.003172</td>\n",
              "      <td>-0.002024</td>\n",
              "      <td>0.000600</td>\n",
              "      <td>0.000180</td>\n",
              "      <td>0.018113</td>\n",
              "      <td>-0.005679</td>\n",
              "      <td>-0.003562</td>\n",
              "      <td>-0.000607</td>\n",
              "    </tr>\n",
              "    <tr>\n",
              "      <th>data_arc</th>\n",
              "      <td>-0.003663</td>\n",
              "      <td>0.005755</td>\n",
              "      <td>0.065117</td>\n",
              "      <td>0.182339</td>\n",
              "      <td>0.014526</td>\n",
              "      <td>-0.008001</td>\n",
              "      <td>-0.007883</td>\n",
              "      <td>0.006172</td>\n",
              "      <td>-0.002139</td>\n",
              "      <td>1.000000</td>\n",
              "      <td>0.619890</td>\n",
              "      <td>0.211509</td>\n",
              "      <td>0.184256</td>\n",
              "      <td>-0.602554</td>\n",
              "      <td>0.224010</td>\n",
              "      <td>0.098743</td>\n",
              "      <td>0.030611</td>\n",
              "      <td>0.724198</td>\n",
              "      <td>0.094223</td>\n",
              "      <td>0.003654</td>\n",
              "      <td>-0.036676</td>\n",
              "      <td>-0.076976</td>\n",
              "      <td>-0.111894</td>\n",
              "      <td>-0.161052</td>\n",
              "      <td>-0.224917</td>\n",
              "      <td>-0.224675</td>\n",
              "      <td>-0.134672</td>\n",
              "    </tr>\n",
              "    <tr>\n",
              "      <th>n_obs_used</th>\n",
              "      <td>-0.003762</td>\n",
              "      <td>0.008311</td>\n",
              "      <td>0.044730</td>\n",
              "      <td>0.105981</td>\n",
              "      <td>0.021658</td>\n",
              "      <td>-0.021423</td>\n",
              "      <td>0.004609</td>\n",
              "      <td>0.008111</td>\n",
              "      <td>-0.000074</td>\n",
              "      <td>0.619890</td>\n",
              "      <td>1.000000</td>\n",
              "      <td>0.378611</td>\n",
              "      <td>0.316261</td>\n",
              "      <td>-0.437695</td>\n",
              "      <td>0.403525</td>\n",
              "      <td>0.151248</td>\n",
              "      <td>0.049139</td>\n",
              "      <td>0.435606</td>\n",
              "      <td>0.000059</td>\n",
              "      <td>-0.014834</td>\n",
              "      <td>-0.006331</td>\n",
              "      <td>-0.004906</td>\n",
              "      <td>-0.037939</td>\n",
              "      <td>-0.072536</td>\n",
              "      <td>-0.122661</td>\n",
              "      <td>-0.147480</td>\n",
              "      <td>-0.109943</td>\n",
              "    </tr>\n",
              "    <tr>\n",
              "      <th>n_del_obs_used</th>\n",
              "      <td>0.002644</td>\n",
              "      <td>-0.012489</td>\n",
              "      <td>0.011872</td>\n",
              "      <td>0.005445</td>\n",
              "      <td>0.002220</td>\n",
              "      <td>-0.012658</td>\n",
              "      <td>-0.079310</td>\n",
              "      <td>-0.008555</td>\n",
              "      <td>-0.002185</td>\n",
              "      <td>0.211509</td>\n",
              "      <td>0.378611</td>\n",
              "      <td>1.000000</td>\n",
              "      <td>0.757574</td>\n",
              "      <td>-0.130193</td>\n",
              "      <td>0.023941</td>\n",
              "      <td>0.041703</td>\n",
              "      <td>0.035128</td>\n",
              "      <td>0.186721</td>\n",
              "      <td>-0.008966</td>\n",
              "      <td>0.011753</td>\n",
              "      <td>0.066421</td>\n",
              "      <td>0.012453</td>\n",
              "      <td>-0.022448</td>\n",
              "      <td>-0.045668</td>\n",
              "      <td>-0.066981</td>\n",
              "      <td>-0.066661</td>\n",
              "      <td>-0.042558</td>\n",
              "    </tr>\n",
              "    <tr>\n",
              "      <th>n_dop_obs_used</th>\n",
              "      <td>0.003101</td>\n",
              "      <td>-0.010260</td>\n",
              "      <td>0.010198</td>\n",
              "      <td>-0.010606</td>\n",
              "      <td>-0.011237</td>\n",
              "      <td>-0.013869</td>\n",
              "      <td>-0.071390</td>\n",
              "      <td>-0.006716</td>\n",
              "      <td>-0.001996</td>\n",
              "      <td>0.184256</td>\n",
              "      <td>0.316261</td>\n",
              "      <td>0.757574</td>\n",
              "      <td>1.000000</td>\n",
              "      <td>-0.098162</td>\n",
              "      <td>0.025407</td>\n",
              "      <td>0.063395</td>\n",
              "      <td>0.066158</td>\n",
              "      <td>0.160357</td>\n",
              "      <td>-0.007885</td>\n",
              "      <td>0.017947</td>\n",
              "      <td>0.095562</td>\n",
              "      <td>0.037701</td>\n",
              "      <td>-0.002858</td>\n",
              "      <td>-0.044108</td>\n",
              "      <td>-0.070858</td>\n",
              "      <td>-0.070963</td>\n",
              "      <td>-0.045304</td>\n",
              "    </tr>\n",
              "    <tr>\n",
              "      <th>H</th>\n",
              "      <td>-0.002868</td>\n",
              "      <td>-0.075261</td>\n",
              "      <td>-0.275254</td>\n",
              "      <td>-0.460472</td>\n",
              "      <td>-0.015105</td>\n",
              "      <td>0.026357</td>\n",
              "      <td>-0.044610</td>\n",
              "      <td>-0.073305</td>\n",
              "      <td>-0.012832</td>\n",
              "      <td>-0.602554</td>\n",
              "      <td>-0.437695</td>\n",
              "      <td>-0.130193</td>\n",
              "      <td>-0.098162</td>\n",
              "      <td>1.000000</td>\n",
              "      <td>-0.103333</td>\n",
              "      <td>-0.028426</td>\n",
              "      <td>-0.042203</td>\n",
              "      <td>-0.582747</td>\n",
              "      <td>-0.210363</td>\n",
              "      <td>-0.095291</td>\n",
              "      <td>-0.015920</td>\n",
              "      <td>-0.046399</td>\n",
              "      <td>0.004738</td>\n",
              "      <td>0.125894</td>\n",
              "      <td>0.303848</td>\n",
              "      <td>0.296187</td>\n",
              "      <td>0.104586</td>\n",
              "    </tr>\n",
              "    <tr>\n",
              "      <th>diameter</th>\n",
              "      <td>0.002510</td>\n",
              "      <td>0.012479</td>\n",
              "      <td>0.021625</td>\n",
              "      <td>0.041879</td>\n",
              "      <td>0.016527</td>\n",
              "      <td>0.001568</td>\n",
              "      <td>0.032981</td>\n",
              "      <td>0.010870</td>\n",
              "      <td>0.001534</td>\n",
              "      <td>0.224010</td>\n",
              "      <td>0.403525</td>\n",
              "      <td>0.023941</td>\n",
              "      <td>0.025407</td>\n",
              "      <td>-0.103333</td>\n",
              "      <td>1.000000</td>\n",
              "      <td>-0.102560</td>\n",
              "      <td>-0.008591</td>\n",
              "      <td>0.052641</td>\n",
              "      <td>-0.018842</td>\n",
              "      <td>-0.006810</td>\n",
              "      <td>-0.006889</td>\n",
              "      <td>-0.008966</td>\n",
              "      <td>-0.006369</td>\n",
              "      <td>-0.007580</td>\n",
              "      <td>-0.010563</td>\n",
              "      <td>-0.009829</td>\n",
              "      <td>-0.003784</td>\n",
              "    </tr>\n",
              "    <tr>\n",
              "      <th>albedo</th>\n",
              "      <td>-0.017923</td>\n",
              "      <td>-0.013973</td>\n",
              "      <td>-0.031420</td>\n",
              "      <td>-0.011005</td>\n",
              "      <td>-0.014170</td>\n",
              "      <td>-0.005685</td>\n",
              "      <td>-0.013928</td>\n",
              "      <td>-0.013327</td>\n",
              "      <td>-0.001710</td>\n",
              "      <td>0.098743</td>\n",
              "      <td>0.151248</td>\n",
              "      <td>0.041703</td>\n",
              "      <td>0.063395</td>\n",
              "      <td>-0.028426</td>\n",
              "      <td>-0.102560</td>\n",
              "      <td>1.000000</td>\n",
              "      <td>0.047600</td>\n",
              "      <td>0.038379</td>\n",
              "      <td>-0.023316</td>\n",
              "      <td>-0.013233</td>\n",
              "      <td>-0.004824</td>\n",
              "      <td>0.000196</td>\n",
              "      <td>-0.007517</td>\n",
              "      <td>-0.005747</td>\n",
              "      <td>-0.000835</td>\n",
              "      <td>-0.004994</td>\n",
              "      <td>-0.004439</td>\n",
              "    </tr>\n",
              "    <tr>\n",
              "      <th>rot_per</th>\n",
              "      <td>-0.007660</td>\n",
              "      <td>0.002284</td>\n",
              "      <td>0.002194</td>\n",
              "      <td>0.008524</td>\n",
              "      <td>0.002348</td>\n",
              "      <td>0.006160</td>\n",
              "      <td>0.012500</td>\n",
              "      <td>0.001666</td>\n",
              "      <td>0.000250</td>\n",
              "      <td>0.030611</td>\n",
              "      <td>0.049139</td>\n",
              "      <td>0.035128</td>\n",
              "      <td>0.066158</td>\n",
              "      <td>-0.042203</td>\n",
              "      <td>-0.008591</td>\n",
              "      <td>0.047600</td>\n",
              "      <td>1.000000</td>\n",
              "      <td>0.039009</td>\n",
              "      <td>0.004539</td>\n",
              "      <td>-0.000291</td>\n",
              "      <td>-0.008505</td>\n",
              "      <td>-0.009656</td>\n",
              "      <td>-0.009051</td>\n",
              "      <td>-0.010911</td>\n",
              "      <td>-0.013275</td>\n",
              "      <td>-0.006678</td>\n",
              "      <td>-0.001100</td>\n",
              "    </tr>\n",
              "    <tr>\n",
              "      <th>condition_code_0.0</th>\n",
              "      <td>-0.005095</td>\n",
              "      <td>0.012137</td>\n",
              "      <td>0.081967</td>\n",
              "      <td>0.177074</td>\n",
              "      <td>0.012290</td>\n",
              "      <td>-0.009223</td>\n",
              "      <td>-0.002512</td>\n",
              "      <td>0.012308</td>\n",
              "      <td>-0.001767</td>\n",
              "      <td>0.724198</td>\n",
              "      <td>0.435606</td>\n",
              "      <td>0.186721</td>\n",
              "      <td>0.160357</td>\n",
              "      <td>-0.582747</td>\n",
              "      <td>0.052641</td>\n",
              "      <td>0.038379</td>\n",
              "      <td>0.039009</td>\n",
              "      <td>1.000000</td>\n",
              "      <td>-0.127076</td>\n",
              "      <td>-0.083386</td>\n",
              "      <td>-0.063245</td>\n",
              "      <td>-0.094563</td>\n",
              "      <td>-0.130115</td>\n",
              "      <td>-0.181826</td>\n",
              "      <td>-0.251238</td>\n",
              "      <td>-0.248986</td>\n",
              "      <td>-0.158957</td>\n",
              "    </tr>\n",
              "    <tr>\n",
              "      <th>condition_code_1.0</th>\n",
              "      <td>0.002138</td>\n",
              "      <td>-0.009027</td>\n",
              "      <td>0.014603</td>\n",
              "      <td>0.120024</td>\n",
              "      <td>0.002563</td>\n",
              "      <td>-0.005890</td>\n",
              "      <td>-0.038431</td>\n",
              "      <td>-0.007133</td>\n",
              "      <td>-0.002551</td>\n",
              "      <td>0.094223</td>\n",
              "      <td>0.000059</td>\n",
              "      <td>-0.008966</td>\n",
              "      <td>-0.007885</td>\n",
              "      <td>-0.210363</td>\n",
              "      <td>-0.018842</td>\n",
              "      <td>-0.023316</td>\n",
              "      <td>0.004539</td>\n",
              "      <td>-0.127076</td>\n",
              "      <td>1.000000</td>\n",
              "      <td>-0.041572</td>\n",
              "      <td>-0.031530</td>\n",
              "      <td>-0.047144</td>\n",
              "      <td>-0.064868</td>\n",
              "      <td>-0.090649</td>\n",
              "      <td>-0.125254</td>\n",
              "      <td>-0.124132</td>\n",
              "      <td>-0.079248</td>\n",
              "    </tr>\n",
              "    <tr>\n",
              "      <th>condition_code_2.0</th>\n",
              "      <td>0.004311</td>\n",
              "      <td>-0.019149</td>\n",
              "      <td>-0.047070</td>\n",
              "      <td>0.064655</td>\n",
              "      <td>0.012980</td>\n",
              "      <td>-0.004965</td>\n",
              "      <td>-0.034292</td>\n",
              "      <td>-0.017500</td>\n",
              "      <td>-0.003172</td>\n",
              "      <td>0.003654</td>\n",
              "      <td>-0.014834</td>\n",
              "      <td>0.011753</td>\n",
              "      <td>0.017947</td>\n",
              "      <td>-0.095291</td>\n",
              "      <td>-0.006810</td>\n",
              "      <td>-0.013233</td>\n",
              "      <td>-0.000291</td>\n",
              "      <td>-0.083386</td>\n",
              "      <td>-0.041572</td>\n",
              "      <td>1.000000</td>\n",
              "      <td>-0.020690</td>\n",
              "      <td>-0.030936</td>\n",
              "      <td>-0.042566</td>\n",
              "      <td>-0.059483</td>\n",
              "      <td>-0.082190</td>\n",
              "      <td>-0.081454</td>\n",
              "      <td>-0.052002</td>\n",
              "    </tr>\n",
              "    <tr>\n",
              "      <th>condition_code_3.0</th>\n",
              "      <td>-0.000655</td>\n",
              "      <td>-0.012239</td>\n",
              "      <td>-0.047763</td>\n",
              "      <td>0.002254</td>\n",
              "      <td>0.008330</td>\n",
              "      <td>-0.009026</td>\n",
              "      <td>-0.021641</td>\n",
              "      <td>-0.011199</td>\n",
              "      <td>-0.002024</td>\n",
              "      <td>-0.036676</td>\n",
              "      <td>-0.006331</td>\n",
              "      <td>0.066421</td>\n",
              "      <td>0.095562</td>\n",
              "      <td>-0.015920</td>\n",
              "      <td>-0.006889</td>\n",
              "      <td>-0.004824</td>\n",
              "      <td>-0.008505</td>\n",
              "      <td>-0.063245</td>\n",
              "      <td>-0.031530</td>\n",
              "      <td>-0.020690</td>\n",
              "      <td>1.000000</td>\n",
              "      <td>-0.023463</td>\n",
              "      <td>-0.032284</td>\n",
              "      <td>-0.045115</td>\n",
              "      <td>-0.062338</td>\n",
              "      <td>-0.061779</td>\n",
              "      <td>-0.039441</td>\n",
              "    </tr>\n",
              "    <tr>\n",
              "      <th>condition_code_4.0</th>\n",
              "      <td>0.014383</td>\n",
              "      <td>0.014125</td>\n",
              "      <td>0.004579</td>\n",
              "      <td>-0.023496</td>\n",
              "      <td>0.007464</td>\n",
              "      <td>-0.010463</td>\n",
              "      <td>0.048664</td>\n",
              "      <td>0.011736</td>\n",
              "      <td>0.000600</td>\n",
              "      <td>-0.076976</td>\n",
              "      <td>-0.004906</td>\n",
              "      <td>0.012453</td>\n",
              "      <td>0.037701</td>\n",
              "      <td>-0.046399</td>\n",
              "      <td>-0.008966</td>\n",
              "      <td>0.000196</td>\n",
              "      <td>-0.009656</td>\n",
              "      <td>-0.094563</td>\n",
              "      <td>-0.047144</td>\n",
              "      <td>-0.030936</td>\n",
              "      <td>-0.023463</td>\n",
              "      <td>1.000000</td>\n",
              "      <td>-0.048272</td>\n",
              "      <td>-0.067456</td>\n",
              "      <td>-0.093208</td>\n",
              "      <td>-0.092372</td>\n",
              "      <td>-0.058972</td>\n",
              "    </tr>\n",
              "    <tr>\n",
              "      <th>condition_code_5.0</th>\n",
              "      <td>0.001084</td>\n",
              "      <td>0.012662</td>\n",
              "      <td>-0.038216</td>\n",
              "      <td>-0.068551</td>\n",
              "      <td>0.006418</td>\n",
              "      <td>-0.016134</td>\n",
              "      <td>0.103151</td>\n",
              "      <td>0.007532</td>\n",
              "      <td>0.000180</td>\n",
              "      <td>-0.111894</td>\n",
              "      <td>-0.037939</td>\n",
              "      <td>-0.022448</td>\n",
              "      <td>-0.002858</td>\n",
              "      <td>0.004738</td>\n",
              "      <td>-0.006369</td>\n",
              "      <td>-0.007517</td>\n",
              "      <td>-0.009051</td>\n",
              "      <td>-0.130115</td>\n",
              "      <td>-0.064868</td>\n",
              "      <td>-0.042566</td>\n",
              "      <td>-0.032284</td>\n",
              "      <td>-0.048272</td>\n",
              "      <td>1.000000</td>\n",
              "      <td>-0.092817</td>\n",
              "      <td>-0.128249</td>\n",
              "      <td>-0.127100</td>\n",
              "      <td>-0.081143</td>\n",
              "    </tr>\n",
              "    <tr>\n",
              "      <th>condition_code_6.0</th>\n",
              "      <td>0.001270</td>\n",
              "      <td>0.007396</td>\n",
              "      <td>-0.110613</td>\n",
              "      <td>-0.081423</td>\n",
              "      <td>0.015322</td>\n",
              "      <td>-0.000242</td>\n",
              "      <td>0.056629</td>\n",
              "      <td>0.004582</td>\n",
              "      <td>0.018113</td>\n",
              "      <td>-0.161052</td>\n",
              "      <td>-0.072536</td>\n",
              "      <td>-0.045668</td>\n",
              "      <td>-0.044108</td>\n",
              "      <td>0.125894</td>\n",
              "      <td>-0.007580</td>\n",
              "      <td>-0.005747</td>\n",
              "      <td>-0.010911</td>\n",
              "      <td>-0.181826</td>\n",
              "      <td>-0.090649</td>\n",
              "      <td>-0.059483</td>\n",
              "      <td>-0.045115</td>\n",
              "      <td>-0.067456</td>\n",
              "      <td>-0.092817</td>\n",
              "      <td>1.000000</td>\n",
              "      <td>-0.179219</td>\n",
              "      <td>-0.177613</td>\n",
              "      <td>-0.113391</td>\n",
              "    </tr>\n",
              "    <tr>\n",
              "      <th>condition_code_7.0</th>\n",
              "      <td>-0.001504</td>\n",
              "      <td>-0.021454</td>\n",
              "      <td>-0.069191</td>\n",
              "      <td>-0.114823</td>\n",
              "      <td>-0.009654</td>\n",
              "      <td>0.012853</td>\n",
              "      <td>-0.007738</td>\n",
              "      <td>-0.021147</td>\n",
              "      <td>-0.005679</td>\n",
              "      <td>-0.224917</td>\n",
              "      <td>-0.122661</td>\n",
              "      <td>-0.066981</td>\n",
              "      <td>-0.070858</td>\n",
              "      <td>0.303848</td>\n",
              "      <td>-0.010563</td>\n",
              "      <td>-0.000835</td>\n",
              "      <td>-0.013275</td>\n",
              "      <td>-0.251238</td>\n",
              "      <td>-0.125254</td>\n",
              "      <td>-0.082190</td>\n",
              "      <td>-0.062338</td>\n",
              "      <td>-0.093208</td>\n",
              "      <td>-0.128249</td>\n",
              "      <td>-0.179219</td>\n",
              "      <td>1.000000</td>\n",
              "      <td>-0.245417</td>\n",
              "      <td>-0.156678</td>\n",
              "    </tr>\n",
              "    <tr>\n",
              "      <th>condition_code_8.0</th>\n",
              "      <td>-0.009884</td>\n",
              "      <td>-0.001564</td>\n",
              "      <td>0.057690</td>\n",
              "      <td>-0.065355</td>\n",
              "      <td>-0.016017</td>\n",
              "      <td>0.014120</td>\n",
              "      <td>-0.044259</td>\n",
              "      <td>0.000651</td>\n",
              "      <td>-0.003562</td>\n",
              "      <td>-0.224675</td>\n",
              "      <td>-0.147480</td>\n",
              "      <td>-0.066661</td>\n",
              "      <td>-0.070963</td>\n",
              "      <td>0.296187</td>\n",
              "      <td>-0.009829</td>\n",
              "      <td>-0.004994</td>\n",
              "      <td>-0.006678</td>\n",
              "      <td>-0.248986</td>\n",
              "      <td>-0.124132</td>\n",
              "      <td>-0.081454</td>\n",
              "      <td>-0.061779</td>\n",
              "      <td>-0.092372</td>\n",
              "      <td>-0.127100</td>\n",
              "      <td>-0.177613</td>\n",
              "      <td>-0.245417</td>\n",
              "      <td>1.000000</td>\n",
              "      <td>-0.155274</td>\n",
              "    </tr>\n",
              "    <tr>\n",
              "      <th>condition_code_9.0</th>\n",
              "      <td>0.007621</td>\n",
              "      <td>0.010634</td>\n",
              "      <td>0.088697</td>\n",
              "      <td>0.028541</td>\n",
              "      <td>-0.021810</td>\n",
              "      <td>0.007534</td>\n",
              "      <td>-0.044874</td>\n",
              "      <td>0.012926</td>\n",
              "      <td>-0.000607</td>\n",
              "      <td>-0.134672</td>\n",
              "      <td>-0.109943</td>\n",
              "      <td>-0.042558</td>\n",
              "      <td>-0.045304</td>\n",
              "      <td>0.104586</td>\n",
              "      <td>-0.003784</td>\n",
              "      <td>-0.004439</td>\n",
              "      <td>-0.001100</td>\n",
              "      <td>-0.158957</td>\n",
              "      <td>-0.079248</td>\n",
              "      <td>-0.052002</td>\n",
              "      <td>-0.039441</td>\n",
              "      <td>-0.058972</td>\n",
              "      <td>-0.081143</td>\n",
              "      <td>-0.113391</td>\n",
              "      <td>-0.156678</td>\n",
              "      <td>-0.155274</td>\n",
              "      <td>1.000000</td>\n",
              "    </tr>\n",
              "  </tbody>\n",
              "</table>\n",
              "</div>"
            ],
            "text/plain": [
              "                    Unnamed: 0  ...  condition_code_9.0\n",
              "Unnamed: 0            1.000000  ...            0.007621\n",
              "a                     0.010531  ...            0.010634\n",
              "e                     0.000063  ...            0.088697\n",
              "i                     0.005108  ...            0.028541\n",
              "om                   -0.002183  ...           -0.021810\n",
              "w                     0.016035  ...            0.007534\n",
              "q                     0.000263  ...           -0.044874\n",
              "ad                    0.010558  ...            0.012926\n",
              "per_y                 0.010147  ...           -0.000607\n",
              "data_arc             -0.003663  ...           -0.134672\n",
              "n_obs_used           -0.003762  ...           -0.109943\n",
              "n_del_obs_used        0.002644  ...           -0.042558\n",
              "n_dop_obs_used        0.003101  ...           -0.045304\n",
              "H                    -0.002868  ...            0.104586\n",
              "diameter              0.002510  ...           -0.003784\n",
              "albedo               -0.017923  ...           -0.004439\n",
              "rot_per              -0.007660  ...           -0.001100\n",
              "condition_code_0.0   -0.005095  ...           -0.158957\n",
              "condition_code_1.0    0.002138  ...           -0.079248\n",
              "condition_code_2.0    0.004311  ...           -0.052002\n",
              "condition_code_3.0   -0.000655  ...           -0.039441\n",
              "condition_code_4.0    0.014383  ...           -0.058972\n",
              "condition_code_5.0    0.001084  ...           -0.081143\n",
              "condition_code_6.0    0.001270  ...           -0.113391\n",
              "condition_code_7.0   -0.001504  ...           -0.156678\n",
              "condition_code_8.0   -0.009884  ...           -0.155274\n",
              "condition_code_9.0    0.007621  ...            1.000000\n",
              "\n",
              "[27 rows x 27 columns]"
            ]
          },
          "metadata": {
            "tags": []
          },
          "execution_count": 5
        }
      ]
    },
    {
      "cell_type": "markdown",
      "metadata": {
        "id": "6uHeijfEsTIH"
      },
      "source": [
        "It is difficult to notice something in the last matrix since it is too large. We can also use a **heatmap**. In the following graph a more blue is the square, it indicates a higher correlation between the features. \n",
        "\n",
        "**If two features are correlated, we will rule out one of them**."
      ]
    },
    {
      "cell_type": "code",
      "metadata": {
        "colab": {
          "base_uri": "https://localhost:8080/",
          "height": 678
        },
        "id": "88LQlmg0qE3-",
        "outputId": "5215cab6-ae09-44d1-c446-7986b93d4978"
      },
      "source": [
        "import seaborn as sns\n",
        "import numpy as np\n",
        "import matplotlib.pyplot as plt\n",
        "\n",
        "# Compute the correlation matrix\n",
        "corr = np.abs(X).corr()\n",
        "\n",
        "# Generate a mask for the upper triangle\n",
        "mask = np.zeros_like(corr, dtype=np.bool)\n",
        "mask[np.triu_indices_from(mask)] = True\n",
        "\n",
        "# Set up the matplotlib figure\n",
        "f, ax = plt.subplots(figsize=(12, 10))\n",
        "\n",
        "# Draw the heatmap with the mask and correct aspect ratio\n",
        "sns.heatmap(corr, mask=mask,vmin = 0.0, vmax=1.0, center=0.5,\n",
        "            linewidths=.1, cmap=\"YlGnBu\", cbar_kws={\"shrink\": .8})\n",
        "\n",
        "plt.show()"
      ],
      "execution_count": null,
      "outputs": [
        {
          "output_type": "display_data",
          "data": {
            "image/png": "[encoded data removed]",
            "text/plain": [
              "<Figure size 864x720 with 2 Axes>"
            ]
          },
          "metadata": {
            "tags": [],
            "needs_background": "light"
          }
        }
      ]
    },
    {
      "cell_type": "markdown",
      "metadata": {
        "id": "ESoRDDEMs8_8"
      },
      "source": [
        "To decide wich feature will be taken down we will use the **F test score, and the MI score**. To make it easier, the following bar graph shows those score for each feature. A more high is the bar, more useful in the feature as a predictor of the target. So when two features are correlated, we will take out the one wich is less useful for the model."
      ]
    },
    {
      "cell_type": "code",
      "metadata": {
        "id": "v4BebPbSqE3_"
      },
      "source": [
        "data = y['pha']\n",
        "y = data "
      ],
      "execution_count": null,
      "outputs": []
    },
    {
      "cell_type": "code",
      "metadata": {
        "colab": {
          "base_uri": "https://localhost:8080/",
          "height": 356
        },
        "id": "RdaEQ2FhqE3_",
        "outputId": "0b2ca0a6-5583-4dfc-8ddc-c07f5987a0ee"
      },
      "source": [
        "from sklearn.feature_selection import f_classif, mutual_info_classif\n",
        "from sklearn.feature_selection import f_regression, mutual_info_regression\n",
        "\n",
        "# convertimos el DataFrame al formato necesario para scikit-learn\n",
        "#data = house_data.values \n",
        "\n",
        "y = data   # nos quedamos con la 1ª columna, price\n",
        "#X = data[:,1:]      # nos quedamos con el resto\n",
        "\n",
        "feature_names = X.columns\n",
        "\n",
        "\n",
        "# do calculations\n",
        "f_test, _ = f_regression(X, y)\n",
        "f_test /= np.max(f_test)\n",
        "\n",
        "mi = mutual_info_regression(X, y)\n",
        "mi /= np.max(mi)\n",
        "\n",
        "# do some plotting\n",
        "plt.figure(figsize=(20, 5))\n",
        "\n",
        "plt.subplot(1,2,1)\n",
        "plt.bar(range(X.shape[1]),f_test,  align=\"center\")\n",
        "plt.xticks(range(X.shape[1]),feature_names, rotation = 90)\n",
        "plt.xlabel('features')\n",
        "plt.ylabel('Ranking')\n",
        "plt.title('$F-Test$ score')\n",
        "\n",
        "plt.subplot(1,2,2)\n",
        "plt.bar(range(X.shape[1]),mi, align=\"center\")\n",
        "plt.xticks(range(X.shape[1]),feature_names, rotation = 90)\n",
        "plt.xlabel('features')\n",
        "plt.ylabel('Ranking')\n",
        "plt.title('Mutual information score')\n",
        "\n",
        "plt.show()"
      ],
      "execution_count": null,
      "outputs": [
        {
          "output_type": "display_data",
          "data": {
            "image/png": "[encoded data removed]",
            "text/plain": [
              "<Figure size 1440x360 with 2 Axes>"
            ]
          },
          "metadata": {
            "tags": [],
            "needs_background": "light"
          }
        }
      ]
    },
    {
      "cell_type": "code",
      "metadata": {
        "colab": {
          "base_uri": "https://localhost:8080/"
        },
        "id": "YCC0v5_lqE4B",
        "outputId": "ac76ce05-b5c8-4399-eece-a63772d33d11"
      },
      "source": [
        "X.columns"
      ],
      "execution_count": null,
      "outputs": [
        {
          "output_type": "execute_result",
          "data": {
            "text/plain": [
              "Index(['Unnamed: 0', 'a', 'e', 'i', 'om', 'w', 'q', 'ad', 'per_y', 'data_arc',\n",
              "       'n_obs_used', 'n_del_obs_used', 'n_dop_obs_used', 'H', 'diameter',\n",
              "       'albedo', 'rot_per', 'condition_code_0.0', 'condition_code_1.0',\n",
              "       'condition_code_2.0', 'condition_code_3.0', 'condition_code_4.0',\n",
              "       'condition_code_5.0', 'condition_code_6.0', 'condition_code_7.0',\n",
              "       'condition_code_8.0', 'condition_code_9.0'],\n",
              "      dtype='object')"
            ]
          },
          "metadata": {
            "tags": []
          },
          "execution_count": 9
        }
      ]
    },
    {
      "cell_type": "markdown",
      "metadata": {
        "id": "3-lOup53uHp8"
      },
      "source": [
        "We select the only the features that looks useful and plot the correlation heatmap again."
      ]
    },
    {
      "cell_type": "code",
      "metadata": {
        "id": "7Afk9RHPqE4B"
      },
      "source": [
        "X = X[['Unnamed: 0', 'e', 'i', 'om', 'w', 'q', 'per_y', 'data_arc',\n",
        "       'n_del_obs_used', 'H', 'diameter',\n",
        "       'albedo', 'rot_per', 'condition_code_1.0',\n",
        "       'condition_code_2.0', 'condition_code_3.0', 'condition_code_4.0',\n",
        "       'condition_code_5.0', 'condition_code_6.0', 'condition_code_7.0',\n",
        "       'condition_code_8.0', 'condition_code_9.0']]"
      ],
      "execution_count": null,
      "outputs": []
    },
    {
      "cell_type": "code",
      "metadata": {
        "id": "1cfwg1jEqE4C",
        "outputId": "f3d327f3-518a-4f64-d5a0-98ce1d90a706"
      },
      "source": [
        "# Compute the correlation matrix\n",
        "corr = np.abs(X).corr()\n",
        "\n",
        "# Generate a mask for the upper triangle\n",
        "mask = np.zeros_like(corr, dtype=np.bool)\n",
        "mask[np.triu_indices_from(mask)] = True\n",
        "\n",
        "# Set up the matplotlib figure\n",
        "f, ax = plt.subplots(figsize=(12, 10))\n",
        "\n",
        "# Draw the heatmap with the mask and correct aspect ratio\n",
        "sns.heatmap(corr, mask=mask,vmin = 0.0, vmax=1.0, center=0.5,\n",
        "            linewidths=.1, cmap=\"YlGnBu\", cbar_kws={\"shrink\": .8})\n",
        "\n",
        "plt.show()"
      ],
      "execution_count": null,
      "outputs": [
        {
          "output_type": "display_data",
          "data": {
            "image/png": "[encoded data removed]",
            "text/plain": [
              "<Figure size 864x720 with 2 Axes>"
            ]
          },
          "metadata": {
            "tags": [],
            "needs_background": "light"
          }
        }
      ]
    },
    {
      "cell_type": "markdown",
      "metadata": {
        "id": "qUrz_o0LqE4C"
      },
      "source": [
        "### Model"
      ]
    },
    {
      "cell_type": "code",
      "metadata": {
        "id": "xU2lB6LeqE4D",
        "outputId": "ea4e756a-3d6b-4c48-8555-1a9fed13c163"
      },
      "source": [
        "X.shape"
      ],
      "execution_count": null,
      "outputs": [
        {
          "output_type": "execute_result",
          "data": {
            "text/plain": [
              "(20712, 22)"
            ]
          },
          "metadata": {
            "tags": []
          },
          "execution_count": 13
        }
      ]
    },
    {
      "cell_type": "code",
      "metadata": {
        "id": "AyqXvH4sqE4D",
        "outputId": "6bbbb75c-1a5d-4baf-c44c-83526dfaf885"
      },
      "source": [
        "y.shape"
      ],
      "execution_count": null,
      "outputs": [
        {
          "output_type": "execute_result",
          "data": {
            "text/plain": [
              "(20712,)"
            ]
          },
          "metadata": {
            "tags": []
          },
          "execution_count": 14
        }
      ]
    },
    {
      "cell_type": "markdown",
      "metadata": {
        "id": "iA89J8imu0xL"
      },
      "source": [
        "An SVM model does not have a good behaviour with unbalanced data. So we will use **SMOTE** tecnique to solve the issue."
      ]
    },
    {
      "cell_type": "code",
      "metadata": {
        "id": "S_4OtrhhqE4E",
        "outputId": "22f1b457-1440-469c-dfde-ce6a715d284b"
      },
      "source": [
        "from imblearn.over_sampling import SMOTE\n",
        "from collections import Counter\n",
        "from sklearn.preprocessing import LabelEncoder\n",
        "\n",
        "# split into input and output elements\n",
        "\n",
        "#X, y = train_new_features[train_new_features.columns.difference(['Classification'])], train_new_features.iloc[:, 0]\n",
        "\n",
        "# label encode the target variable\n",
        "\n",
        "y = LabelEncoder().fit_transform(y)\n",
        "\n",
        "# transform the dataset\n",
        "\n",
        "oversample = SMOTE()\n",
        "X, y = oversample.fit_resample(X, y)\n",
        "\n",
        "# summarize distribution\n",
        "\n",
        "counter = Counter(y)\n",
        "for k,v in counter.items():\n",
        "\tper = v / len(y) * 100\n",
        "\tprint('Class=%d, n=%d (%.3f%%)' % (k, v, per))\n",
        "    \n",
        "# plot the distribution\n",
        "\n",
        "plt.bar(counter.keys(), counter.values())\n",
        "plt.show()"
      ],
      "execution_count": null,
      "outputs": [
        {
          "output_type": "stream",
          "text": [
            "Class=0, n=19008 (50.000%)\n",
            "Class=1, n=19008 (50.000%)\n"
          ],
          "name": "stdout"
        },
        {
          "output_type": "display_data",
          "data": {
            "image/png": "[encoded data removed]",
            "text/plain": [
              "<Figure size 432x288 with 1 Axes>"
            ]
          },
          "metadata": {
            "tags": [],
            "needs_background": "light"
          }
        }
      ]
    },
    {
      "cell_type": "markdown",
      "metadata": {
        "id": "_13uhbqHvC2B"
      },
      "source": [
        "We fit the model to the train data"
      ]
    },
    {
      "cell_type": "code",
      "metadata": {
        "id": "nGYjmCN8qE4F",
        "outputId": "3602aa56-99e6-4436-e6a6-427b218bc689"
      },
      "source": [
        "model = SVC(kernel = 'linear', random_state=123)\n",
        "model.fit(X, y)"
      ],
      "execution_count": null,
      "outputs": [
        {
          "output_type": "execute_result",
          "data": {
            "text/plain": [
              "SVC(kernel='linear', random_state=123)"
            ]
          },
          "metadata": {
            "tags": []
          },
          "execution_count": 17
        }
      ]
    },
    {
      "cell_type": "markdown",
      "metadata": {
        "id": "bu4SHxllVsPZ"
      },
      "source": [
        "## Deep Learning"
      ]
    },
    {
      "cell_type": "markdown",
      "metadata": {
        "id": "sTeCgVQLsaSD"
      },
      "source": [
        "\n",
        "Our first attempts of training artificial neural networks had a predictable problem: **given the unbalanced condition of our dataset, the neural networks had a tendency to predict '0'** (not hazardous) for any input, which would obtain a high accuracy becuase most of the rows are not hazardous, but it was obviously a wrong way of predicting.\n",
        "\n",
        "This was solved by **setting  a higher weight to all the rows that are classified as hazardous**. This way, the neural network will prioritize detecting hazardous asteroids.\n"
      ]
    },
    {
      "cell_type": "code",
      "metadata": {
        "id": "XNlpvhE10Jj4"
      },
      "source": [
        "param_dict = {\n",
        "    'number_of_layers': 3,\n",
        "    'number_of_neurons_per_layer' : 20,\n",
        "    'learning_rate': 0.001,\n",
        "    'batch-size': 200,\n",
        "    'class_weight':1e3,\n",
        "    'dropout_rate': 0,\n",
        "}\n",
        "\n",
        "def tune_number_of_layers(param_dict, param_to_tune, param_values):\n",
        "  results = []\n",
        "\n",
        "  for value in param_values:\n",
        "    param_dict[param_to_tune] = value\n",
        "\n",
        "    seed(0)\n",
        "    tensorflow.random.set_seed(0)\n",
        "\n",
        "    model = Sequential()\n",
        "    model.add(Dropout(param_dict['dropout_rate'], input_dim=26))\n",
        "    for i in range(param_dict['number_of_layers']):\n",
        "      model.add(Dense(param_dict['number_of_neurons_per_layer'], activation='relu'))\n",
        "    model.add(Dense(1, activation='sigmoid'))\n",
        "\n",
        "    class_weights = {0: 1, 1: param_dict['class_weight']}\n",
        "\n",
        "    opt = Adam(learning_rate=param_dict['learning_rate'])\n",
        "\n",
        "    model.compile(loss='binary_crossentropy', optimizer=opt, metrics=['AUC'])\n",
        "\n",
        "    history = model.fit(train_x, train_y, epochs = 100, batch_size = param_dict['batch-size'], class_weight = class_weights, verbose=False)\n",
        "\n",
        "    train_pred = (model.predict(train_x) > 0.5).astype(\"int32\")\n",
        "    train_f_score = f1_score(train_y, train_pred, average = 'macro')\n",
        "\n",
        "    val_pred = (model.predict(val_x) > 0.5).astype(\"int32\")\n",
        "    val_f_score = f1_score(val_y, val_pred, average = 'macro')\n",
        "\n",
        "    results.append({param_to_tune:value, 'Training F1 score':train_f_score, \"Validation F1 score\":val_f_score})\n",
        "\n",
        "    print('Iteration with %s equal to %s completed'%(param_to_tune, value))\n",
        "  return results"
      ],
      "execution_count": null,
      "outputs": []
    },
    {
      "cell_type": "markdown",
      "metadata": {
        "id": "Sfr1Yg_Vv41g"
      },
      "source": [
        "### Tuning number of hidden layers"
      ]
    },
    {
      "cell_type": "code",
      "metadata": {
        "id": "X_qij49wbmMb"
      },
      "source": [
        "results = tune_number_of_layers(param_dict, 'number_of_layers', [4, 6, 8, 10, 12])"
      ],
      "execution_count": null,
      "outputs": []
    },
    {
      "cell_type": "code",
      "metadata": {
        "colab": {
          "base_uri": "https://localhost:8080/",
          "height": 204
        },
        "id": "L_mkF46gffmT",
        "outputId": "65f38da7-2adf-47dd-f8b0-16dea551c90c"
      },
      "source": [
        "pd.DataFrame(results)"
      ],
      "execution_count": null,
      "outputs": [
        {
          "output_type": "execute_result",
          "data": {
            "text/html": [
              "<div>\n",
              "<style scoped>\n",
              "    .dataframe tbody tr th:only-of-type {\n",
              "        vertical-align: middle;\n",
              "    }\n",
              "\n",
              "    .dataframe tbody tr th {\n",
              "        vertical-align: top;\n",
              "    }\n",
              "\n",
              "    .dataframe thead th {\n",
              "        text-align: right;\n",
              "    }\n",
              "</style>\n",
              "<table border=\"1\" class=\"dataframe\">\n",
              "  <thead>\n",
              "    <tr style=\"text-align: right;\">\n",
              "      <th></th>\n",
              "      <th>Number of layers</th>\n",
              "      <th>Training F1 score</th>\n",
              "      <th>Validation F1 score</th>\n",
              "    </tr>\n",
              "  </thead>\n",
              "  <tbody>\n",
              "    <tr>\n",
              "      <th>0</th>\n",
              "      <td>4</td>\n",
              "      <td>0.608930</td>\n",
              "      <td>0.488334</td>\n",
              "    </tr>\n",
              "    <tr>\n",
              "      <th>1</th>\n",
              "      <td>6</td>\n",
              "      <td>0.525029</td>\n",
              "      <td>0.553708</td>\n",
              "    </tr>\n",
              "    <tr>\n",
              "      <th>2</th>\n",
              "      <td>8</td>\n",
              "      <td>0.518673</td>\n",
              "      <td>0.558337</td>\n",
              "    </tr>\n",
              "    <tr>\n",
              "      <th>3</th>\n",
              "      <td>10</td>\n",
              "      <td>0.516580</td>\n",
              "      <td>0.557491</td>\n",
              "    </tr>\n",
              "    <tr>\n",
              "      <th>4</th>\n",
              "      <td>12</td>\n",
              "      <td>0.544902</td>\n",
              "      <td>0.554761</td>\n",
              "    </tr>\n",
              "  </tbody>\n",
              "</table>\n",
              "</div>"
            ],
            "text/plain": [
              "   Number of layers  Training F1 score  Validation F1 score\n",
              "0                 4           0.608930             0.488334\n",
              "1                 6           0.525029             0.553708\n",
              "2                 8           0.518673             0.558337\n",
              "3                10           0.516580             0.557491\n",
              "4                12           0.544902             0.554761"
            ]
          },
          "metadata": {
            "tags": []
          },
          "execution_count": 173
        }
      ]
    },
    {
      "cell_type": "code",
      "metadata": {
        "id": "T-lzF1Y5nJDT"
      },
      "source": [
        "param_dict['number_of_layers'] = 8"
      ],
      "execution_count": null,
      "outputs": []
    },
    {
      "cell_type": "markdown",
      "metadata": {
        "id": "FI20wPDHAn6t"
      },
      "source": [
        "### Tuning number of neurons per hidden layer"
      ]
    },
    {
      "cell_type": "code",
      "metadata": {
        "colab": {
          "base_uri": "https://localhost:8080/"
        },
        "id": "cRc19bMhA7_X",
        "outputId": "d1d419ec-579a-49ee-d105-6b763f3f9ef4"
      },
      "source": [
        "results = tune_number_of_layers(param_dict, 'number_of_neurons_per_layer', [4, 5, 10, 20])"
      ],
      "execution_count": null,
      "outputs": [
        {
          "output_type": "stream",
          "text": [
            "Iteration with number_of_neurons_per_layer equal to 4 completed\n",
            "Iteration with number_of_neurons_per_layer equal to 5 completed\n",
            "Iteration with number_of_neurons_per_layer equal to 10 completed\n",
            "Iteration with number_of_neurons_per_layer equal to 20 completed\n"
          ],
          "name": "stdout"
        }
      ]
    },
    {
      "cell_type": "code",
      "metadata": {
        "colab": {
          "base_uri": "https://localhost:8080/",
          "height": 173
        },
        "id": "HsVE8VFZB6de",
        "outputId": "60031b77-8876-4ae3-8564-b061bdb955e5"
      },
      "source": [
        "pd.DataFrame(results)"
      ],
      "execution_count": null,
      "outputs": [
        {
          "output_type": "execute_result",
          "data": {
            "text/html": [
              "<div>\n",
              "<style scoped>\n",
              "    .dataframe tbody tr th:only-of-type {\n",
              "        vertical-align: middle;\n",
              "    }\n",
              "\n",
              "    .dataframe tbody tr th {\n",
              "        vertical-align: top;\n",
              "    }\n",
              "\n",
              "    .dataframe thead th {\n",
              "        text-align: right;\n",
              "    }\n",
              "</style>\n",
              "<table border=\"1\" class=\"dataframe\">\n",
              "  <thead>\n",
              "    <tr style=\"text-align: right;\">\n",
              "      <th></th>\n",
              "      <th>number_of_neurons_per_layer</th>\n",
              "      <th>Training F1 score</th>\n",
              "      <th>Validation F1 score</th>\n",
              "    </tr>\n",
              "  </thead>\n",
              "  <tbody>\n",
              "    <tr>\n",
              "      <th>0</th>\n",
              "      <td>4</td>\n",
              "      <td>0.394880</td>\n",
              "      <td>0.589070</td>\n",
              "    </tr>\n",
              "    <tr>\n",
              "      <th>1</th>\n",
              "      <td>5</td>\n",
              "      <td>0.435178</td>\n",
              "      <td>0.598435</td>\n",
              "    </tr>\n",
              "    <tr>\n",
              "      <th>2</th>\n",
              "      <td>10</td>\n",
              "      <td>0.514740</td>\n",
              "      <td>0.567939</td>\n",
              "    </tr>\n",
              "    <tr>\n",
              "      <th>3</th>\n",
              "      <td>20</td>\n",
              "      <td>0.616375</td>\n",
              "      <td>0.496589</td>\n",
              "    </tr>\n",
              "  </tbody>\n",
              "</table>\n",
              "</div>"
            ],
            "text/plain": [
              "   number_of_neurons_per_layer  Training F1 score  Validation F1 score\n",
              "0                            4           0.394880             0.589070\n",
              "1                            5           0.435178             0.598435\n",
              "2                           10           0.514740             0.567939\n",
              "3                           20           0.616375             0.496589"
            ]
          },
          "metadata": {
            "tags": []
          },
          "execution_count": 185
        }
      ]
    },
    {
      "cell_type": "code",
      "metadata": {
        "id": "VgVCzqntC_VO"
      },
      "source": [
        "param_dict['number_of_neurons_per_layer'] = 5"
      ],
      "execution_count": null,
      "outputs": []
    },
    {
      "cell_type": "markdown",
      "metadata": {
        "id": "5sguoZm6DJgT"
      },
      "source": [
        "### Tuning learning rate"
      ]
    },
    {
      "cell_type": "code",
      "metadata": {
        "colab": {
          "base_uri": "https://localhost:8080/"
        },
        "id": "llsgEsTfDILv",
        "outputId": "9cb5ad91-abd7-43f3-800c-d8b48b3a5b16"
      },
      "source": [
        "results = tune_number_of_layers(param_dict, 'learning_rate', [0.1, 0.01, 0.001, 0.0001, 0.00001])"
      ],
      "execution_count": null,
      "outputs": [
        {
          "output_type": "stream",
          "text": [
            "Iteration with learning_rate equal to 0.1 completed\n",
            "Iteration with learning_rate equal to 0.01 completed\n",
            "Iteration with learning_rate equal to 0.001 completed\n",
            "Iteration with learning_rate equal to 0.0001 completed\n",
            "Iteration with learning_rate equal to 1e-05 completed\n"
          ],
          "name": "stdout"
        }
      ]
    },
    {
      "cell_type": "code",
      "metadata": {
        "colab": {
          "base_uri": "https://localhost:8080/",
          "height": 204
        },
        "id": "aD6iK5kjEyEc",
        "outputId": "5bc0d842-808a-4503-e990-f54cfbfd8245"
      },
      "source": [
        "pd.DataFrame(results)"
      ],
      "execution_count": null,
      "outputs": [
        {
          "output_type": "execute_result",
          "data": {
            "text/html": [
              "<div>\n",
              "<style scoped>\n",
              "    .dataframe tbody tr th:only-of-type {\n",
              "        vertical-align: middle;\n",
              "    }\n",
              "\n",
              "    .dataframe tbody tr th {\n",
              "        vertical-align: top;\n",
              "    }\n",
              "\n",
              "    .dataframe thead th {\n",
              "        text-align: right;\n",
              "    }\n",
              "</style>\n",
              "<table border=\"1\" class=\"dataframe\">\n",
              "  <thead>\n",
              "    <tr style=\"text-align: right;\">\n",
              "      <th></th>\n",
              "      <th>learning_rate</th>\n",
              "      <th>Training F1 score</th>\n",
              "      <th>Validation F1 score</th>\n",
              "    </tr>\n",
              "  </thead>\n",
              "  <tbody>\n",
              "    <tr>\n",
              "      <th>0</th>\n",
              "      <td>0.10000</td>\n",
              "      <td>0.076017</td>\n",
              "      <td>0.083864</td>\n",
              "    </tr>\n",
              "    <tr>\n",
              "      <th>1</th>\n",
              "      <td>0.01000</td>\n",
              "      <td>0.511499</td>\n",
              "      <td>0.678162</td>\n",
              "    </tr>\n",
              "    <tr>\n",
              "      <th>2</th>\n",
              "      <td>0.00100</td>\n",
              "      <td>0.415643</td>\n",
              "      <td>0.563837</td>\n",
              "    </tr>\n",
              "    <tr>\n",
              "      <th>3</th>\n",
              "      <td>0.00010</td>\n",
              "      <td>0.076017</td>\n",
              "      <td>0.083864</td>\n",
              "    </tr>\n",
              "    <tr>\n",
              "      <th>4</th>\n",
              "      <td>0.00001</td>\n",
              "      <td>0.076017</td>\n",
              "      <td>0.083864</td>\n",
              "    </tr>\n",
              "  </tbody>\n",
              "</table>\n",
              "</div>"
            ],
            "text/plain": [
              "   learning_rate  Training F1 score  Validation F1 score\n",
              "0        0.10000           0.076017             0.083864\n",
              "1        0.01000           0.511499             0.678162\n",
              "2        0.00100           0.415643             0.563837\n",
              "3        0.00010           0.076017             0.083864\n",
              "4        0.00001           0.076017             0.083864"
            ]
          },
          "metadata": {
            "tags": []
          },
          "execution_count": 195
        }
      ]
    },
    {
      "cell_type": "code",
      "metadata": {
        "id": "oFgp3Y9IE657"
      },
      "source": [
        "param_dict['learning_rate'] = 0.01"
      ],
      "execution_count": null,
      "outputs": []
    },
    {
      "cell_type": "markdown",
      "metadata": {
        "id": "480XFwtFFWtV"
      },
      "source": [
        "### Tuning batch size"
      ]
    },
    {
      "cell_type": "code",
      "metadata": {
        "colab": {
          "base_uri": "https://localhost:8080/"
        },
        "id": "nd-RWXX1F7hs",
        "outputId": "f402ae63-f115-476e-86ca-74d2cc322e95"
      },
      "source": [
        "results = tune_number_of_layers(param_dict, 'batch-size', [50, 100, 200, 400, 500])"
      ],
      "execution_count": null,
      "outputs": [
        {
          "output_type": "stream",
          "text": [
            "Iteration with batch-size equal to 50 completed\n",
            "Iteration with batch-size equal to 100 completed\n",
            "Iteration with batch-size equal to 200 completed\n",
            "Iteration with batch-size equal to 400 completed\n",
            "Iteration with batch-size equal to 500 completed\n"
          ],
          "name": "stdout"
        }
      ]
    },
    {
      "cell_type": "code",
      "metadata": {
        "colab": {
          "base_uri": "https://localhost:8080/",
          "height": 204
        },
        "id": "KOBQGr1OIMX9",
        "outputId": "b317097e-6621-4b18-aae7-9b79be3cf79b"
      },
      "source": [
        "pd.DataFrame(results)"
      ],
      "execution_count": null,
      "outputs": [
        {
          "output_type": "execute_result",
          "data": {
            "text/html": [
              "<div>\n",
              "<style scoped>\n",
              "    .dataframe tbody tr th:only-of-type {\n",
              "        vertical-align: middle;\n",
              "    }\n",
              "\n",
              "    .dataframe tbody tr th {\n",
              "        vertical-align: top;\n",
              "    }\n",
              "\n",
              "    .dataframe thead th {\n",
              "        text-align: right;\n",
              "    }\n",
              "</style>\n",
              "<table border=\"1\" class=\"dataframe\">\n",
              "  <thead>\n",
              "    <tr style=\"text-align: right;\">\n",
              "      <th></th>\n",
              "      <th>batch-size</th>\n",
              "      <th>Training F1 score</th>\n",
              "      <th>Validation F1 score</th>\n",
              "    </tr>\n",
              "  </thead>\n",
              "  <tbody>\n",
              "    <tr>\n",
              "      <th>0</th>\n",
              "      <td>50</td>\n",
              "      <td>0.449225</td>\n",
              "      <td>0.589414</td>\n",
              "    </tr>\n",
              "    <tr>\n",
              "      <th>1</th>\n",
              "      <td>100</td>\n",
              "      <td>0.463108</td>\n",
              "      <td>0.589482</td>\n",
              "    </tr>\n",
              "    <tr>\n",
              "      <th>2</th>\n",
              "      <td>200</td>\n",
              "      <td>0.511499</td>\n",
              "      <td>0.678162</td>\n",
              "    </tr>\n",
              "    <tr>\n",
              "      <th>3</th>\n",
              "      <td>400</td>\n",
              "      <td>0.455376</td>\n",
              "      <td>0.575523</td>\n",
              "    </tr>\n",
              "    <tr>\n",
              "      <th>4</th>\n",
              "      <td>500</td>\n",
              "      <td>0.532808</td>\n",
              "      <td>0.598816</td>\n",
              "    </tr>\n",
              "  </tbody>\n",
              "</table>\n",
              "</div>"
            ],
            "text/plain": [
              "   batch-size  Training F1 score  Validation F1 score\n",
              "0          50           0.449225             0.589414\n",
              "1         100           0.463108             0.589482\n",
              "2         200           0.511499             0.678162\n",
              "3         400           0.455376             0.575523\n",
              "4         500           0.532808             0.598816"
            ]
          },
          "metadata": {
            "tags": []
          },
          "execution_count": 202
        }
      ]
    },
    {
      "cell_type": "code",
      "metadata": {
        "id": "c30PU-eqIRMW"
      },
      "source": [
        "param_dict['batch-size'] = 200"
      ],
      "execution_count": null,
      "outputs": []
    },
    {
      "cell_type": "markdown",
      "metadata": {
        "id": "LkPoeTrZIvxO"
      },
      "source": [
        " ### Tuning class weight"
      ]
    },
    {
      "cell_type": "code",
      "metadata": {
        "colab": {
          "base_uri": "https://localhost:8080/"
        },
        "id": "NjLu1hp0JNnR",
        "outputId": "222f935b-0a8c-4fe9-c4c7-5c13bc9af15c"
      },
      "source": [
        "results = tune_number_of_layers(param_dict, 'class_weight', [3e2, 7e2, 1e3, 1.3e3, 1.7e3])"
      ],
      "execution_count": null,
      "outputs": [
        {
          "output_type": "stream",
          "text": [
            "Iteration with class_weight equal to 300.0 completed\n",
            "Iteration with class_weight equal to 700.0 completed\n",
            "Iteration with class_weight equal to 1000.0 completed\n",
            "Iteration with class_weight equal to 1300.0 completed\n",
            "Iteration with class_weight equal to 1700.0 completed\n"
          ],
          "name": "stdout"
        }
      ]
    },
    {
      "cell_type": "code",
      "metadata": {
        "colab": {
          "base_uri": "https://localhost:8080/",
          "height": 204
        },
        "id": "7glvlV3oKXIz",
        "outputId": "22b4d1d5-6356-4d97-f81e-97a03fd8f2ae"
      },
      "source": [
        "pd.DataFrame(results)"
      ],
      "execution_count": null,
      "outputs": [
        {
          "output_type": "execute_result",
          "data": {
            "text/html": [
              "<div>\n",
              "<style scoped>\n",
              "    .dataframe tbody tr th:only-of-type {\n",
              "        vertical-align: middle;\n",
              "    }\n",
              "\n",
              "    .dataframe tbody tr th {\n",
              "        vertical-align: top;\n",
              "    }\n",
              "\n",
              "    .dataframe thead th {\n",
              "        text-align: right;\n",
              "    }\n",
              "</style>\n",
              "<table border=\"1\" class=\"dataframe\">\n",
              "  <thead>\n",
              "    <tr style=\"text-align: right;\">\n",
              "      <th></th>\n",
              "      <th>class_weight</th>\n",
              "      <th>Training F1 score</th>\n",
              "      <th>Validation F1 score</th>\n",
              "    </tr>\n",
              "  </thead>\n",
              "  <tbody>\n",
              "    <tr>\n",
              "      <th>0</th>\n",
              "      <td>300.0</td>\n",
              "      <td>0.486856</td>\n",
              "      <td>0.562929</td>\n",
              "    </tr>\n",
              "    <tr>\n",
              "      <th>1</th>\n",
              "      <td>700.0</td>\n",
              "      <td>0.543558</td>\n",
              "      <td>0.565846</td>\n",
              "    </tr>\n",
              "    <tr>\n",
              "      <th>2</th>\n",
              "      <td>1000.0</td>\n",
              "      <td>0.511499</td>\n",
              "      <td>0.678162</td>\n",
              "    </tr>\n",
              "    <tr>\n",
              "      <th>3</th>\n",
              "      <td>1300.0</td>\n",
              "      <td>0.076073</td>\n",
              "      <td>0.121075</td>\n",
              "    </tr>\n",
              "    <tr>\n",
              "      <th>4</th>\n",
              "      <td>1700.0</td>\n",
              "      <td>0.510477</td>\n",
              "      <td>0.539801</td>\n",
              "    </tr>\n",
              "  </tbody>\n",
              "</table>\n",
              "</div>"
            ],
            "text/plain": [
              "   class_weight  Training F1 score  Validation F1 score\n",
              "0         300.0           0.486856             0.562929\n",
              "1         700.0           0.543558             0.565846\n",
              "2        1000.0           0.511499             0.678162\n",
              "3        1300.0           0.076073             0.121075\n",
              "4        1700.0           0.510477             0.539801"
            ]
          },
          "metadata": {
            "tags": []
          },
          "execution_count": 224
        }
      ]
    },
    {
      "cell_type": "code",
      "metadata": {
        "id": "52vVaa3dNRVn"
      },
      "source": [
        "param_dict['class_weight'] = 1e3"
      ],
      "execution_count": null,
      "outputs": []
    },
    {
      "cell_type": "markdown",
      "metadata": {
        "id": "StA9_4clMNSB"
      },
      "source": [
        " ### Tuning dropout rate\n",
        "\n",
        "\n"
      ]
    },
    {
      "cell_type": "code",
      "metadata": {
        "colab": {
          "base_uri": "https://localhost:8080/"
        },
        "id": "pRg4mt5UML8U",
        "outputId": "2855da73-b827-425d-ad22-cf941dfb80ad"
      },
      "source": [
        "param_dict['number_of_neurons_per_layer'] = 20\n",
        "results = tune_number_of_layers(param_dict, 'dropout_rate', [0.05, 0.1, 0.2, 0.3, 0.5])"
      ],
      "execution_count": null,
      "outputs": [
        {
          "output_type": "stream",
          "text": [
            "Iteration with dropout_rate equal to 0.05 completed\n",
            "Iteration with dropout_rate equal to 0.1 completed\n",
            "Iteration with dropout_rate equal to 0.2 completed\n",
            "Iteration with dropout_rate equal to 0.3 completed\n",
            "Iteration with dropout_rate equal to 0.5 completed\n"
          ],
          "name": "stdout"
        }
      ]
    },
    {
      "cell_type": "code",
      "metadata": {
        "colab": {
          "base_uri": "https://localhost:8080/",
          "height": 204
        },
        "id": "cOKL1dUgQL2A",
        "outputId": "d5fdcaa5-7bdd-4292-8285-052a58efdcef"
      },
      "source": [
        "pd.DataFrame(results)"
      ],
      "execution_count": null,
      "outputs": [
        {
          "output_type": "execute_result",
          "data": {
            "text/html": [
              "<div>\n",
              "<style scoped>\n",
              "    .dataframe tbody tr th:only-of-type {\n",
              "        vertical-align: middle;\n",
              "    }\n",
              "\n",
              "    .dataframe tbody tr th {\n",
              "        vertical-align: top;\n",
              "    }\n",
              "\n",
              "    .dataframe thead th {\n",
              "        text-align: right;\n",
              "    }\n",
              "</style>\n",
              "<table border=\"1\" class=\"dataframe\">\n",
              "  <thead>\n",
              "    <tr style=\"text-align: right;\">\n",
              "      <th></th>\n",
              "      <th>dropout_rate</th>\n",
              "      <th>Training F1 score</th>\n",
              "      <th>Validation F1 score</th>\n",
              "    </tr>\n",
              "  </thead>\n",
              "  <tbody>\n",
              "    <tr>\n",
              "      <th>0</th>\n",
              "      <td>0.05</td>\n",
              "      <td>0.304559</td>\n",
              "      <td>0.182005</td>\n",
              "    </tr>\n",
              "    <tr>\n",
              "      <th>1</th>\n",
              "      <td>0.10</td>\n",
              "      <td>0.163334</td>\n",
              "      <td>0.413027</td>\n",
              "    </tr>\n",
              "    <tr>\n",
              "      <th>2</th>\n",
              "      <td>0.20</td>\n",
              "      <td>0.093294</td>\n",
              "      <td>0.250721</td>\n",
              "    </tr>\n",
              "    <tr>\n",
              "      <th>3</th>\n",
              "      <td>0.30</td>\n",
              "      <td>0.076017</td>\n",
              "      <td>0.083864</td>\n",
              "    </tr>\n",
              "    <tr>\n",
              "      <th>4</th>\n",
              "      <td>0.50</td>\n",
              "      <td>0.076073</td>\n",
              "      <td>0.307117</td>\n",
              "    </tr>\n",
              "  </tbody>\n",
              "</table>\n",
              "</div>"
            ],
            "text/plain": [
              "   dropout_rate  Training F1 score  Validation F1 score\n",
              "0          0.05           0.304559             0.182005\n",
              "1          0.10           0.163334             0.413027\n",
              "2          0.20           0.093294             0.250721\n",
              "3          0.30           0.076017             0.083864\n",
              "4          0.50           0.076073             0.307117"
            ]
          },
          "metadata": {
            "tags": []
          },
          "execution_count": 233
        }
      ]
    },
    {
      "cell_type": "code",
      "metadata": {
        "id": "e4kvP34DSCUH"
      },
      "source": [
        "param_dict['number_of_neurons_per_layer'] = 5\n",
        "param_dict['dropout_rate'] = 0"
      ],
      "execution_count": null,
      "outputs": []
    },
    {
      "cell_type": "markdown",
      "metadata": {
        "id": "h5k3YNZBTbqT"
      },
      "source": [
        "## xgBoost"
      ]
    },
    {
      "cell_type": "code",
      "metadata": {
        "id": "HjI6WS5lUOxD"
      },
      "source": [
        "dtrain = xgb.DMatrix(data=train_x,label=train_y)\n",
        "dval = xgb.DMatrix(data=val_x)\n",
        "dtest = xgb.DMatrix(data=test_x)"
      ],
      "execution_count": null,
      "outputs": []
    },
    {
      "cell_type": "code",
      "metadata": {
        "id": "iOaMO-AJUbAe"
      },
      "source": [
        "param = {'objective' : \"multi:softmax\",\n",
        "         'num_class': 4,\n",
        "         'num_round': 1000}"
      ],
      "execution_count": null,
      "outputs": []
    },
    {
      "cell_type": "code",
      "metadata": {
        "id": "yjhVBhDhUdhn"
      },
      "source": [
        "from sklearn.metrics import accuracy_score\n",
        "def tune_parameter_xgboost(param_dict, parameter_to_calibrate, values_to_try, dtrain, dtest, y_train, y_test):\n",
        "   training_scores = []\n",
        "   testing_scores = []\n",
        "\n",
        "   for value in values_to_try:\n",
        "     param_dict[parameter_to_calibrate] = value\n",
        "     model = xgb.train(param_dict, dtrain, num_boost_round = 100) \n",
        "\n",
        "     train_predictions = model.predict(dtrain)\n",
        "     train_f1_score = f1_score(y_train, train_predictions, average='macro')\n",
        "     training_scores.append(train_f1_score)\n",
        "\n",
        "     predictions = model.predict(dtest)\n",
        "     f_score = f1_score(y_test, predictions, average='macro')\n",
        "     testing_scores.append(f_score)\n",
        "\n",
        "   return training_scores, testing_scores"
      ],
      "execution_count": null,
      "outputs": []
    },
    {
      "cell_type": "markdown",
      "metadata": {
        "id": "iKfV_WT8UjMN"
      },
      "source": [
        "### Tuning learning rate"
      ]
    },
    {
      "cell_type": "code",
      "metadata": {
        "colab": {
          "base_uri": "https://localhost:8080/",
          "height": 173
        },
        "id": "kUTKnOE7UokY",
        "outputId": "fc1c882c-775a-402a-b38d-6ef60a834fef"
      },
      "source": [
        "training_scores, testing_scores = tune_parameter_xgboost(param, 'learning_rate', [0.05, 0.1, 0.2, 0.3], dtrain, dval, train_y, val_y)\n",
        "pd.DataFrame({'Learning rate': [0.05, 0.1, 0.2, 0.3], 'Training score': training_scores, 'Validation scores': testing_scores})"
      ],
      "execution_count": null,
      "outputs": [
        {
          "output_type": "execute_result",
          "data": {
            "text/html": [
              "<div>\n",
              "<style scoped>\n",
              "    .dataframe tbody tr th:only-of-type {\n",
              "        vertical-align: middle;\n",
              "    }\n",
              "\n",
              "    .dataframe tbody tr th {\n",
              "        vertical-align: top;\n",
              "    }\n",
              "\n",
              "    .dataframe thead th {\n",
              "        text-align: right;\n",
              "    }\n",
              "</style>\n",
              "<table border=\"1\" class=\"dataframe\">\n",
              "  <thead>\n",
              "    <tr style=\"text-align: right;\">\n",
              "      <th></th>\n",
              "      <th>Learning rate</th>\n",
              "      <th>Training score</th>\n",
              "      <th>Validation scores</th>\n",
              "    </tr>\n",
              "  </thead>\n",
              "  <tbody>\n",
              "    <tr>\n",
              "      <th>0</th>\n",
              "      <td>0.05</td>\n",
              "      <td>0.832070</td>\n",
              "      <td>0.715933</td>\n",
              "    </tr>\n",
              "    <tr>\n",
              "      <th>1</th>\n",
              "      <td>0.10</td>\n",
              "      <td>0.909721</td>\n",
              "      <td>0.760297</td>\n",
              "    </tr>\n",
              "    <tr>\n",
              "      <th>2</th>\n",
              "      <td>0.20</td>\n",
              "      <td>0.983324</td>\n",
              "      <td>0.803055</td>\n",
              "    </tr>\n",
              "    <tr>\n",
              "      <th>3</th>\n",
              "      <td>0.30</td>\n",
              "      <td>0.998881</td>\n",
              "      <td>0.799253</td>\n",
              "    </tr>\n",
              "  </tbody>\n",
              "</table>\n",
              "</div>"
            ],
            "text/plain": [
              "   Learning rate  Training score  Validation scores\n",
              "0           0.05        0.832070           0.715933\n",
              "1           0.10        0.909721           0.760297\n",
              "2           0.20        0.983324           0.803055\n",
              "3           0.30        0.998881           0.799253"
            ]
          },
          "metadata": {
            "tags": []
          },
          "execution_count": 258
        }
      ]
    },
    {
      "cell_type": "code",
      "metadata": {
        "id": "aPjfAlaKWCTN"
      },
      "source": [
        "param['learning_rate'] = 0.20"
      ],
      "execution_count": null,
      "outputs": []
    },
    {
      "cell_type": "markdown",
      "metadata": {
        "id": "HjrgUGwYWE0_"
      },
      "source": [
        "### Tuning max depth"
      ]
    },
    {
      "cell_type": "code",
      "metadata": {
        "colab": {
          "base_uri": "https://localhost:8080/",
          "height": 204
        },
        "id": "puvGOz2JWqvK",
        "outputId": "33838b2f-0a75-494a-c752-d6a918ffea1b"
      },
      "source": [
        "training_scores, testing_scores = tune_parameter_xgboost(param, 'max_depth', [4, 5, 6, 7, 8], dtrain, dval, train_y, val_y)\n",
        "pd.DataFrame({'max_depth': [4, 5, 6, 7, 8], 'Training score': training_scores, 'Validation scores': testing_scores})"
      ],
      "execution_count": null,
      "outputs": [
        {
          "output_type": "execute_result",
          "data": {
            "text/html": [
              "<div>\n",
              "<style scoped>\n",
              "    .dataframe tbody tr th:only-of-type {\n",
              "        vertical-align: middle;\n",
              "    }\n",
              "\n",
              "    .dataframe tbody tr th {\n",
              "        vertical-align: top;\n",
              "    }\n",
              "\n",
              "    .dataframe thead th {\n",
              "        text-align: right;\n",
              "    }\n",
              "</style>\n",
              "<table border=\"1\" class=\"dataframe\">\n",
              "  <thead>\n",
              "    <tr style=\"text-align: right;\">\n",
              "      <th></th>\n",
              "      <th>max_depth</th>\n",
              "      <th>Training score</th>\n",
              "      <th>Validation scores</th>\n",
              "    </tr>\n",
              "  </thead>\n",
              "  <tbody>\n",
              "    <tr>\n",
              "      <th>0</th>\n",
              "      <td>4</td>\n",
              "      <td>0.916958</td>\n",
              "      <td>0.719999</td>\n",
              "    </tr>\n",
              "    <tr>\n",
              "      <th>1</th>\n",
              "      <td>5</td>\n",
              "      <td>0.958636</td>\n",
              "      <td>0.752231</td>\n",
              "    </tr>\n",
              "    <tr>\n",
              "      <th>2</th>\n",
              "      <td>6</td>\n",
              "      <td>0.983324</td>\n",
              "      <td>0.803055</td>\n",
              "    </tr>\n",
              "    <tr>\n",
              "      <th>3</th>\n",
              "      <td>7</td>\n",
              "      <td>0.995996</td>\n",
              "      <td>0.757034</td>\n",
              "    </tr>\n",
              "    <tr>\n",
              "      <th>4</th>\n",
              "      <td>8</td>\n",
              "      <td>0.999680</td>\n",
              "      <td>0.790430</td>\n",
              "    </tr>\n",
              "  </tbody>\n",
              "</table>\n",
              "</div>"
            ],
            "text/plain": [
              "   max_depth  Training score  Validation scores\n",
              "0          4        0.916958           0.719999\n",
              "1          5        0.958636           0.752231\n",
              "2          6        0.983324           0.803055\n",
              "3          7        0.995996           0.757034\n",
              "4          8        0.999680           0.790430"
            ]
          },
          "metadata": {
            "tags": []
          },
          "execution_count": 267
        }
      ]
    },
    {
      "cell_type": "code",
      "metadata": {
        "id": "D4WUmZMsX4l3"
      },
      "source": [
        "param['max_depth'] = 6"
      ],
      "execution_count": null,
      "outputs": []
    },
    {
      "cell_type": "markdown",
      "metadata": {
        "id": "dcMmPivuYuef"
      },
      "source": [
        "### Tuning percentage of features used by each tree"
      ]
    },
    {
      "cell_type": "code",
      "metadata": {
        "colab": {
          "base_uri": "https://localhost:8080/",
          "height": 173
        },
        "id": "NMMqZPbUYyrF",
        "outputId": "8b2370b8-5edb-487c-9ec7-a8a602645d85"
      },
      "source": [
        "training_scores, testing_scores = tune_parameter_xgboost(param, 'colsample_bytree', [0.5, 0.75, 0.9, 1], dtrain, dval, train_y, val_y)\n",
        "pd.DataFrame({'colsample_bytree': [0.5, 0.75, 0.9, 1], 'Training score': training_scores, 'Validation scores': testing_scores})"
      ],
      "execution_count": null,
      "outputs": [
        {
          "output_type": "execute_result",
          "data": {
            "text/html": [
              "<div>\n",
              "<style scoped>\n",
              "    .dataframe tbody tr th:only-of-type {\n",
              "        vertical-align: middle;\n",
              "    }\n",
              "\n",
              "    .dataframe tbody tr th {\n",
              "        vertical-align: top;\n",
              "    }\n",
              "\n",
              "    .dataframe thead th {\n",
              "        text-align: right;\n",
              "    }\n",
              "</style>\n",
              "<table border=\"1\" class=\"dataframe\">\n",
              "  <thead>\n",
              "    <tr style=\"text-align: right;\">\n",
              "      <th></th>\n",
              "      <th>colsample_bytree</th>\n",
              "      <th>Training score</th>\n",
              "      <th>Validation scores</th>\n",
              "    </tr>\n",
              "  </thead>\n",
              "  <tbody>\n",
              "    <tr>\n",
              "      <th>0</th>\n",
              "      <td>0.50</td>\n",
              "      <td>0.970523</td>\n",
              "      <td>0.700671</td>\n",
              "    </tr>\n",
              "    <tr>\n",
              "      <th>1</th>\n",
              "      <td>0.75</td>\n",
              "      <td>0.983491</td>\n",
              "      <td>0.717683</td>\n",
              "    </tr>\n",
              "    <tr>\n",
              "      <th>2</th>\n",
              "      <td>0.90</td>\n",
              "      <td>0.980660</td>\n",
              "      <td>0.762984</td>\n",
              "    </tr>\n",
              "    <tr>\n",
              "      <th>3</th>\n",
              "      <td>1.00</td>\n",
              "      <td>0.983324</td>\n",
              "      <td>0.803055</td>\n",
              "    </tr>\n",
              "  </tbody>\n",
              "</table>\n",
              "</div>"
            ],
            "text/plain": [
              "   colsample_bytree  Training score  Validation scores\n",
              "0              0.50        0.970523           0.700671\n",
              "1              0.75        0.983491           0.717683\n",
              "2              0.90        0.980660           0.762984\n",
              "3              1.00        0.983324           0.803055"
            ]
          },
          "metadata": {
            "tags": []
          },
          "execution_count": 270
        }
      ]
    },
    {
      "cell_type": "code",
      "metadata": {
        "id": "eVYUWT_NZl5u"
      },
      "source": [
        "param['colsample_bytree'] = 1"
      ],
      "execution_count": null,
      "outputs": []
    },
    {
      "cell_type": "markdown",
      "metadata": {
        "id": "a9J_gfDnZoEy"
      },
      "source": [
        "### Tuning number of rounds"
      ]
    },
    {
      "cell_type": "code",
      "metadata": {
        "id": "hdFZ68ONZrOA"
      },
      "source": [
        "def tune_nrounds(param_dict, values_to_try, dtrain, dtest, y_train, y_test):\n",
        "   training_scores = []\n",
        "   testing_scores = []\n",
        "\n",
        "   for value in values_to_try:\n",
        "     model = xgb.train(param_dict, dtrain, num_boost_round = value) \n",
        "\n",
        "     train_predictions = model.predict(dtrain)\n",
        "     print(train_predictions)\n",
        "     train_f1_score = f1_score(y_train, train_predictions, average='macro')\n",
        "     training_scores.append(train_f1_score)\n",
        "\n",
        "     predictions = model.predict(dtest)\n",
        "     f_score = f1_score(y_test, predictions, average='macro')\n",
        "     testing_scores.append(f_score)\n",
        "\n",
        "   return training_scores, testing_scores"
      ],
      "execution_count": null,
      "outputs": []
    },
    {
      "cell_type": "code",
      "metadata": {
        "colab": {
          "base_uri": "https://localhost:8080/",
          "height": 204
        },
        "id": "DoXvVQuIZvyn",
        "outputId": "c5adf426-af57-4faa-be38-e91b2544f9d6"
      },
      "source": [
        "training_scores, testing_scores = tune_nrounds(param, range(100, 1001, 200), dtrain, dval, train_y, val_y)\n",
        "pd.DataFrame({'nrounds': list(range(100, 1001, 200)), 'Training score': training_scores, 'Testing scores': testing_scores})"
      ],
      "execution_count": null,
      "outputs": [
        {
          "output_type": "execute_result",
          "data": {
            "text/html": [
              "<div>\n",
              "<style scoped>\n",
              "    .dataframe tbody tr th:only-of-type {\n",
              "        vertical-align: middle;\n",
              "    }\n",
              "\n",
              "    .dataframe tbody tr th {\n",
              "        vertical-align: top;\n",
              "    }\n",
              "\n",
              "    .dataframe thead th {\n",
              "        text-align: right;\n",
              "    }\n",
              "</style>\n",
              "<table border=\"1\" class=\"dataframe\">\n",
              "  <thead>\n",
              "    <tr style=\"text-align: right;\">\n",
              "      <th></th>\n",
              "      <th>nrounds</th>\n",
              "      <th>Training score</th>\n",
              "      <th>Testing scores</th>\n",
              "    </tr>\n",
              "  </thead>\n",
              "  <tbody>\n",
              "    <tr>\n",
              "      <th>0</th>\n",
              "      <td>100</td>\n",
              "      <td>0.983324</td>\n",
              "      <td>0.803055</td>\n",
              "    </tr>\n",
              "    <tr>\n",
              "      <th>1</th>\n",
              "      <td>300</td>\n",
              "      <td>1.000000</td>\n",
              "      <td>0.786870</td>\n",
              "    </tr>\n",
              "    <tr>\n",
              "      <th>2</th>\n",
              "      <td>500</td>\n",
              "      <td>1.000000</td>\n",
              "      <td>0.795585</td>\n",
              "    </tr>\n",
              "    <tr>\n",
              "      <th>3</th>\n",
              "      <td>700</td>\n",
              "      <td>1.000000</td>\n",
              "      <td>0.804974</td>\n",
              "    </tr>\n",
              "    <tr>\n",
              "      <th>4</th>\n",
              "      <td>900</td>\n",
              "      <td>1.000000</td>\n",
              "      <td>0.801246</td>\n",
              "    </tr>\n",
              "  </tbody>\n",
              "</table>\n",
              "</div>"
            ],
            "text/plain": [
              "   nrounds  Training score  Testing scores\n",
              "0      100        0.983324        0.803055\n",
              "1      300        1.000000        0.786870\n",
              "2      500        1.000000        0.795585\n",
              "3      700        1.000000        0.804974\n",
              "4      900        1.000000        0.801246"
            ]
          },
          "metadata": {
            "tags": []
          },
          "execution_count": 273
        }
      ]
    },
    {
      "cell_type": "code",
      "metadata": {
        "colab": {
          "base_uri": "https://localhost:8080/"
        },
        "id": "99XPtcxfcxZy",
        "outputId": "6b201bac-c0f0-4415-e7d3-42acc30e9bcc"
      },
      "source": [
        "training_scores, testing_scores = tune_nrounds(param, range(10, 100, 30), dtrain, dval, train_y, val_y)\n",
        "#pd.DataFrame({'nrounds': list(range(100, 1001, 200)), 'Training score': training_scores, 'Testing scores': testing_scores})"
      ],
      "execution_count": null,
      "outputs": [
        {
          "output_type": "stream",
          "text": [
            "[0. 0. 0. ... 0. 0. 0.]\n",
            "[0. 0. 0. ... 0. 1. 0.]\n",
            "[0. 0. 0. ... 0. 1. 0.]\n"
          ],
          "name": "stdout"
        }
      ]
    },
    {
      "cell_type": "markdown",
      "metadata": {
        "id": "qq1-8S7BY4Pm"
      },
      "source": [
        "# Evaluation"
      ]
    },
    {
      "cell_type": "markdown",
      "metadata": {
        "id": "x-oVN3sxDFaZ"
      },
      "source": [
        "We start evaluating how good are our model predicting the target variable on new data. The F Score macro, was required so it will be reported."
      ]
    },
    {
      "cell_type": "markdown",
      "metadata": {
        "id": "EuwPpR0bvki7"
      },
      "source": [
        "## Evaluating SVM"
      ]
    },
    {
      "cell_type": "markdown",
      "metadata": {
        "id": "lP5FEbY4qE4F"
      },
      "source": [
        "We load new data to test the model"
      ]
    },
    {
      "cell_type": "code",
      "metadata": {
        "id": "fhPdnlesqE4F"
      },
      "source": [
        "X_test = pd.read_csv(\"data/testing_features.csv\")\n",
        "y_test = pd.read_csv(\"data/testing_target.csv\")"
      ],
      "execution_count": null,
      "outputs": []
    },
    {
      "cell_type": "code",
      "metadata": {
        "id": "U4n5QYSmqE4F",
        "outputId": "9bd9a696-3726-40b6-cfc9-29cb023e0142"
      },
      "source": [
        "y_test.head()"
      ],
      "execution_count": null,
      "outputs": [
        {
          "output_type": "execute_result",
          "data": {
            "text/html": [
              "<div>\n",
              "<style scoped>\n",
              "    .dataframe tbody tr th:only-of-type {\n",
              "        vertical-align: middle;\n",
              "    }\n",
              "\n",
              "    .dataframe tbody tr th {\n",
              "        vertical-align: top;\n",
              "    }\n",
              "\n",
              "    .dataframe thead th {\n",
              "        text-align: right;\n",
              "    }\n",
              "</style>\n",
              "<table border=\"1\" class=\"dataframe\">\n",
              "  <thead>\n",
              "    <tr style=\"text-align: right;\">\n",
              "      <th></th>\n",
              "      <th>Unnamed: 0</th>\n",
              "      <th>pha</th>\n",
              "    </tr>\n",
              "  </thead>\n",
              "  <tbody>\n",
              "    <tr>\n",
              "      <th>0</th>\n",
              "      <td>11593</td>\n",
              "      <td>0</td>\n",
              "    </tr>\n",
              "    <tr>\n",
              "      <th>1</th>\n",
              "      <td>1609</td>\n",
              "      <td>0</td>\n",
              "    </tr>\n",
              "    <tr>\n",
              "      <th>2</th>\n",
              "      <td>19173</td>\n",
              "      <td>0</td>\n",
              "    </tr>\n",
              "    <tr>\n",
              "      <th>3</th>\n",
              "      <td>18335</td>\n",
              "      <td>0</td>\n",
              "    </tr>\n",
              "    <tr>\n",
              "      <th>4</th>\n",
              "      <td>11119</td>\n",
              "      <td>0</td>\n",
              "    </tr>\n",
              "  </tbody>\n",
              "</table>\n",
              "</div>"
            ],
            "text/plain": [
              "   Unnamed: 0  pha\n",
              "0       11593    0\n",
              "1        1609    0\n",
              "2       19173    0\n",
              "3       18335    0\n",
              "4       11119    0"
            ]
          },
          "metadata": {
            "tags": []
          },
          "execution_count": 19
        }
      ]
    },
    {
      "cell_type": "code",
      "metadata": {
        "id": "uGRbC-C8qE4G"
      },
      "source": [
        "y_test = y_test['pha']\n",
        "\n",
        "X_test = X_test[['Unnamed: 0', 'e', 'i', 'om', 'w', 'q', 'per_y', 'data_arc',\n",
        "       'n_del_obs_used', 'H', 'diameter',\n",
        "       'albedo', 'rot_per', 'condition_code_1.0',\n",
        "       'condition_code_2.0', 'condition_code_3.0', 'condition_code_4.0',\n",
        "       'condition_code_5.0', 'condition_code_6.0', 'condition_code_7.0',\n",
        "       'condition_code_8.0', 'condition_code_9.0']]"
      ],
      "execution_count": null,
      "outputs": []
    },
    {
      "cell_type": "code",
      "metadata": {
        "id": "4VL1_YQZqE4G"
      },
      "source": [
        "predictions = model.predict(X_test)"
      ],
      "execution_count": null,
      "outputs": []
    },
    {
      "cell_type": "code",
      "metadata": {
        "id": "70LyI2cuqE4H",
        "outputId": "36d00445-20a3-41f9-83f4-17b041dcab6e"
      },
      "source": [
        "from sklearn.metrics import accuracy_score\n",
        "\n",
        "accuracy = accuracy_score(y_test, predictions)\n",
        "\n",
        "print(f'Accuracy upon the test data is {100*accuracy:.2f} %')"
      ],
      "execution_count": null,
      "outputs": [
        {
          "output_type": "stream",
          "text": [
            "Accuracy upon the test data is 86.10 %\n"
          ],
          "name": "stdout"
        }
      ]
    },
    {
      "cell_type": "code",
      "metadata": {
        "id": "rX79xMU1qE4H"
      },
      "source": [
        "from sklearn.metrics import precision_recall_fscore_support"
      ],
      "execution_count": null,
      "outputs": []
    },
    {
      "cell_type": "code",
      "metadata": {
        "id": "9NCG8UQ2qE4I"
      },
      "source": [
        "# calculo de f score\n",
        "\n",
        "precision, recall, Fscore, _ = precision_recall_fscore_support(y_test, predictions, average='macro')"
      ],
      "execution_count": null,
      "outputs": []
    },
    {
      "cell_type": "code",
      "metadata": {
        "id": "N2EQgf98qE4I",
        "outputId": "800dfc04-0f67-4c72-f254-fd4c08ed6ba1"
      },
      "source": [
        "Fscore"
      ],
      "execution_count": null,
      "outputs": [
        {
          "output_type": "execute_result",
          "data": {
            "text/plain": [
              "0.6473316882539212"
            ]
          },
          "metadata": {
            "tags": []
          },
          "execution_count": 25
        }
      ]
    },
    {
      "cell_type": "markdown",
      "metadata": {
        "id": "LvWEtx4jbJh3"
      },
      "source": [
        "## Evaluating deep learning"
      ]
    },
    {
      "cell_type": "code",
      "metadata": {
        "id": "F8Hcgn9Rkrr9"
      },
      "source": [
        "seed(0)\n",
        "tensorflow.random.set_seed(0)\n",
        "\n",
        "model = Sequential()\n",
        "model.add(Dropout(param_dict['dropout_rate'], input_dim=26))\n",
        "for i in range(param_dict['number_of_layers']):\n",
        "  model.add(Dense(param_dict['number_of_neurons_per_layer'], activation='relu'))\n",
        "model.add(Dense(1, activation='sigmoid'))\n",
        "\n",
        "class_weights = {0: 1, 1: param_dict['class_weight']}\n",
        "\n",
        "opt = Adam(learning_rate=param_dict['learning_rate'])\n",
        "\n",
        "model.compile(loss='binary_crossentropy', optimizer=opt, metrics=['AUC'])\n",
        "\n",
        "history = model.fit(train_x, train_y, epochs = 100, batch_size = param_dict['batch-size'], class_weight = class_weights, verbose=False)"
      ],
      "execution_count": null,
      "outputs": []
    },
    {
      "cell_type": "code",
      "metadata": {
        "id": "Qt9vLpiqkrr-"
      },
      "source": [
        "train_pred = (model.predict(train_x) > 0.5).astype(\"int32\")\n",
        "train_f_score = f1_score(train_y, train_pred, average = 'macro')\n",
        "\n",
        "val_pred = (model.predict(val_x) > 0.5).astype(\"int32\")\n",
        "val_f_score = f1_score(val_y, val_pred, average = 'macro')\n",
        "\n",
        "test_pred = (model.predict(test_x) > 0.5).astype(\"int32\")\n",
        "test_f_score = f1_score(test_y, test_pred, average = 'macro')"
      ],
      "execution_count": null,
      "outputs": []
    },
    {
      "cell_type": "code",
      "metadata": {
        "colab": {
          "base_uri": "https://localhost:8080/"
        },
        "id": "XstY644LTr8S",
        "outputId": "ed51d771-7626-47dc-ca86-59390b246b02"
      },
      "source": [
        "print(\"Final F1-score\")"
      ],
      "execution_count": null,
      "outputs": [
        {
          "output_type": "execute_result",
          "data": {
            "text/plain": [
              "0.47992249632168604"
            ]
          },
          "metadata": {
            "tags": []
          },
          "execution_count": 246
        }
      ]
    },
    {
      "cell_type": "markdown",
      "metadata": {
        "id": "2Sf-PGX6bNml"
      },
      "source": [
        "## Evaluating xgBoost"
      ]
    },
    {
      "cell_type": "code",
      "metadata": {
        "id": "S474mHiQTtVx"
      },
      "source": [
        "xgbModel = xgb.train(param_dict, dtrain, num_boost_round = 700) "
      ],
      "execution_count": null,
      "outputs": []
    },
    {
      "cell_type": "code",
      "metadata": {
        "colab": {
          "base_uri": "https://localhost:8080/"
        },
        "id": "Z08Td6TGhXee",
        "outputId": "436e3db5-bc63-4ba2-8aa7-7fcf74312ac3"
      },
      "source": [
        "test_predictions = (xgbModel.predict(dtest) > 0.5).astype(\"int32\")\n",
        "test_f1_score = f1_score(test_y, test_predictions, average='macro')\n",
        "print(\"Final f1 score obtained at testing using the xgBoost model: %f\"%test_f1_score)"
      ],
      "execution_count": null,
      "outputs": [
        {
          "output_type": "stream",
          "text": [
            "Final f1 score obtained at testing using the xgBoost model: 0.811278\n"
          ],
          "name": "stdout"
        }
      ]
    },
    {
      "cell_type": "markdown",
      "metadata": {
        "id": "0B8p2_Y-zZWq"
      },
      "source": [
        "# Conclusion"
      ]
    },
    {
      "cell_type": "markdown",
      "metadata": {
        "id": "C7IxBf0K3oxw"
      },
      "source": [
        "After finally training and evaluating all the machine learning models, let's have a look at how they compare against each other."
      ]
    },
    {
      "cell_type": "code",
      "metadata": {
        "colab": {
          "base_uri": "https://localhost:8080/",
          "height": 142
        },
        "id": "uPrJELGD3GdA",
        "outputId": "422c4860-181f-4e46-d20c-15aa7da84e18"
      },
      "source": [
        "final_results = [\n",
        "                 {'model':'Support Vector Machine', 'F1 Score on testing':0.647331},\n",
        "                 {'model':'Deep Learning', 'F1 Score on testing':0.479922},\n",
        "                 {'model':'Extreme Gradient Boosting', 'F1 Score on testing':0.811278},\n",
        "]\n",
        "pd.DataFrame(final_results)"
      ],
      "execution_count": null,
      "outputs": [
        {
          "output_type": "execute_result",
          "data": {
            "text/html": [
              "<div>\n",
              "<style scoped>\n",
              "    .dataframe tbody tr th:only-of-type {\n",
              "        vertical-align: middle;\n",
              "    }\n",
              "\n",
              "    .dataframe tbody tr th {\n",
              "        vertical-align: top;\n",
              "    }\n",
              "\n",
              "    .dataframe thead th {\n",
              "        text-align: right;\n",
              "    }\n",
              "</style>\n",
              "<table border=\"1\" class=\"dataframe\">\n",
              "  <thead>\n",
              "    <tr style=\"text-align: right;\">\n",
              "      <th></th>\n",
              "      <th>model</th>\n",
              "      <th>F1 Score on testing</th>\n",
              "    </tr>\n",
              "  </thead>\n",
              "  <tbody>\n",
              "    <tr>\n",
              "      <th>0</th>\n",
              "      <td>Support Vector Machine</td>\n",
              "      <td>0.647331</td>\n",
              "    </tr>\n",
              "    <tr>\n",
              "      <th>1</th>\n",
              "      <td>Deep Learning</td>\n",
              "      <td>0.479922</td>\n",
              "    </tr>\n",
              "    <tr>\n",
              "      <th>2</th>\n",
              "      <td>Extreme Gradient Boosting</td>\n",
              "      <td>0.811278</td>\n",
              "    </tr>\n",
              "  </tbody>\n",
              "</table>\n",
              "</div>"
            ],
            "text/plain": [
              "                       model  F1 Score on testing\n",
              "0     Support Vector Machine             0.647331\n",
              "1              Deep Learning             0.479922\n",
              "2  Extreme Gradient Boosting             0.811278"
            ]
          },
          "metadata": {
            "tags": []
          },
          "execution_count": 3
        }
      ]
    },
    {
      "cell_type": "markdown",
      "metadata": {
        "id": "PwtimYE_zzYq"
      },
      "source": [
        "As we can see, out of all the models tested, the one that obtained the best F score is the **xgBoost model** with **0.8112**."
      ]
    },
    {
      "cell_type": "code",
      "metadata": {
        "id": "BFNyEvD83vSZ"
      },
      "source": [
        ""
      ],
      "execution_count": null,
      "outputs": []
    }
  ]
}