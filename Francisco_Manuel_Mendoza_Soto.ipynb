{
  "nbformat": 4,
  "nbformat_minor": 0,
  "metadata": {
    "colab": {
      "name": "Francisco_Manuel_Mendoza_Soto.ipynb",
      "provenance": [],
      "collapsed_sections": [],
      "toc_visible": true
    },
    "kernelspec": {
      "name": "python3",
      "display_name": "Python 3"
    },
    "language_info": {
      "name": "python"
    },
    "accelerator": "TPU"
  },
  "cells": [
    {
      "cell_type": "markdown",
      "metadata": {
        "id": "SbOYmXhTR9Jd"
      },
      "source": [
        "Reto individual\n",
        "\n",
        "*   Hackathon: HACK THAT STARTUP 3 \n",
        "*   Autor: Francisco Manuel Mendoza Soto\n",
        "\n",
        "\n",
        "\n"
      ]
    },
    {
      "cell_type": "code",
      "metadata": {
        "id": "-5iOFJOUN1ei"
      },
      "source": [
        "# Imports\n",
        "import pandas as pd\n",
        "from sklearn.preprocessing import MaxAbsScaler\n",
        "from sklearn.utils import shuffle\n",
        "import xgboost as xgb\n",
        "from sklearn.metrics import f1_score\n",
        "from sklearn import svm\n",
        "from sklearn.neighbors import KNeighborsClassifier\n",
        "\n"
      ],
      "execution_count": null,
      "outputs": []
    },
    {
      "cell_type": "markdown",
      "metadata": {
        "id": "kGzBjWhpU1P7"
      },
      "source": [
        "# Data exploration"
      ]
    },
    {
      "cell_type": "markdown",
      "metadata": {
        "id": "-hIRCdctWdff"
      },
      "source": [
        "First, let's start loading the dataset directly from github. Then, let's look at its characteristics and its first five rows."
      ]
    },
    {
      "cell_type": "code",
      "metadata": {
        "id": "RnqPHt-MOVPy",
        "colab": {
          "base_uri": "https://localhost:8080/"
        },
        "outputId": "633bb6cd-b423-4b95-f80b-ed1df2b205ec"
      },
      "source": [
        "url = \"https://raw.githubusercontent.com/nuwe-io/HTS3-DataScience-Individual/main/asteroid_types.csv\"\n",
        "df = pd.read_csv(url)\n",
        "\n",
        "df.info()"
      ],
      "execution_count": null,
      "outputs": [
        {
          "output_type": "stream",
          "text": [
            "<class 'pandas.core.frame.DataFrame'>\n",
            "RangeIndex: 2000 entries, 0 to 1999\n",
            "Data columns (total 7 columns):\n",
            " #   Column          Non-Null Count  Dtype  \n",
            "---  ------          --------------  -----  \n",
            " 0   Feature1        2000 non-null   float64\n",
            " 1   Feature2        2000 non-null   float64\n",
            " 2   Feature3        2000 non-null   float64\n",
            " 3   Feature4        2000 non-null   float64\n",
            " 4   Feature5        2000 non-null   float64\n",
            " 5   Feature6        2000 non-null   float64\n",
            " 6   Classification  2000 non-null   int64  \n",
            "dtypes: float64(6), int64(1)\n",
            "memory usage: 109.5 KB\n"
          ],
          "name": "stdout"
        }
      ]
    },
    {
      "cell_type": "code",
      "metadata": {
        "id": "jaz1IYm1RWIL",
        "colab": {
          "base_uri": "https://localhost:8080/",
          "height": 204
        },
        "outputId": "95072f81-aac2-40f9-f493-4bef367255b6"
      },
      "source": [
        ""
      ],
      "execution_count": null,
      "outputs": [
        {
          "output_type": "execute_result",
          "data": {
            "text/html": [
              "<div>\n",
              "<style scoped>\n",
              "    .dataframe tbody tr th:only-of-type {\n",
              "        vertical-align: middle;\n",
              "    }\n",
              "\n",
              "    .dataframe tbody tr th {\n",
              "        vertical-align: top;\n",
              "    }\n",
              "\n",
              "    .dataframe thead th {\n",
              "        text-align: right;\n",
              "    }\n",
              "</style>\n",
              "<table border=\"1\" class=\"dataframe\">\n",
              "  <thead>\n",
              "    <tr style=\"text-align: right;\">\n",
              "      <th></th>\n",
              "      <th>Feature1</th>\n",
              "      <th>Feature2</th>\n",
              "      <th>Feature3</th>\n",
              "      <th>Feature4</th>\n",
              "      <th>Feature5</th>\n",
              "      <th>Feature6</th>\n",
              "      <th>Classification</th>\n",
              "    </tr>\n",
              "  </thead>\n",
              "  <tbody>\n",
              "    <tr>\n",
              "      <th>0</th>\n",
              "      <td>0.015724</td>\n",
              "      <td>-1.383637</td>\n",
              "      <td>0.821846</td>\n",
              "      <td>1.314887</td>\n",
              "      <td>-0.071768</td>\n",
              "      <td>2.342294</td>\n",
              "      <td>3</td>\n",
              "    </tr>\n",
              "    <tr>\n",
              "      <th>1</th>\n",
              "      <td>0.146700</td>\n",
              "      <td>0.778094</td>\n",
              "      <td>0.486682</td>\n",
              "      <td>-0.697206</td>\n",
              "      <td>0.047063</td>\n",
              "      <td>0.651647</td>\n",
              "      <td>2</td>\n",
              "    </tr>\n",
              "    <tr>\n",
              "      <th>2</th>\n",
              "      <td>0.012067</td>\n",
              "      <td>1.299313</td>\n",
              "      <td>0.047187</td>\n",
              "      <td>0.752812</td>\n",
              "      <td>0.898408</td>\n",
              "      <td>0.835497</td>\n",
              "      <td>3</td>\n",
              "    </tr>\n",
              "    <tr>\n",
              "      <th>3</th>\n",
              "      <td>-0.847860</td>\n",
              "      <td>0.262294</td>\n",
              "      <td>-0.162009</td>\n",
              "      <td>1.095407</td>\n",
              "      <td>0.549862</td>\n",
              "      <td>1.515246</td>\n",
              "      <td>3</td>\n",
              "    </tr>\n",
              "    <tr>\n",
              "      <th>4</th>\n",
              "      <td>1.286735</td>\n",
              "      <td>1.907767</td>\n",
              "      <td>-0.380351</td>\n",
              "      <td>-0.145083</td>\n",
              "      <td>0.111280</td>\n",
              "      <td>-0.076647</td>\n",
              "      <td>0</td>\n",
              "    </tr>\n",
              "  </tbody>\n",
              "</table>\n",
              "</div>"
            ],
            "text/plain": [
              "   Feature1  Feature2  Feature3  Feature4  Feature5  Feature6  Classification\n",
              "0  0.015724 -1.383637  0.821846  1.314887 -0.071768  2.342294               3\n",
              "1  0.146700  0.778094  0.486682 -0.697206  0.047063  0.651647               2\n",
              "2  0.012067  1.299313  0.047187  0.752812  0.898408  0.835497               3\n",
              "3 -0.847860  0.262294 -0.162009  1.095407  0.549862  1.515246               3\n",
              "4  1.286735  1.907767 -0.380351 -0.145083  0.111280 -0.076647               0"
            ]
          },
          "metadata": {
            "tags": []
          },
          "execution_count": 3
        }
      ]
    },
    {
      "cell_type": "markdown",
      "metadata": {
        "id": "q2cWhwy2Wyt_"
      },
      "source": [
        "I can see that I am working with a dataset of size (2000, 7), which includes 6 features of floating type and one target variable of discrete type.\n",
        "\n",
        "Then, I divide the features from the target variable, and analyze them."
      ]
    },
    {
      "cell_type": "code",
      "metadata": {
        "colab": {
          "base_uri": "https://localhost:8080/",
          "height": 297
        },
        "id": "j0JyKI2SXQTl",
        "outputId": "893d1923-aea4-451a-9cb7-9586370fc930"
      },
      "source": [
        "features = df.iloc[:,:6]\n",
        "target = df.iloc[:,6]\n",
        "\n",
        "features.describe()"
      ],
      "execution_count": null,
      "outputs": [
        {
          "output_type": "execute_result",
          "data": {
            "text/html": [
              "<div>\n",
              "<style scoped>\n",
              "    .dataframe tbody tr th:only-of-type {\n",
              "        vertical-align: middle;\n",
              "    }\n",
              "\n",
              "    .dataframe tbody tr th {\n",
              "        vertical-align: top;\n",
              "    }\n",
              "\n",
              "    .dataframe thead th {\n",
              "        text-align: right;\n",
              "    }\n",
              "</style>\n",
              "<table border=\"1\" class=\"dataframe\">\n",
              "  <thead>\n",
              "    <tr style=\"text-align: right;\">\n",
              "      <th></th>\n",
              "      <th>Feature1</th>\n",
              "      <th>Feature2</th>\n",
              "      <th>Feature3</th>\n",
              "      <th>Feature4</th>\n",
              "      <th>Feature5</th>\n",
              "      <th>Feature6</th>\n",
              "    </tr>\n",
              "  </thead>\n",
              "  <tbody>\n",
              "    <tr>\n",
              "      <th>count</th>\n",
              "      <td>2000.000000</td>\n",
              "      <td>2000.000000</td>\n",
              "      <td>2000.000000</td>\n",
              "      <td>2000.000000</td>\n",
              "      <td>2000.000000</td>\n",
              "      <td>2000.000000</td>\n",
              "    </tr>\n",
              "    <tr>\n",
              "      <th>mean</th>\n",
              "      <td>0.001511</td>\n",
              "      <td>-0.013060</td>\n",
              "      <td>0.008257</td>\n",
              "      <td>0.707124</td>\n",
              "      <td>0.873520</td>\n",
              "      <td>0.008531</td>\n",
              "    </tr>\n",
              "    <tr>\n",
              "      <th>std</th>\n",
              "      <td>0.988149</td>\n",
              "      <td>0.982257</td>\n",
              "      <td>0.974719</td>\n",
              "      <td>1.191548</td>\n",
              "      <td>0.937349</td>\n",
              "      <td>1.313270</td>\n",
              "    </tr>\n",
              "    <tr>\n",
              "      <th>min</th>\n",
              "      <td>-3.424463</td>\n",
              "      <td>-3.671441</td>\n",
              "      <td>-3.196257</td>\n",
              "      <td>-4.686986</td>\n",
              "      <td>-3.479527</td>\n",
              "      <td>-3.420182</td>\n",
              "    </tr>\n",
              "    <tr>\n",
              "      <th>25%</th>\n",
              "      <td>-0.663821</td>\n",
              "      <td>-0.639263</td>\n",
              "      <td>-0.640503</td>\n",
              "      <td>0.053565</td>\n",
              "      <td>0.325542</td>\n",
              "      <td>-0.997193</td>\n",
              "    </tr>\n",
              "    <tr>\n",
              "      <th>50%</th>\n",
              "      <td>0.021062</td>\n",
              "      <td>-0.022352</td>\n",
              "      <td>0.003777</td>\n",
              "      <td>0.827173</td>\n",
              "      <td>0.901551</td>\n",
              "      <td>-0.415309</td>\n",
              "    </tr>\n",
              "    <tr>\n",
              "      <th>75%</th>\n",
              "      <td>0.671152</td>\n",
              "      <td>0.630646</td>\n",
              "      <td>0.665473</td>\n",
              "      <td>1.464697</td>\n",
              "      <td>1.470986</td>\n",
              "      <td>0.997545</td>\n",
              "    </tr>\n",
              "    <tr>\n",
              "      <th>max</th>\n",
              "      <td>3.390360</td>\n",
              "      <td>3.333229</td>\n",
              "      <td>3.375086</td>\n",
              "      <td>4.654234</td>\n",
              "      <td>4.631273</td>\n",
              "      <td>4.819340</td>\n",
              "    </tr>\n",
              "  </tbody>\n",
              "</table>\n",
              "</div>"
            ],
            "text/plain": [
              "          Feature1     Feature2  ...     Feature5     Feature6\n",
              "count  2000.000000  2000.000000  ...  2000.000000  2000.000000\n",
              "mean      0.001511    -0.013060  ...     0.873520     0.008531\n",
              "std       0.988149     0.982257  ...     0.937349     1.313270\n",
              "min      -3.424463    -3.671441  ...    -3.479527    -3.420182\n",
              "25%      -0.663821    -0.639263  ...     0.325542    -0.997193\n",
              "50%       0.021062    -0.022352  ...     0.901551    -0.415309\n",
              "75%       0.671152     0.630646  ...     1.470986     0.997545\n",
              "max       3.390360     3.333229  ...     4.631273     4.819340\n",
              "\n",
              "[8 rows x 6 columns]"
            ]
          },
          "metadata": {
            "tags": []
          },
          "execution_count": 4
        }
      ]
    },
    {
      "cell_type": "code",
      "metadata": {
        "colab": {
          "base_uri": "https://localhost:8080/"
        },
        "id": "E9KOILRgbJZk",
        "outputId": "af0cea16-43d4-4151-bf00-8ecea9f2a3bb"
      },
      "source": [
        "target.value_counts()"
      ],
      "execution_count": null,
      "outputs": [
        {
          "output_type": "execute_result",
          "data": {
            "text/plain": [
              "3    1700\n",
              "2     200\n",
              "1      50\n",
              "0      50\n",
              "Name: Classification, dtype: int64"
            ]
          },
          "metadata": {
            "tags": []
          },
          "execution_count": 5
        }
      ]
    },
    {
      "cell_type": "code",
      "metadata": {
        "id": "okgQr2soPuJE",
        "colab": {
          "base_uri": "https://localhost:8080/"
        },
        "outputId": "bef7d412-a501-49c9-95af-7621db666a39"
      },
      "source": [
        "df.isna().sum()"
      ],
      "execution_count": null,
      "outputs": [
        {
          "output_type": "execute_result",
          "data": {
            "text/plain": [
              "Feature1          0\n",
              "Feature2          0\n",
              "Feature3          0\n",
              "Feature4          0\n",
              "Feature5          0\n",
              "Feature6          0\n",
              "Classification    0\n",
              "dtype: int64"
            ]
          },
          "metadata": {
            "tags": []
          },
          "execution_count": 6
        }
      ]
    },
    {
      "cell_type": "markdown",
      "metadata": {
        "id": "hI2ehSJFbmts"
      },
      "source": [
        "The exploratory study shows a couple of things. The first thing that I can see is that the features of the dataset are not normalized or scaled. \n",
        "\n",
        "The second thing that I can see is that the target variable is very unbalanced. Eighty five percent (85%) of the dataset is classified as type three, ten percent (10%) as type two, and the other five percent is evenly distributed between types one and zero. This shall be considered in the following steps.\n",
        "\n",
        "Finally, I can see that there is not any missing values in the data frame. This means there is not a need for data imputation in the preprocessing step."
      ]
    },
    {
      "cell_type": "markdown",
      "metadata": {
        "id": "I5MNSHcpf2DQ"
      },
      "source": [
        "# Data pre-processing"
      ]
    },
    {
      "cell_type": "markdown",
      "metadata": {
        "id": "AvDw7q4vjUXI"
      },
      "source": [
        "For the pre-processing step, I am applying a maximum absolute scaling to the dataset, so they fit in a [-1, 1] range. "
      ]
    },
    {
      "cell_type": "code",
      "metadata": {
        "colab": {
          "base_uri": "https://localhost:8080/",
          "height": 297
        },
        "id": "XKgWCUZabmcI",
        "outputId": "e4ad7ff5-cc3c-47af-e08e-d574222737dd"
      },
      "source": [
        "abs_scaler = MaxAbsScaler()\n",
        "abs_scaler.fit(features)\n",
        "processed_features = pd.DataFrame(abs_scaler.transform(features))\n",
        "processed_features.describe()"
      ],
      "execution_count": null,
      "outputs": [
        {
          "output_type": "execute_result",
          "data": {
            "text/html": [
              "<div>\n",
              "<style scoped>\n",
              "    .dataframe tbody tr th:only-of-type {\n",
              "        vertical-align: middle;\n",
              "    }\n",
              "\n",
              "    .dataframe tbody tr th {\n",
              "        vertical-align: top;\n",
              "    }\n",
              "\n",
              "    .dataframe thead th {\n",
              "        text-align: right;\n",
              "    }\n",
              "</style>\n",
              "<table border=\"1\" class=\"dataframe\">\n",
              "  <thead>\n",
              "    <tr style=\"text-align: right;\">\n",
              "      <th></th>\n",
              "      <th>0</th>\n",
              "      <th>1</th>\n",
              "      <th>2</th>\n",
              "      <th>3</th>\n",
              "      <th>4</th>\n",
              "      <th>5</th>\n",
              "    </tr>\n",
              "  </thead>\n",
              "  <tbody>\n",
              "    <tr>\n",
              "      <th>count</th>\n",
              "      <td>2000.000000</td>\n",
              "      <td>2000.000000</td>\n",
              "      <td>2000.000000</td>\n",
              "      <td>2000.000000</td>\n",
              "      <td>2000.000000</td>\n",
              "      <td>2000.000000</td>\n",
              "    </tr>\n",
              "    <tr>\n",
              "      <th>mean</th>\n",
              "      <td>0.000441</td>\n",
              "      <td>-0.003557</td>\n",
              "      <td>0.002447</td>\n",
              "      <td>0.150870</td>\n",
              "      <td>0.188613</td>\n",
              "      <td>0.001770</td>\n",
              "    </tr>\n",
              "    <tr>\n",
              "      <th>std</th>\n",
              "      <td>0.288556</td>\n",
              "      <td>0.267540</td>\n",
              "      <td>0.288798</td>\n",
              "      <td>0.254225</td>\n",
              "      <td>0.202395</td>\n",
              "      <td>0.272500</td>\n",
              "    </tr>\n",
              "    <tr>\n",
              "      <th>min</th>\n",
              "      <td>-1.000000</td>\n",
              "      <td>-1.000000</td>\n",
              "      <td>-0.947015</td>\n",
              "      <td>-1.000000</td>\n",
              "      <td>-0.751311</td>\n",
              "      <td>-0.709679</td>\n",
              "    </tr>\n",
              "    <tr>\n",
              "      <th>25%</th>\n",
              "      <td>-0.193847</td>\n",
              "      <td>-0.174118</td>\n",
              "      <td>-0.189774</td>\n",
              "      <td>0.011428</td>\n",
              "      <td>0.070292</td>\n",
              "      <td>-0.206915</td>\n",
              "    </tr>\n",
              "    <tr>\n",
              "      <th>50%</th>\n",
              "      <td>0.006151</td>\n",
              "      <td>-0.006088</td>\n",
              "      <td>0.001119</td>\n",
              "      <td>0.176483</td>\n",
              "      <td>0.194666</td>\n",
              "      <td>-0.086175</td>\n",
              "    </tr>\n",
              "    <tr>\n",
              "      <th>75%</th>\n",
              "      <td>0.195988</td>\n",
              "      <td>0.171771</td>\n",
              "      <td>0.197172</td>\n",
              "      <td>0.312503</td>\n",
              "      <td>0.317620</td>\n",
              "      <td>0.206988</td>\n",
              "    </tr>\n",
              "    <tr>\n",
              "      <th>max</th>\n",
              "      <td>0.990041</td>\n",
              "      <td>0.907880</td>\n",
              "      <td>1.000000</td>\n",
              "      <td>0.993012</td>\n",
              "      <td>1.000000</td>\n",
              "      <td>1.000000</td>\n",
              "    </tr>\n",
              "  </tbody>\n",
              "</table>\n",
              "</div>"
            ],
            "text/plain": [
              "                 0            1  ...            4            5\n",
              "count  2000.000000  2000.000000  ...  2000.000000  2000.000000\n",
              "mean      0.000441    -0.003557  ...     0.188613     0.001770\n",
              "std       0.288556     0.267540  ...     0.202395     0.272500\n",
              "min      -1.000000    -1.000000  ...    -0.751311    -0.709679\n",
              "25%      -0.193847    -0.174118  ...     0.070292    -0.206915\n",
              "50%       0.006151    -0.006088  ...     0.194666    -0.086175\n",
              "75%       0.195988     0.171771  ...     0.317620     0.206988\n",
              "max       0.990041     0.907880  ...     1.000000     1.000000\n",
              "\n",
              "[8 rows x 6 columns]"
            ]
          },
          "metadata": {
            "tags": []
          },
          "execution_count": 7
        }
      ]
    },
    {
      "cell_type": "markdown",
      "metadata": {
        "id": "Wn8WwWH8UHV9"
      },
      "source": [
        "Then, I have decided to split the dataset into a training and a testing set, using 25% of the data for testing. Usually I split the dataset into three sets (training, validation and testing), but given the small quantity of rows that are classified as class zero or one, I have decided to only split it into two sets so the testing set has a significant amount of rows of each class."
      ]
    },
    {
      "cell_type": "code",
      "metadata": {
        "id": "U_cR7yzPkmAC"
      },
      "source": [
        "test_split = int(len(df.index) * 0.75)\n",
        "\n",
        "processed_features, target = shuffle(processed_features, target, random_state = 0)\n",
        "\n",
        "x_train = processed_features.iloc[:test_split]\n",
        "x_test = processed_features.iloc[test_split:] \n",
        "\n",
        "y_train = target.iloc[:test_split]\n",
        "y_test = target.iloc[test_split:]"
      ],
      "execution_count": null,
      "outputs": []
    },
    {
      "cell_type": "code",
      "metadata": {
        "colab": {
          "base_uri": "https://localhost:8080/"
        },
        "id": "sr5aw-6Pn5jx",
        "outputId": "eb1d4dc8-35d3-472d-92ac-f11110b89041"
      },
      "source": [
        "y_train.value_counts()"
      ],
      "execution_count": null,
      "outputs": [
        {
          "output_type": "execute_result",
          "data": {
            "text/plain": [
              "3    1279\n",
              "2     153\n",
              "1      34\n",
              "0      34\n",
              "Name: Classification, dtype: int64"
            ]
          },
          "metadata": {
            "tags": []
          },
          "execution_count": 9
        }
      ]
    },
    {
      "cell_type": "code",
      "metadata": {
        "colab": {
          "base_uri": "https://localhost:8080/"
        },
        "id": "ValdBi_VoK_u",
        "outputId": "b2904b65-3edd-4e5a-e4ac-bcab26deee7b"
      },
      "source": [
        "y_test.value_counts()"
      ],
      "execution_count": null,
      "outputs": [
        {
          "output_type": "execute_result",
          "data": {
            "text/plain": [
              "3    421\n",
              "2     47\n",
              "1     16\n",
              "0     16\n",
              "Name: Classification, dtype: int64"
            ]
          },
          "metadata": {
            "tags": []
          },
          "execution_count": 10
        }
      ]
    },
    {
      "cell_type": "markdown",
      "metadata": {
        "id": "P_TstwaRUNaI"
      },
      "source": [
        "As it can be seen, the testing set has at least 16 rows of each class, which would have not been possible if the dataset were separated into three sets. Having enough element of each class is important so the evaluation is significant."
      ]
    },
    {
      "cell_type": "markdown",
      "metadata": {
        "id": "rsru9bAeVUyI"
      },
      "source": [
        "There are some common pre-processing steps that are not necessary in this project, such as feature encoding (since all features are numerical) or data imputation (since there is not any missing data).\n",
        "\n",
        "Finally, I have decided that there is not a need to do any filtration to the dataset, since it is quite small, and the xgBoost model that is going to be used is able to priorize the features that are most related to the target anyways."
      ]
    },
    {
      "cell_type": "markdown",
      "metadata": {
        "id": "7KKMPM0LikSO"
      },
      "source": [
        "# Model training and parameter tuning"
      ]
    },
    {
      "cell_type": "markdown",
      "metadata": {
        "id": "KkdRIVTrWYZW"
      },
      "source": [
        "For this project, I have decided to test three different machine learning algorithms: extreme gradieng boosting, support vector machine, and k-nearest neighbours. \n",
        "\n",
        "For each algorithm, a parameter tuning is done in order to find the set of parameters that produces the best results.\n",
        "\n",
        "Each model is evaluated in base of its f1 score when classificating the test dataset, calculated using a macro average."
      ]
    },
    {
      "cell_type": "markdown",
      "metadata": {
        "id": "3uRhF_Jap0gy"
      },
      "source": [
        "## Training an xgBoost model"
      ]
    },
    {
      "cell_type": "markdown",
      "metadata": {
        "id": "qVKSBOJmXm8T"
      },
      "source": [
        "The extreme gradient boosting is a machine learning model that uses ensemble learning with different decision trees.  \n",
        "\n",
        "Four different hyper-parameters will be tuned: the learning rate (sometimes known as eta), the max depth of each decision tree, the percentage of features used by each tree, and the number of rounds of the training process."
      ]
    },
    {
      "cell_type": "code",
      "metadata": {
        "id": "AGEO_4PcPuR9"
      },
      "source": [
        "dtrain = xgb.DMatrix(data=x_train,label=y_train)\n",
        "dtest = xgb.DMatrix(data=x_test)"
      ],
      "execution_count": null,
      "outputs": []
    },
    {
      "cell_type": "code",
      "metadata": {
        "id": "FZeTicJiPuXL"
      },
      "source": [
        "param = {'objective' : \"multi:softmax\",\n",
        "         'num_class': 4,\n",
        "         'num_round': 1000}"
      ],
      "execution_count": null,
      "outputs": []
    },
    {
      "cell_type": "code",
      "metadata": {
        "id": "tdWoEu7FPugX"
      },
      "source": [
        "from sklearn.metrics import accuracy_score\n",
        "def tune_parameter(param_dict, parameter_to_calibrate, values_to_try, dtrain, dtest, y_train, y_test):\n",
        "   training_scores = []\n",
        "   testing_scores = []\n",
        "\n",
        "   for value in values_to_try:\n",
        "     param_dict[parameter_to_calibrate] = value\n",
        "     model = xgb.train(param_dict, dtrain, num_boost_round = 1000) \n",
        "\n",
        "     train_predictions = model.predict(dtrain)\n",
        "     train_f1_score = f1_score(y_train, train_predictions, average='macro')\n",
        "     training_scores.append(train_f1_score)\n",
        "\n",
        "     predictions = model.predict(dtest)\n",
        "     f_score = f1_score(y_test, predictions, average='macro')\n",
        "     testing_scores.append(f_score)\n",
        "\n",
        "   return training_scores, testing_scores\n"
      ],
      "execution_count": null,
      "outputs": []
    },
    {
      "cell_type": "markdown",
      "metadata": {
        "id": "LcBLL0JeiTje"
      },
      "source": [
        "### Tuning learning rate"
      ]
    },
    {
      "cell_type": "code",
      "metadata": {
        "colab": {
          "base_uri": "https://localhost:8080/",
          "height": 173
        },
        "id": "yvM4U5xcTfKz",
        "outputId": "a24636d5-f84e-44ad-9bb9-09ead6ffa3b0"
      },
      "source": [
        "training_scores, testing_scores = tune_parameter(param, 'learning_rate', [0.01, 0.05, 0.1, 0.2], dtrain, dtest, y_train, y_test)\n",
        "pd.DataFrame({'Learning rate': [0.01, 0.05, 0.1, 0.2], 'Training score': training_scores, 'Testing scores': testing_scores})"
      ],
      "execution_count": null,
      "outputs": [
        {
          "output_type": "execute_result",
          "data": {
            "text/html": [
              "<div>\n",
              "<style scoped>\n",
              "    .dataframe tbody tr th:only-of-type {\n",
              "        vertical-align: middle;\n",
              "    }\n",
              "\n",
              "    .dataframe tbody tr th {\n",
              "        vertical-align: top;\n",
              "    }\n",
              "\n",
              "    .dataframe thead th {\n",
              "        text-align: right;\n",
              "    }\n",
              "</style>\n",
              "<table border=\"1\" class=\"dataframe\">\n",
              "  <thead>\n",
              "    <tr style=\"text-align: right;\">\n",
              "      <th></th>\n",
              "      <th>Learning rate</th>\n",
              "      <th>Training score</th>\n",
              "      <th>Testing scores</th>\n",
              "    </tr>\n",
              "  </thead>\n",
              "  <tbody>\n",
              "    <tr>\n",
              "      <th>0</th>\n",
              "      <td>0.01</td>\n",
              "      <td>0.999083</td>\n",
              "      <td>0.793019</td>\n",
              "    </tr>\n",
              "    <tr>\n",
              "      <th>1</th>\n",
              "      <td>0.05</td>\n",
              "      <td>1.000000</td>\n",
              "      <td>0.793019</td>\n",
              "    </tr>\n",
              "    <tr>\n",
              "      <th>2</th>\n",
              "      <td>0.10</td>\n",
              "      <td>1.000000</td>\n",
              "      <td>0.766956</td>\n",
              "    </tr>\n",
              "    <tr>\n",
              "      <th>3</th>\n",
              "      <td>0.20</td>\n",
              "      <td>1.000000</td>\n",
              "      <td>0.773698</td>\n",
              "    </tr>\n",
              "  </tbody>\n",
              "</table>\n",
              "</div>"
            ],
            "text/plain": [
              "   Learning rate  Training score  Testing scores\n",
              "0           0.01        0.999083        0.793019\n",
              "1           0.05        1.000000        0.793019\n",
              "2           0.10        1.000000        0.766956\n",
              "3           0.20        1.000000        0.773698"
            ]
          },
          "metadata": {
            "tags": []
          },
          "execution_count": 14
        }
      ]
    },
    {
      "cell_type": "code",
      "metadata": {
        "id": "oX096nMZUT0d"
      },
      "source": [
        "param['learning_rate'] = 0.05"
      ],
      "execution_count": null,
      "outputs": []
    },
    {
      "cell_type": "markdown",
      "metadata": {
        "id": "a-QKiBsSiZ9F"
      },
      "source": [
        "### Tuning max depth"
      ]
    },
    {
      "cell_type": "code",
      "metadata": {
        "colab": {
          "base_uri": "https://localhost:8080/",
          "height": 204
        },
        "id": "VwXw-FOjbwP3",
        "outputId": "78b98e2d-92b0-4a56-df09-3fb927cae639"
      },
      "source": [
        "training_scores, testing_scores = tune_parameter(param, 'max_depth', [4, 5, 6, 7, 8], dtrain, dtest, y_train, y_test)\n",
        "pd.DataFrame({'Max depth': [4, 5, 6, 7, 8], 'Training score': training_scores, 'Testing scores': testing_scores})"
      ],
      "execution_count": null,
      "outputs": [
        {
          "output_type": "execute_result",
          "data": {
            "text/html": [
              "<div>\n",
              "<style scoped>\n",
              "    .dataframe tbody tr th:only-of-type {\n",
              "        vertical-align: middle;\n",
              "    }\n",
              "\n",
              "    .dataframe tbody tr th {\n",
              "        vertical-align: top;\n",
              "    }\n",
              "\n",
              "    .dataframe thead th {\n",
              "        text-align: right;\n",
              "    }\n",
              "</style>\n",
              "<table border=\"1\" class=\"dataframe\">\n",
              "  <thead>\n",
              "    <tr style=\"text-align: right;\">\n",
              "      <th></th>\n",
              "      <th>Max depth</th>\n",
              "      <th>Training score</th>\n",
              "      <th>Testing scores</th>\n",
              "    </tr>\n",
              "  </thead>\n",
              "  <tbody>\n",
              "    <tr>\n",
              "      <th>0</th>\n",
              "      <td>4</td>\n",
              "      <td>1.0</td>\n",
              "      <td>0.754167</td>\n",
              "    </tr>\n",
              "    <tr>\n",
              "      <th>1</th>\n",
              "      <td>5</td>\n",
              "      <td>1.0</td>\n",
              "      <td>0.801809</td>\n",
              "    </tr>\n",
              "    <tr>\n",
              "      <th>2</th>\n",
              "      <td>6</td>\n",
              "      <td>1.0</td>\n",
              "      <td>0.793019</td>\n",
              "    </tr>\n",
              "    <tr>\n",
              "      <th>3</th>\n",
              "      <td>7</td>\n",
              "      <td>1.0</td>\n",
              "      <td>0.781230</td>\n",
              "    </tr>\n",
              "    <tr>\n",
              "      <th>4</th>\n",
              "      <td>8</td>\n",
              "      <td>1.0</td>\n",
              "      <td>0.781230</td>\n",
              "    </tr>\n",
              "  </tbody>\n",
              "</table>\n",
              "</div>"
            ],
            "text/plain": [
              "   Max depth  Training score  Testing scores\n",
              "0          4             1.0        0.754167\n",
              "1          5             1.0        0.801809\n",
              "2          6             1.0        0.793019\n",
              "3          7             1.0        0.781230\n",
              "4          8             1.0        0.781230"
            ]
          },
          "metadata": {
            "tags": []
          },
          "execution_count": 16
        }
      ]
    },
    {
      "cell_type": "code",
      "metadata": {
        "id": "vBFdRqMed-sz"
      },
      "source": [
        "param['max_depth'] = 5"
      ],
      "execution_count": null,
      "outputs": []
    },
    {
      "cell_type": "markdown",
      "metadata": {
        "id": "un11zma2ifJj"
      },
      "source": [
        "### Tuning percentage of features used by each tree"
      ]
    },
    {
      "cell_type": "code",
      "metadata": {
        "colab": {
          "base_uri": "https://localhost:8080/",
          "height": 173
        },
        "id": "VdK6FPoIekUA",
        "outputId": "1285fe53-7053-4801-aa44-716c61b12553"
      },
      "source": [
        "training_scores, testing_scores = tune_parameter(param, 'colsample_bytree', [0.5, 0.75, 0.9, 1], dtrain, dtest, y_train, y_test)\n",
        "pd.DataFrame({'Percentage of features used by tree': [0.5, 0.75, 0.9, 1], 'Training score': training_scores, 'Testing scores': testing_scores})"
      ],
      "execution_count": null,
      "outputs": [
        {
          "output_type": "execute_result",
          "data": {
            "text/html": [
              "<div>\n",
              "<style scoped>\n",
              "    .dataframe tbody tr th:only-of-type {\n",
              "        vertical-align: middle;\n",
              "    }\n",
              "\n",
              "    .dataframe tbody tr th {\n",
              "        vertical-align: top;\n",
              "    }\n",
              "\n",
              "    .dataframe thead th {\n",
              "        text-align: right;\n",
              "    }\n",
              "</style>\n",
              "<table border=\"1\" class=\"dataframe\">\n",
              "  <thead>\n",
              "    <tr style=\"text-align: right;\">\n",
              "      <th></th>\n",
              "      <th>Percentage of features used by tree</th>\n",
              "      <th>Training score</th>\n",
              "      <th>Testing scores</th>\n",
              "    </tr>\n",
              "  </thead>\n",
              "  <tbody>\n",
              "    <tr>\n",
              "      <th>0</th>\n",
              "      <td>0.50</td>\n",
              "      <td>1.0</td>\n",
              "      <td>0.647896</td>\n",
              "    </tr>\n",
              "    <tr>\n",
              "      <th>1</th>\n",
              "      <td>0.75</td>\n",
              "      <td>1.0</td>\n",
              "      <td>0.671455</td>\n",
              "    </tr>\n",
              "    <tr>\n",
              "      <th>2</th>\n",
              "      <td>0.90</td>\n",
              "      <td>1.0</td>\n",
              "      <td>0.737152</td>\n",
              "    </tr>\n",
              "    <tr>\n",
              "      <th>3</th>\n",
              "      <td>1.00</td>\n",
              "      <td>1.0</td>\n",
              "      <td>0.801809</td>\n",
              "    </tr>\n",
              "  </tbody>\n",
              "</table>\n",
              "</div>"
            ],
            "text/plain": [
              "   Percentage of features used by tree  Training score  Testing scores\n",
              "0                                 0.50             1.0        0.647896\n",
              "1                                 0.75             1.0        0.671455\n",
              "2                                 0.90             1.0        0.737152\n",
              "3                                 1.00             1.0        0.801809"
            ]
          },
          "metadata": {
            "tags": []
          },
          "execution_count": 18
        }
      ]
    },
    {
      "cell_type": "code",
      "metadata": {
        "id": "6U0ULeHxfKP5"
      },
      "source": [
        "param['colsample_bytree'] = 1"
      ],
      "execution_count": null,
      "outputs": []
    },
    {
      "cell_type": "markdown",
      "metadata": {
        "id": "S3SIoG_moqgO"
      },
      "source": [
        "### Tuning number of rounds"
      ]
    },
    {
      "cell_type": "code",
      "metadata": {
        "id": "xjVN2R6HjigB"
      },
      "source": [
        "def tune_nrounds(param_dict, values_to_try, dtrain, dtest, y_train, y_test):\n",
        "   training_scores = []\n",
        "   testing_scores = []\n",
        "\n",
        "   for value in values_to_try:\n",
        "     model = xgb.train(param_dict, dtrain, num_boost_round = value) \n",
        "\n",
        "     train_predictions = model.predict(dtrain)\n",
        "     train_f1_score = f1_score(y_train, train_predictions, average='macro')\n",
        "     training_scores.append(train_f1_score)\n",
        "\n",
        "     predictions = model.predict(dtest)\n",
        "     f_score = f1_score(y_test, predictions, average='macro')\n",
        "     testing_scores.append(f_score)\n",
        "\n",
        "   return training_scores, testing_scores"
      ],
      "execution_count": null,
      "outputs": []
    },
    {
      "cell_type": "code",
      "metadata": {
        "colab": {
          "base_uri": "https://localhost:8080/",
          "height": 173
        },
        "id": "vobrLLVbjasY",
        "outputId": "f3133493-aa5f-4156-8eb3-de3e8a90ed96"
      },
      "source": [
        "training_scores, testing_scores = tune_nrounds(param, range(500, 2001, 500), dtrain, dtest, y_train, y_test)\n",
        "pd.DataFrame({'nrounds': list(range(500, 2001, 500)), 'Training score': training_scores, 'Testing scores': testing_scores})"
      ],
      "execution_count": null,
      "outputs": [
        {
          "output_type": "execute_result",
          "data": {
            "text/html": [
              "<div>\n",
              "<style scoped>\n",
              "    .dataframe tbody tr th:only-of-type {\n",
              "        vertical-align: middle;\n",
              "    }\n",
              "\n",
              "    .dataframe tbody tr th {\n",
              "        vertical-align: top;\n",
              "    }\n",
              "\n",
              "    .dataframe thead th {\n",
              "        text-align: right;\n",
              "    }\n",
              "</style>\n",
              "<table border=\"1\" class=\"dataframe\">\n",
              "  <thead>\n",
              "    <tr style=\"text-align: right;\">\n",
              "      <th></th>\n",
              "      <th>nrounds</th>\n",
              "      <th>Training score</th>\n",
              "      <th>Testing scores</th>\n",
              "    </tr>\n",
              "  </thead>\n",
              "  <tbody>\n",
              "    <tr>\n",
              "      <th>0</th>\n",
              "      <td>500</td>\n",
              "      <td>1.0</td>\n",
              "      <td>0.769224</td>\n",
              "    </tr>\n",
              "    <tr>\n",
              "      <th>1</th>\n",
              "      <td>1000</td>\n",
              "      <td>1.0</td>\n",
              "      <td>0.801809</td>\n",
              "    </tr>\n",
              "    <tr>\n",
              "      <th>2</th>\n",
              "      <td>1500</td>\n",
              "      <td>1.0</td>\n",
              "      <td>0.799634</td>\n",
              "    </tr>\n",
              "    <tr>\n",
              "      <th>3</th>\n",
              "      <td>2000</td>\n",
              "      <td>1.0</td>\n",
              "      <td>0.799634</td>\n",
              "    </tr>\n",
              "  </tbody>\n",
              "</table>\n",
              "</div>"
            ],
            "text/plain": [
              "   nrounds  Training score  Testing scores\n",
              "0      500             1.0        0.769224\n",
              "1     1000             1.0        0.801809\n",
              "2     1500             1.0        0.799634\n",
              "3     2000             1.0        0.799634"
            ]
          },
          "metadata": {
            "tags": []
          },
          "execution_count": 21
        }
      ]
    },
    {
      "cell_type": "markdown",
      "metadata": {
        "id": "fig-g0Y8Yide"
      },
      "source": [
        "We can see that, after the tuning process, the best xgBoost model has the following parameters: \n",
        "\n",
        "*   Learning rate: 0.5\n",
        "*   Max depth: 5\n",
        "*   Percentage of features used by each tree: 1.0\n",
        "*   Number of rounds: 1000\n",
        "\n",
        "And the final results obtained with this models is:\n",
        "\n",
        "*   F1 score at training: 1.000000\n",
        "*   F1 score at testing: 0.801809\n"
      ]
    },
    {
      "cell_type": "markdown",
      "metadata": {
        "id": "4qRiuQLEqG2q"
      },
      "source": [
        "## Training a SVM model"
      ]
    },
    {
      "cell_type": "markdown",
      "metadata": {
        "id": "SsvYwiqTZUxF"
      },
      "source": [
        "After the xgBoost model, a support vector machine model will be trained.\n",
        "\n",
        "In this case, two different kernels will be tested: linear kernel and radial basis function kernel.\n",
        "\n",
        "For the linear kernel, only one hyperparameter will be tuned: C.\n",
        "\n",
        "For the RBF kernel, two hyperparameters will be tuned: C and gamma."
      ]
    },
    {
      "cell_type": "code",
      "metadata": {
        "id": "Ey79_KLctwyr"
      },
      "source": [
        "def tune_svm(param_grid, x_train, x_test, y_train, y_test):\n",
        "  results = []\n",
        "  for param_dict in param_grid:\n",
        "    if param_dict['kernel'] == 'linear':\n",
        "      for c_value in param_dict['C']:\n",
        "        svm_model = svm.SVC(C = c_value)\n",
        "        svm_model.fit(x_train, y_train)\n",
        "       \n",
        "        train_predictions = svm_model.predict(x_train)\n",
        "        train_f_score = f1_score(y_train, train_predictions, average='macro')\n",
        "\n",
        "        predictions = svm_model.predict(x_test)\n",
        "        f_score = f1_score(y_test, predictions, average='macro')\n",
        "        \n",
        "        results.append({'kernel' : 'linear', 'C': c_value, 'Training score' : train_f_score, 'Testing score' : f_score})\n",
        "\n",
        "    elif param_dict['kernel'] == 'rbf':\n",
        "      for c_value in param_dict['C']:\n",
        "        for gamma_value in param_dict['gamma']:\n",
        "          svm_model = svm.SVC(C = c_value, gamma = gamma_value)\n",
        "          svm_model.fit(x_train, y_train)\n",
        "        \n",
        "          train_predictions = svm_model.predict(x_train)\n",
        "          train_f_score = f1_score(y_train, train_predictions, average='macro')\n",
        "\n",
        "          predictions = svm_model.predict(x_test)\n",
        "          f_score = f1_score(y_test, predictions, average='macro')\n",
        "          \n",
        "          results.append({'kernel' : 'rbf', 'C': c_value, 'gamma': gamma_value, 'Training score' : train_f_score, 'Testing score' : f_score})\n",
        "    \n",
        "  return results"
      ],
      "execution_count": null,
      "outputs": []
    },
    {
      "cell_type": "code",
      "metadata": {
        "id": "Z4TZcvLBxi35"
      },
      "source": [
        "param_grid = [\n",
        "  {'C': [1, 10, 100, 1000], 'kernel': 'linear'},\n",
        "  {'C': [1e5, 1e6, 1e7], 'gamma': [0.1, 0.01, 0.001], 'kernel': 'rbf'},\n",
        " ]\n",
        "results = tune_svm(param_grid, x_train, x_test, y_train, y_test)"
      ],
      "execution_count": null,
      "outputs": []
    },
    {
      "cell_type": "code",
      "metadata": {
        "colab": {
          "base_uri": "https://localhost:8080/",
          "height": 452
        },
        "id": "kpor8WZt6NhC",
        "outputId": "f4964610-8cd5-4c1a-ba67-01d07801c9dc"
      },
      "source": [
        "pd.DataFrame(results).iloc[:, [0, 1, 4, 2, 3]]"
      ],
      "execution_count": null,
      "outputs": [
        {
          "output_type": "execute_result",
          "data": {
            "text/html": [
              "<div>\n",
              "<style scoped>\n",
              "    .dataframe tbody tr th:only-of-type {\n",
              "        vertical-align: middle;\n",
              "    }\n",
              "\n",
              "    .dataframe tbody tr th {\n",
              "        vertical-align: top;\n",
              "    }\n",
              "\n",
              "    .dataframe thead th {\n",
              "        text-align: right;\n",
              "    }\n",
              "</style>\n",
              "<table border=\"1\" class=\"dataframe\">\n",
              "  <thead>\n",
              "    <tr style=\"text-align: right;\">\n",
              "      <th></th>\n",
              "      <th>kernel</th>\n",
              "      <th>C</th>\n",
              "      <th>gamma</th>\n",
              "      <th>Training score</th>\n",
              "      <th>Testing score</th>\n",
              "    </tr>\n",
              "  </thead>\n",
              "  <tbody>\n",
              "    <tr>\n",
              "      <th>0</th>\n",
              "      <td>linear</td>\n",
              "      <td>1.0</td>\n",
              "      <td>NaN</td>\n",
              "      <td>0.650875</td>\n",
              "      <td>0.547548</td>\n",
              "    </tr>\n",
              "    <tr>\n",
              "      <th>1</th>\n",
              "      <td>linear</td>\n",
              "      <td>10.0</td>\n",
              "      <td>NaN</td>\n",
              "      <td>0.838173</td>\n",
              "      <td>0.684492</td>\n",
              "    </tr>\n",
              "    <tr>\n",
              "      <th>2</th>\n",
              "      <td>linear</td>\n",
              "      <td>100.0</td>\n",
              "      <td>NaN</td>\n",
              "      <td>0.945956</td>\n",
              "      <td>0.636462</td>\n",
              "    </tr>\n",
              "    <tr>\n",
              "      <th>3</th>\n",
              "      <td>linear</td>\n",
              "      <td>1000.0</td>\n",
              "      <td>NaN</td>\n",
              "      <td>0.988725</td>\n",
              "      <td>0.598043</td>\n",
              "    </tr>\n",
              "    <tr>\n",
              "      <th>4</th>\n",
              "      <td>rbf</td>\n",
              "      <td>100000.0</td>\n",
              "      <td>0.100</td>\n",
              "      <td>0.864570</td>\n",
              "      <td>0.682860</td>\n",
              "    </tr>\n",
              "    <tr>\n",
              "      <th>5</th>\n",
              "      <td>rbf</td>\n",
              "      <td>100000.0</td>\n",
              "      <td>0.010</td>\n",
              "      <td>0.720085</td>\n",
              "      <td>0.672591</td>\n",
              "    </tr>\n",
              "    <tr>\n",
              "      <th>6</th>\n",
              "      <td>rbf</td>\n",
              "      <td>100000.0</td>\n",
              "      <td>0.001</td>\n",
              "      <td>0.536843</td>\n",
              "      <td>0.563378</td>\n",
              "    </tr>\n",
              "    <tr>\n",
              "      <th>7</th>\n",
              "      <td>rbf</td>\n",
              "      <td>1000000.0</td>\n",
              "      <td>0.100</td>\n",
              "      <td>0.928805</td>\n",
              "      <td>0.645214</td>\n",
              "    </tr>\n",
              "    <tr>\n",
              "      <th>8</th>\n",
              "      <td>rbf</td>\n",
              "      <td>1000000.0</td>\n",
              "      <td>0.010</td>\n",
              "      <td>0.746826</td>\n",
              "      <td>0.684161</td>\n",
              "    </tr>\n",
              "    <tr>\n",
              "      <th>9</th>\n",
              "      <td>rbf</td>\n",
              "      <td>1000000.0</td>\n",
              "      <td>0.001</td>\n",
              "      <td>0.605998</td>\n",
              "      <td>0.643995</td>\n",
              "    </tr>\n",
              "    <tr>\n",
              "      <th>10</th>\n",
              "      <td>rbf</td>\n",
              "      <td>10000000.0</td>\n",
              "      <td>0.100</td>\n",
              "      <td>0.939150</td>\n",
              "      <td>0.630626</td>\n",
              "    </tr>\n",
              "    <tr>\n",
              "      <th>11</th>\n",
              "      <td>rbf</td>\n",
              "      <td>10000000.0</td>\n",
              "      <td>0.010</td>\n",
              "      <td>0.748360</td>\n",
              "      <td>0.734410</td>\n",
              "    </tr>\n",
              "    <tr>\n",
              "      <th>12</th>\n",
              "      <td>rbf</td>\n",
              "      <td>10000000.0</td>\n",
              "      <td>0.001</td>\n",
              "      <td>0.704355</td>\n",
              "      <td>0.674591</td>\n",
              "    </tr>\n",
              "  </tbody>\n",
              "</table>\n",
              "</div>"
            ],
            "text/plain": [
              "    kernel           C  gamma  Training score  Testing score\n",
              "0   linear         1.0    NaN        0.650875       0.547548\n",
              "1   linear        10.0    NaN        0.838173       0.684492\n",
              "2   linear       100.0    NaN        0.945956       0.636462\n",
              "3   linear      1000.0    NaN        0.988725       0.598043\n",
              "4      rbf    100000.0  0.100        0.864570       0.682860\n",
              "5      rbf    100000.0  0.010        0.720085       0.672591\n",
              "6      rbf    100000.0  0.001        0.536843       0.563378\n",
              "7      rbf   1000000.0  0.100        0.928805       0.645214\n",
              "8      rbf   1000000.0  0.010        0.746826       0.684161\n",
              "9      rbf   1000000.0  0.001        0.605998       0.643995\n",
              "10     rbf  10000000.0  0.100        0.939150       0.630626\n",
              "11     rbf  10000000.0  0.010        0.748360       0.734410\n",
              "12     rbf  10000000.0  0.001        0.704355       0.674591"
            ]
          },
          "metadata": {
            "tags": []
          },
          "execution_count": 24
        }
      ]
    },
    {
      "cell_type": "markdown",
      "metadata": {
        "id": "mhtQQTCqeOyt"
      },
      "source": [
        "We can finally see that best results have been obtained with the following hyperparameters:\n",
        "\n",
        "* Kernel: Radial basis function\n",
        "* C: 1e7\n",
        "* Gamma: 0.010\n",
        "\n",
        "And the final results obtained with this models is:\n",
        "\n",
        "*   F1 score at training: 0.748360\n",
        "*   F1 score at testing: 0.734410"
      ]
    },
    {
      "cell_type": "markdown",
      "metadata": {
        "id": "Qq-1xxuICLpY"
      },
      "source": [
        "## Training a k-NN model"
      ]
    },
    {
      "cell_type": "markdown",
      "metadata": {
        "id": "zTSBiDNSo3Iz"
      },
      "source": [
        "Finally, a k-nearest neighbors model is trained.\n",
        "\n",
        "Only one hyperparameter is tuned for this algorithm, which is the number of neighbors."
      ]
    },
    {
      "cell_type": "code",
      "metadata": {
        "id": "PNZkM1LFDaae"
      },
      "source": [
        "def tune_knn(n_neighbors_values, x_train, x_test, y_train, y_test):\n",
        "  results = []\n",
        "\n",
        "  for value in n_neighbors_values:\n",
        "    knn_model = KNeighborsClassifier(n_neighbors=value)\n",
        "    knn_model.fit(x_train, y_train) \n",
        "\n",
        "    train_predictions = knn_model.predict(x_train)\n",
        "    train_f_score = f1_score(y_train, train_predictions, average='macro')\n",
        "\n",
        "    predictions = knn_model.predict(x_test)\n",
        "    f_score = f1_score(y_test, predictions, average='macro')\n",
        "  \n",
        "    results.append({'n_neighbors' : value, 'Training score' : train_f_score, 'Testing score' : f_score})\n",
        "\n",
        "  return results"
      ],
      "execution_count": null,
      "outputs": []
    },
    {
      "cell_type": "code",
      "metadata": {
        "colab": {
          "base_uri": "https://localhost:8080/",
          "height": 204
        },
        "id": "K5qG2DycEtQb",
        "outputId": "545b08fc-6ab5-41e9-962d-47cc65423445"
      },
      "source": [
        "results = tune_knn([1, 2, 3, 4, 5], x_train, x_test, y_train, y_test)\n",
        "pd.DataFrame(results)"
      ],
      "execution_count": null,
      "outputs": [
        {
          "output_type": "execute_result",
          "data": {
            "text/html": [
              "<div>\n",
              "<style scoped>\n",
              "    .dataframe tbody tr th:only-of-type {\n",
              "        vertical-align: middle;\n",
              "    }\n",
              "\n",
              "    .dataframe tbody tr th {\n",
              "        vertical-align: top;\n",
              "    }\n",
              "\n",
              "    .dataframe thead th {\n",
              "        text-align: right;\n",
              "    }\n",
              "</style>\n",
              "<table border=\"1\" class=\"dataframe\">\n",
              "  <thead>\n",
              "    <tr style=\"text-align: right;\">\n",
              "      <th></th>\n",
              "      <th>n_neighbors</th>\n",
              "      <th>Training score</th>\n",
              "      <th>Testing score</th>\n",
              "    </tr>\n",
              "  </thead>\n",
              "  <tbody>\n",
              "    <tr>\n",
              "      <th>0</th>\n",
              "      <td>1</td>\n",
              "      <td>1.000000</td>\n",
              "      <td>0.616610</td>\n",
              "    </tr>\n",
              "    <tr>\n",
              "      <th>1</th>\n",
              "      <td>2</td>\n",
              "      <td>0.871035</td>\n",
              "      <td>0.683894</td>\n",
              "    </tr>\n",
              "    <tr>\n",
              "      <th>2</th>\n",
              "      <td>3</td>\n",
              "      <td>0.761917</td>\n",
              "      <td>0.623795</td>\n",
              "    </tr>\n",
              "    <tr>\n",
              "      <th>3</th>\n",
              "      <td>4</td>\n",
              "      <td>0.724030</td>\n",
              "      <td>0.604297</td>\n",
              "    </tr>\n",
              "    <tr>\n",
              "      <th>4</th>\n",
              "      <td>5</td>\n",
              "      <td>0.665124</td>\n",
              "      <td>0.524874</td>\n",
              "    </tr>\n",
              "  </tbody>\n",
              "</table>\n",
              "</div>"
            ],
            "text/plain": [
              "   n_neighbors  Training score  Testing score\n",
              "0            1        1.000000       0.616610\n",
              "1            2        0.871035       0.683894\n",
              "2            3        0.761917       0.623795\n",
              "3            4        0.724030       0.604297\n",
              "4            5        0.665124       0.524874"
            ]
          },
          "metadata": {
            "tags": []
          },
          "execution_count": 26
        }
      ]
    },
    {
      "cell_type": "markdown",
      "metadata": {
        "id": "__fzl7GVo-Yw"
      },
      "source": [
        "It can be see that the model that perform the best uses n_neighbors = 2, and it has a final f score of 0.871035 on training and 0.683894 on testing."
      ]
    },
    {
      "cell_type": "markdown",
      "metadata": {
        "id": "besLlO6YFB6Z"
      },
      "source": [
        "# Evaluation and conclusion"
      ]
    },
    {
      "cell_type": "markdown",
      "metadata": {
        "id": "pb9aPCp6ptZ0"
      },
      "source": [
        "At this moment, all the models have been trained and tuned.\n",
        "\n",
        "In order to better check their overall accuracy, I have decided to compare all the trained models with a dummy classifier that uses the tactic of always predicting the most common class, that for this dataset is the class three, which is the classification of the 75% of the dataset.  "
      ]
    },
    {
      "cell_type": "code",
      "metadata": {
        "colab": {
          "base_uri": "https://localhost:8080/"
        },
        "id": "r7pO1WPQFFWA",
        "outputId": "f801ddf3-9bd7-4b30-bc6a-514803ea3c27"
      },
      "source": [
        "train_f_score = f1_score(y_train, [3 for i in range(len(y_train))], average='macro')\n",
        "\n",
        "f_score = f1_score(y_test, [3 for i in range(len(y_test))], average='macro')\n",
        "\n",
        "print(\"Dummy classifier, f-score at training: %f, f-score at testing: %f\"%(train_f_score, f_score))"
      ],
      "execution_count": null,
      "outputs": [
        {
          "output_type": "stream",
          "text": [
            "Dummy classifier, f-score at training: 0.230119, f-score at testing: 0.228556\n"
          ],
          "name": "stdout"
        }
      ]
    },
    {
      "cell_type": "code",
      "metadata": {
        "colab": {
          "base_uri": "https://localhost:8080/",
          "height": 173
        },
        "id": "bNXSA-ZnGRvj",
        "outputId": "92ebdc83-66f7-48c2-f110-e327afab55b9"
      },
      "source": [
        "final_results = [{'model': 'xgBoost', 'f-score in training': 1.000000, 'f-score in testing': 0.801809},\n",
        "                 {'model': 'SVM', 'f-score in training': 0.748360, 'f-score in testing': 0.734410},\n",
        "                 {'model': 'k-NN', 'f-score in training': 0.871035, 'f-score in testing': 0.683894},\n",
        "                 {'model': 'Dummy', 'f-score in training': 0.230119, 'f-score in testing': 0.228556}\n",
        "]\n",
        "pd.DataFrame(final_results)"
      ],
      "execution_count": null,
      "outputs": [
        {
          "output_type": "execute_result",
          "data": {
            "text/html": [
              "<div>\n",
              "<style scoped>\n",
              "    .dataframe tbody tr th:only-of-type {\n",
              "        vertical-align: middle;\n",
              "    }\n",
              "\n",
              "    .dataframe tbody tr th {\n",
              "        vertical-align: top;\n",
              "    }\n",
              "\n",
              "    .dataframe thead th {\n",
              "        text-align: right;\n",
              "    }\n",
              "</style>\n",
              "<table border=\"1\" class=\"dataframe\">\n",
              "  <thead>\n",
              "    <tr style=\"text-align: right;\">\n",
              "      <th></th>\n",
              "      <th>model</th>\n",
              "      <th>f-score in training</th>\n",
              "      <th>f-score in testing</th>\n",
              "    </tr>\n",
              "  </thead>\n",
              "  <tbody>\n",
              "    <tr>\n",
              "      <th>0</th>\n",
              "      <td>xgBoost</td>\n",
              "      <td>1.000000</td>\n",
              "      <td>0.801809</td>\n",
              "    </tr>\n",
              "    <tr>\n",
              "      <th>1</th>\n",
              "      <td>SVM</td>\n",
              "      <td>0.748360</td>\n",
              "      <td>0.734410</td>\n",
              "    </tr>\n",
              "    <tr>\n",
              "      <th>2</th>\n",
              "      <td>k-NN</td>\n",
              "      <td>0.871035</td>\n",
              "      <td>0.683894</td>\n",
              "    </tr>\n",
              "    <tr>\n",
              "      <th>3</th>\n",
              "      <td>Dummy</td>\n",
              "      <td>0.230119</td>\n",
              "      <td>0.228556</td>\n",
              "    </tr>\n",
              "  </tbody>\n",
              "</table>\n",
              "</div>"
            ],
            "text/plain": [
              "     model  f-score in training  f-score in testing\n",
              "0  xgBoost             1.000000            0.801809\n",
              "1      SVM             0.748360            0.734410\n",
              "2     k-NN             0.871035            0.683894\n",
              "3    Dummy             0.230119            0.228556"
            ]
          },
          "metadata": {
            "tags": []
          },
          "execution_count": 28
        }
      ]
    },
    {
      "cell_type": "markdown",
      "metadata": {
        "id": "t1VwXPfrqiCX"
      },
      "source": [
        "It can be seen that after the data mining process, the best model out of all that have been trained is the xgBoost model, which besides being able to correctly classify all the elements of the training set, **has a final f-score of 0.801809** when validated with the test set. \n",
        "\n",
        "Also, it can be seen that all the trained models are significantly more accurate than the dummy model, which is only able to get a final f-score of 0.229556."
      ]
    }
  ]
}